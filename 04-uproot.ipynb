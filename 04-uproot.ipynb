{
 "cells": [
  {
   "cell_type": "markdown",
   "metadata": {},
   "source": [
    "<br><br><br><br><br>\n",
    "\n",
    "# uproot: array-based ROOT I/O\n",
    "\n",
    "<br><br><br><br><br>"
   ]
  },
  {
   "cell_type": "code",
   "execution_count": 3,
   "metadata": {},
   "outputs": [
    {
     "data": {
      "text/plain": [
       "[b'one;1', b'three;1']"
      ]
     },
     "execution_count": 3,
     "metadata": {},
     "output_type": "execute_result"
    }
   ],
   "source": [
    "# Uproot presents files and subdirectories with the same interface as Python dicts.\n",
    "\n",
    "import uproot\n",
    "file = uproot.open(\"http://scikit-hep.org/uproot/examples/nesteddirs.root\")\n",
    "file.keys()\n",
    "\n",
    "# Exercise: how many objects named \"tree\" does this file contain?\n",
    "# \n",
    "# (https://uproot.readthedocs.io/en/latest/root-io.html#uproot-rootio-rootdirectory)"
   ]
  },
  {
   "cell_type": "code",
   "execution_count": 4,
   "metadata": {},
   "outputs": [
    {
     "data": {
      "text/plain": [
       "[b'Type',\n",
       " b'Run',\n",
       " b'Event',\n",
       " b'E1',\n",
       " b'px1',\n",
       " b'py1',\n",
       " b'pz1',\n",
       " b'pt1',\n",
       " b'eta1',\n",
       " b'phi1',\n",
       " b'Q1',\n",
       " b'E2',\n",
       " b'px2',\n",
       " b'py2',\n",
       " b'pz2',\n",
       " b'pt2',\n",
       " b'eta2',\n",
       " b'phi2',\n",
       " b'Q2',\n",
       " b'M']"
      ]
     },
     "execution_count": 4,
     "metadata": {},
     "output_type": "execute_result"
    }
   ],
   "source": [
    "# TTrees are also presented like Python dicts.\n",
    "\n",
    "events = uproot.open(\"data/Zmumu.root\")[\"events\"]\n",
    "events.keys()"
   ]
  },
  {
   "cell_type": "code",
   "execution_count": 142,
   "metadata": {},
   "outputs": [
    {
     "name": "stdout",
     "output_type": "stream",
     "text": [
      "[82.20186639 62.34492895 62.34492895 ... 81.27013558 81.27013558\n",
      " 81.56621735]\n",
      "\n",
      "{b'E1': array([82.20186639, 62.34492895, 62.34492895, ..., 81.27013558,\n",
      "       81.27013558, 81.56621735]), b'px1': array([-41.19528764,  35.11804977,  35.11804977, ...,  32.37749196,\n",
      "        32.37749196,  32.48539387]), b'py1': array([ 17.4332439 , -16.57036233, -16.57036233, ...,   1.19940578,\n",
      "         1.19940578,   1.2013503 ]), b'pz1': array([-68.96496181, -48.77524654, -48.77524654, ..., -74.53243061,\n",
      "       -74.53243061, -74.80837247])}\n"
     ]
    }
   ],
   "source": [
    "# And there are functions with names like array (singular) and arrays (plural) to get one or more arrays.\n",
    "\n",
    "print(events.array(\"E1\"), end=\"\\n\\n\")\n",
    "\n",
    "print(events.arrays([\"E1\", \"px1\", \"py1\", \"pz1\"]))"
   ]
  },
  {
   "cell_type": "code",
   "execution_count": 143,
   "metadata": {},
   "outputs": [
    {
     "data": {
      "text/plain": [
       "{'E1': array([82.20186639, 62.34492895, 62.34492895, ..., 81.27013558,\n",
       "        81.27013558, 81.56621735]),\n",
       " 'px1': array([-41.19528764,  35.11804977,  35.11804977, ...,  32.37749196,\n",
       "         32.37749196,  32.48539387]),\n",
       " 'py1': array([ 17.4332439 , -16.57036233, -16.57036233, ...,   1.19940578,\n",
       "          1.19940578,   1.2013503 ]),\n",
       " 'pz1': array([-68.96496181, -48.77524654, -48.77524654, ..., -74.53243061,\n",
       "        -74.53243061, -74.80837247])}"
      ]
     },
     "execution_count": 143,
     "metadata": {},
     "output_type": "execute_result"
    }
   ],
   "source": [
    "# Some tricks for arrays (plural): (1) specify an encoding to get strings, rather than raw bytes, as dict keys:\n",
    "\n",
    "events.arrays([\"E1\", \"px1\", \"py1\", \"pz1\"], namedecode=\"utf-8\")"
   ]
  },
  {
   "cell_type": "code",
   "execution_count": 144,
   "metadata": {},
   "outputs": [
    {
     "data": {
      "text/plain": [
       "(array([82.20186639, 62.34492895, 62.34492895, ..., 81.27013558,\n",
       "        81.27013558, 81.56621735]),\n",
       " array([-41.19528764,  35.11804977,  35.11804977, ...,  32.37749196,\n",
       "         32.37749196,  32.48539387]),\n",
       " array([ 17.4332439 , -16.57036233, -16.57036233, ...,   1.19940578,\n",
       "          1.19940578,   1.2013503 ]),\n",
       " array([-68.96496181, -48.77524654, -48.77524654, ..., -74.53243061,\n",
       "        -74.53243061, -74.80837247]))"
      ]
     },
     "execution_count": 144,
     "metadata": {},
     "output_type": "execute_result"
    }
   ],
   "source": [
    "# Some tricks for arrays (plural): (2) specify an output type to wrap them in a different container:\n",
    "\n",
    "events.arrays([\"E1\", \"px1\", \"py1\", \"pz1\"], outputtype=tuple)"
   ]
  },
  {
   "cell_type": "code",
   "execution_count": 145,
   "metadata": {},
   "outputs": [
    {
     "data": {
      "text/html": [
       "<div>\n",
       "<style scoped>\n",
       "    .dataframe tbody tr th:only-of-type {\n",
       "        vertical-align: middle;\n",
       "    }\n",
       "\n",
       "    .dataframe tbody tr th {\n",
       "        vertical-align: top;\n",
       "    }\n",
       "\n",
       "    .dataframe thead th {\n",
       "        text-align: right;\n",
       "    }\n",
       "</style>\n",
       "<table border=\"1\" class=\"dataframe\">\n",
       "  <thead>\n",
       "    <tr style=\"text-align: right;\">\n",
       "      <th></th>\n",
       "      <th>E1</th>\n",
       "      <th>px1</th>\n",
       "      <th>py1</th>\n",
       "      <th>pz1</th>\n",
       "    </tr>\n",
       "    <tr>\n",
       "      <th>entry</th>\n",
       "      <th></th>\n",
       "      <th></th>\n",
       "      <th></th>\n",
       "      <th></th>\n",
       "    </tr>\n",
       "  </thead>\n",
       "  <tbody>\n",
       "    <tr>\n",
       "      <th>0</th>\n",
       "      <td>82.201866</td>\n",
       "      <td>-41.195288</td>\n",
       "      <td>17.433244</td>\n",
       "      <td>-68.964962</td>\n",
       "    </tr>\n",
       "    <tr>\n",
       "      <th>1</th>\n",
       "      <td>62.344929</td>\n",
       "      <td>35.118050</td>\n",
       "      <td>-16.570362</td>\n",
       "      <td>-48.775247</td>\n",
       "    </tr>\n",
       "    <tr>\n",
       "      <th>2</th>\n",
       "      <td>62.344929</td>\n",
       "      <td>35.118050</td>\n",
       "      <td>-16.570362</td>\n",
       "      <td>-48.775247</td>\n",
       "    </tr>\n",
       "    <tr>\n",
       "      <th>3</th>\n",
       "      <td>60.621875</td>\n",
       "      <td>34.144437</td>\n",
       "      <td>-16.119525</td>\n",
       "      <td>-47.426984</td>\n",
       "    </tr>\n",
       "    <tr>\n",
       "      <th>4</th>\n",
       "      <td>41.826389</td>\n",
       "      <td>22.783582</td>\n",
       "      <td>15.036444</td>\n",
       "      <td>-31.689894</td>\n",
       "    </tr>\n",
       "    <tr>\n",
       "      <th>5</th>\n",
       "      <td>48.981407</td>\n",
       "      <td>-19.862307</td>\n",
       "      <td>-9.204225</td>\n",
       "      <td>43.817098</td>\n",
       "    </tr>\n",
       "    <tr>\n",
       "      <th>6</th>\n",
       "      <td>48.981407</td>\n",
       "      <td>-19.862307</td>\n",
       "      <td>-9.204225</td>\n",
       "      <td>43.817098</td>\n",
       "    </tr>\n",
       "    <tr>\n",
       "      <th>7</th>\n",
       "      <td>49.760726</td>\n",
       "      <td>-20.177373</td>\n",
       "      <td>-9.354149</td>\n",
       "      <td>44.513955</td>\n",
       "    </tr>\n",
       "    <tr>\n",
       "      <th>8</th>\n",
       "      <td>132.780755</td>\n",
       "      <td>71.143711</td>\n",
       "      <td>29.542308</td>\n",
       "      <td>-108.150553</td>\n",
       "    </tr>\n",
       "    <tr>\n",
       "      <th>9</th>\n",
       "      <td>88.078330</td>\n",
       "      <td>51.050486</td>\n",
       "      <td>-51.849400</td>\n",
       "      <td>-49.631328</td>\n",
       "    </tr>\n",
       "    <tr>\n",
       "      <th>10</th>\n",
       "      <td>88.078330</td>\n",
       "      <td>51.050486</td>\n",
       "      <td>-51.849400</td>\n",
       "      <td>-49.631328</td>\n",
       "    </tr>\n",
       "    <tr>\n",
       "      <th>11</th>\n",
       "      <td>87.795659</td>\n",
       "      <td>50.870937</td>\n",
       "      <td>-51.669728</td>\n",
       "      <td>-49.502056</td>\n",
       "    </tr>\n",
       "    <tr>\n",
       "      <th>12</th>\n",
       "      <td>48.619144</td>\n",
       "      <td>44.406988</td>\n",
       "      <td>-3.132003</td>\n",
       "      <td>19.545333</td>\n",
       "    </tr>\n",
       "    <tr>\n",
       "      <th>13</th>\n",
       "      <td>46.404351</td>\n",
       "      <td>-39.208844</td>\n",
       "      <td>10.779752</td>\n",
       "      <td>-22.356568</td>\n",
       "    </tr>\n",
       "    <tr>\n",
       "      <th>14</th>\n",
       "      <td>46.404351</td>\n",
       "      <td>-39.208844</td>\n",
       "      <td>10.779752</td>\n",
       "      <td>-22.356568</td>\n",
       "    </tr>\n",
       "    <tr>\n",
       "      <th>15</th>\n",
       "      <td>46.519913</td>\n",
       "      <td>-39.306485</td>\n",
       "      <td>10.807865</td>\n",
       "      <td>-22.411636</td>\n",
       "    </tr>\n",
       "    <tr>\n",
       "      <th>16</th>\n",
       "      <td>57.368150</td>\n",
       "      <td>27.249788</td>\n",
       "      <td>3.083568</td>\n",
       "      <td>-50.388830</td>\n",
       "    </tr>\n",
       "    <tr>\n",
       "      <th>17</th>\n",
       "      <td>80.894157</td>\n",
       "      <td>-42.020547</td>\n",
       "      <td>-5.051576</td>\n",
       "      <td>-68.939166</td>\n",
       "    </tr>\n",
       "    <tr>\n",
       "      <th>18</th>\n",
       "      <td>80.894157</td>\n",
       "      <td>-42.020547</td>\n",
       "      <td>-5.051576</td>\n",
       "      <td>-68.939166</td>\n",
       "    </tr>\n",
       "    <tr>\n",
       "      <th>19</th>\n",
       "      <td>81.311450</td>\n",
       "      <td>-42.242553</td>\n",
       "      <td>-5.076551</td>\n",
       "      <td>-69.291673</td>\n",
       "    </tr>\n",
       "    <tr>\n",
       "      <th>20</th>\n",
       "      <td>79.487794</td>\n",
       "      <td>-27.243260</td>\n",
       "      <td>-23.405122</td>\n",
       "      <td>70.910530</td>\n",
       "    </tr>\n",
       "    <tr>\n",
       "      <th>21</th>\n",
       "      <td>50.507597</td>\n",
       "      <td>33.674921</td>\n",
       "      <td>29.653424</td>\n",
       "      <td>23.187934</td>\n",
       "    </tr>\n",
       "    <tr>\n",
       "      <th>22</th>\n",
       "      <td>50.507597</td>\n",
       "      <td>33.674921</td>\n",
       "      <td>29.653424</td>\n",
       "      <td>23.187934</td>\n",
       "    </tr>\n",
       "    <tr>\n",
       "      <th>23</th>\n",
       "      <td>50.592111</td>\n",
       "      <td>33.728272</td>\n",
       "      <td>29.701482</td>\n",
       "      <td>23.233082</td>\n",
       "    </tr>\n",
       "    <tr>\n",
       "      <th>24</th>\n",
       "      <td>41.470909</td>\n",
       "      <td>-2.951523</td>\n",
       "      <td>-36.093120</td>\n",
       "      <td>-20.208917</td>\n",
       "    </tr>\n",
       "    <tr>\n",
       "      <th>25</th>\n",
       "      <td>55.392978</td>\n",
       "      <td>3.996323</td>\n",
       "      <td>40.211907</td>\n",
       "      <td>37.886709</td>\n",
       "    </tr>\n",
       "    <tr>\n",
       "      <th>26</th>\n",
       "      <td>55.392978</td>\n",
       "      <td>3.996323</td>\n",
       "      <td>40.211907</td>\n",
       "      <td>37.886709</td>\n",
       "    </tr>\n",
       "    <tr>\n",
       "      <th>27</th>\n",
       "      <td>55.542907</td>\n",
       "      <td>4.007466</td>\n",
       "      <td>40.319935</td>\n",
       "      <td>37.990083</td>\n",
       "    </tr>\n",
       "    <tr>\n",
       "      <th>28</th>\n",
       "      <td>112.883981</td>\n",
       "      <td>-2.419678</td>\n",
       "      <td>-45.436617</td>\n",
       "      <td>-103.307507</td>\n",
       "    </tr>\n",
       "    <tr>\n",
       "      <th>29</th>\n",
       "      <td>31.419951</td>\n",
       "      <td>-5.911541</td>\n",
       "      <td>30.099173</td>\n",
       "      <td>-6.804086</td>\n",
       "    </tr>\n",
       "    <tr>\n",
       "      <th>...</th>\n",
       "      <td>...</td>\n",
       "      <td>...</td>\n",
       "      <td>...</td>\n",
       "      <td>...</td>\n",
       "    </tr>\n",
       "    <tr>\n",
       "      <th>2274</th>\n",
       "      <td>23.712817</td>\n",
       "      <td>16.962188</td>\n",
       "      <td>-15.219455</td>\n",
       "      <td>6.552776</td>\n",
       "    </tr>\n",
       "    <tr>\n",
       "      <th>2275</th>\n",
       "      <td>23.684190</td>\n",
       "      <td>16.941295</td>\n",
       "      <td>-15.201413</td>\n",
       "      <td>6.545172</td>\n",
       "    </tr>\n",
       "    <tr>\n",
       "      <th>2276</th>\n",
       "      <td>66.967245</td>\n",
       "      <td>-56.585255</td>\n",
       "      <td>10.765311</td>\n",
       "      <td>-34.158714</td>\n",
       "    </tr>\n",
       "    <tr>\n",
       "      <th>2277</th>\n",
       "      <td>33.717409</td>\n",
       "      <td>32.980637</td>\n",
       "      <td>-1.925555</td>\n",
       "      <td>-6.739611</td>\n",
       "    </tr>\n",
       "    <tr>\n",
       "      <th>2278</th>\n",
       "      <td>33.717409</td>\n",
       "      <td>32.980637</td>\n",
       "      <td>-1.925555</td>\n",
       "      <td>-6.739611</td>\n",
       "    </tr>\n",
       "    <tr>\n",
       "      <th>2279</th>\n",
       "      <td>33.853678</td>\n",
       "      <td>33.113825</td>\n",
       "      <td>-1.934790</td>\n",
       "      <td>-6.766947</td>\n",
       "    </tr>\n",
       "    <tr>\n",
       "      <th>2280</th>\n",
       "      <td>42.580187</td>\n",
       "      <td>-36.045090</td>\n",
       "      <td>-8.456551</td>\n",
       "      <td>-21.030915</td>\n",
       "    </tr>\n",
       "    <tr>\n",
       "      <th>2281</th>\n",
       "      <td>53.526322</td>\n",
       "      <td>36.668310</td>\n",
       "      <td>38.486189</td>\n",
       "      <td>6.269309</td>\n",
       "    </tr>\n",
       "    <tr>\n",
       "      <th>2282</th>\n",
       "      <td>53.526322</td>\n",
       "      <td>36.668310</td>\n",
       "      <td>38.486189</td>\n",
       "      <td>6.269309</td>\n",
       "    </tr>\n",
       "    <tr>\n",
       "      <th>2283</th>\n",
       "      <td>53.508055</td>\n",
       "      <td>36.655204</td>\n",
       "      <td>38.472433</td>\n",
       "      <td>6.274452</td>\n",
       "    </tr>\n",
       "    <tr>\n",
       "      <th>2284</th>\n",
       "      <td>46.432408</td>\n",
       "      <td>22.435607</td>\n",
       "      <td>-22.743227</td>\n",
       "      <td>-33.694904</td>\n",
       "    </tr>\n",
       "    <tr>\n",
       "      <th>2285</th>\n",
       "      <td>52.581357</td>\n",
       "      <td>4.606652</td>\n",
       "      <td>43.856122</td>\n",
       "      <td>28.639261</td>\n",
       "    </tr>\n",
       "    <tr>\n",
       "      <th>2286</th>\n",
       "      <td>52.581357</td>\n",
       "      <td>4.606652</td>\n",
       "      <td>43.856122</td>\n",
       "      <td>28.639261</td>\n",
       "    </tr>\n",
       "    <tr>\n",
       "      <th>2287</th>\n",
       "      <td>52.533500</td>\n",
       "      <td>4.603120</td>\n",
       "      <td>43.818284</td>\n",
       "      <td>28.609906</td>\n",
       "    </tr>\n",
       "    <tr>\n",
       "      <th>2288</th>\n",
       "      <td>45.205618</td>\n",
       "      <td>-41.878716</td>\n",
       "      <td>2.697471</td>\n",
       "      <td>-16.805758</td>\n",
       "    </tr>\n",
       "    <tr>\n",
       "      <th>2289</th>\n",
       "      <td>58.235411</td>\n",
       "      <td>47.751704</td>\n",
       "      <td>9.223864</td>\n",
       "      <td>-32.031970</td>\n",
       "    </tr>\n",
       "    <tr>\n",
       "      <th>2290</th>\n",
       "      <td>58.235411</td>\n",
       "      <td>47.751704</td>\n",
       "      <td>9.223864</td>\n",
       "      <td>-32.031970</td>\n",
       "    </tr>\n",
       "    <tr>\n",
       "      <th>2291</th>\n",
       "      <td>58.054571</td>\n",
       "      <td>47.607872</td>\n",
       "      <td>9.197612</td>\n",
       "      <td>-31.925170</td>\n",
       "    </tr>\n",
       "    <tr>\n",
       "      <th>2292</th>\n",
       "      <td>107.167787</td>\n",
       "      <td>-15.258505</td>\n",
       "      <td>-33.719314</td>\n",
       "      <td>100.573900</td>\n",
       "    </tr>\n",
       "    <tr>\n",
       "      <th>2293</th>\n",
       "      <td>35.364583</td>\n",
       "      <td>12.966984</td>\n",
       "      <td>30.974506</td>\n",
       "      <td>11.094139</td>\n",
       "    </tr>\n",
       "    <tr>\n",
       "      <th>2294</th>\n",
       "      <td>35.364583</td>\n",
       "      <td>12.966984</td>\n",
       "      <td>30.974506</td>\n",
       "      <td>11.094139</td>\n",
       "    </tr>\n",
       "    <tr>\n",
       "      <th>2295</th>\n",
       "      <td>35.460376</td>\n",
       "      <td>13.001270</td>\n",
       "      <td>31.059021</td>\n",
       "      <td>11.123455</td>\n",
       "    </tr>\n",
       "    <tr>\n",
       "      <th>2296</th>\n",
       "      <td>27.742542</td>\n",
       "      <td>-16.891371</td>\n",
       "      <td>-15.335677</td>\n",
       "      <td>-15.784044</td>\n",
       "    </tr>\n",
       "    <tr>\n",
       "      <th>2297</th>\n",
       "      <td>32.676344</td>\n",
       "      <td>19.037577</td>\n",
       "      <td>14.820723</td>\n",
       "      <td>22.037447</td>\n",
       "    </tr>\n",
       "    <tr>\n",
       "      <th>2298</th>\n",
       "      <td>32.676344</td>\n",
       "      <td>19.037577</td>\n",
       "      <td>14.820723</td>\n",
       "      <td>22.037447</td>\n",
       "    </tr>\n",
       "    <tr>\n",
       "      <th>2299</th>\n",
       "      <td>32.701650</td>\n",
       "      <td>19.054651</td>\n",
       "      <td>14.833954</td>\n",
       "      <td>22.051323</td>\n",
       "    </tr>\n",
       "    <tr>\n",
       "      <th>2300</th>\n",
       "      <td>168.780121</td>\n",
       "      <td>-68.041915</td>\n",
       "      <td>-26.105847</td>\n",
       "      <td>-152.235018</td>\n",
       "    </tr>\n",
       "    <tr>\n",
       "      <th>2301</th>\n",
       "      <td>81.270136</td>\n",
       "      <td>32.377492</td>\n",
       "      <td>1.199406</td>\n",
       "      <td>-74.532431</td>\n",
       "    </tr>\n",
       "    <tr>\n",
       "      <th>2302</th>\n",
       "      <td>81.270136</td>\n",
       "      <td>32.377492</td>\n",
       "      <td>1.199406</td>\n",
       "      <td>-74.532431</td>\n",
       "    </tr>\n",
       "    <tr>\n",
       "      <th>2303</th>\n",
       "      <td>81.566217</td>\n",
       "      <td>32.485394</td>\n",
       "      <td>1.201350</td>\n",
       "      <td>-74.808372</td>\n",
       "    </tr>\n",
       "  </tbody>\n",
       "</table>\n",
       "<p>2304 rows × 4 columns</p>\n",
       "</div>"
      ],
      "text/plain": [
       "               E1        px1        py1         pz1\n",
       "entry                                              \n",
       "0       82.201866 -41.195288  17.433244  -68.964962\n",
       "1       62.344929  35.118050 -16.570362  -48.775247\n",
       "2       62.344929  35.118050 -16.570362  -48.775247\n",
       "3       60.621875  34.144437 -16.119525  -47.426984\n",
       "4       41.826389  22.783582  15.036444  -31.689894\n",
       "5       48.981407 -19.862307  -9.204225   43.817098\n",
       "6       48.981407 -19.862307  -9.204225   43.817098\n",
       "7       49.760726 -20.177373  -9.354149   44.513955\n",
       "8      132.780755  71.143711  29.542308 -108.150553\n",
       "9       88.078330  51.050486 -51.849400  -49.631328\n",
       "10      88.078330  51.050486 -51.849400  -49.631328\n",
       "11      87.795659  50.870937 -51.669728  -49.502056\n",
       "12      48.619144  44.406988  -3.132003   19.545333\n",
       "13      46.404351 -39.208844  10.779752  -22.356568\n",
       "14      46.404351 -39.208844  10.779752  -22.356568\n",
       "15      46.519913 -39.306485  10.807865  -22.411636\n",
       "16      57.368150  27.249788   3.083568  -50.388830\n",
       "17      80.894157 -42.020547  -5.051576  -68.939166\n",
       "18      80.894157 -42.020547  -5.051576  -68.939166\n",
       "19      81.311450 -42.242553  -5.076551  -69.291673\n",
       "20      79.487794 -27.243260 -23.405122   70.910530\n",
       "21      50.507597  33.674921  29.653424   23.187934\n",
       "22      50.507597  33.674921  29.653424   23.187934\n",
       "23      50.592111  33.728272  29.701482   23.233082\n",
       "24      41.470909  -2.951523 -36.093120  -20.208917\n",
       "25      55.392978   3.996323  40.211907   37.886709\n",
       "26      55.392978   3.996323  40.211907   37.886709\n",
       "27      55.542907   4.007466  40.319935   37.990083\n",
       "28     112.883981  -2.419678 -45.436617 -103.307507\n",
       "29      31.419951  -5.911541  30.099173   -6.804086\n",
       "...           ...        ...        ...         ...\n",
       "2274    23.712817  16.962188 -15.219455    6.552776\n",
       "2275    23.684190  16.941295 -15.201413    6.545172\n",
       "2276    66.967245 -56.585255  10.765311  -34.158714\n",
       "2277    33.717409  32.980637  -1.925555   -6.739611\n",
       "2278    33.717409  32.980637  -1.925555   -6.739611\n",
       "2279    33.853678  33.113825  -1.934790   -6.766947\n",
       "2280    42.580187 -36.045090  -8.456551  -21.030915\n",
       "2281    53.526322  36.668310  38.486189    6.269309\n",
       "2282    53.526322  36.668310  38.486189    6.269309\n",
       "2283    53.508055  36.655204  38.472433    6.274452\n",
       "2284    46.432408  22.435607 -22.743227  -33.694904\n",
       "2285    52.581357   4.606652  43.856122   28.639261\n",
       "2286    52.581357   4.606652  43.856122   28.639261\n",
       "2287    52.533500   4.603120  43.818284   28.609906\n",
       "2288    45.205618 -41.878716   2.697471  -16.805758\n",
       "2289    58.235411  47.751704   9.223864  -32.031970\n",
       "2290    58.235411  47.751704   9.223864  -32.031970\n",
       "2291    58.054571  47.607872   9.197612  -31.925170\n",
       "2292   107.167787 -15.258505 -33.719314  100.573900\n",
       "2293    35.364583  12.966984  30.974506   11.094139\n",
       "2294    35.364583  12.966984  30.974506   11.094139\n",
       "2295    35.460376  13.001270  31.059021   11.123455\n",
       "2296    27.742542 -16.891371 -15.335677  -15.784044\n",
       "2297    32.676344  19.037577  14.820723   22.037447\n",
       "2298    32.676344  19.037577  14.820723   22.037447\n",
       "2299    32.701650  19.054651  14.833954   22.051323\n",
       "2300   168.780121 -68.041915 -26.105847 -152.235018\n",
       "2301    81.270136  32.377492   1.199406  -74.532431\n",
       "2302    81.270136  32.377492   1.199406  -74.532431\n",
       "2303    81.566217  32.485394   1.201350  -74.808372\n",
       "\n",
       "[2304 rows x 4 columns]"
      ]
     },
     "execution_count": 145,
     "metadata": {},
     "output_type": "execute_result"
    }
   ],
   "source": [
    "# Some tricks for arrays (plural): (2) specify an output type to wrap them in a different container:\n",
    "# (see also https://uproot.readthedocs.io/en/latest/ttree-handling.html#uproot._connect._pandas.TTreeMethods_pandas.df)\n",
    "\n",
    "import pandas\n",
    "events.arrays([\"E1\", \"px1\", \"py1\", \"pz1\"], outputtype=pandas.DataFrame)"
   ]
  },
  {
   "cell_type": "code",
   "execution_count": 150,
   "metadata": {},
   "outputs": [
    {
     "data": {
      "text/plain": [
       "{b'Event': array([10507008, 10507008, 10507008, ..., 99991333, 99991333, 99991333],\n",
       "       dtype=int32),\n",
       " b'E1': array([82.20186639, 62.34492895, 62.34492895, ..., 81.27013558,\n",
       "        81.27013558, 81.56621735]),\n",
       " b'E2': array([ 60.62187459,  82.20186639,  81.58277833, ..., 168.78012134,\n",
       "        170.58313243, 170.58313243]),\n",
       " b'px1': array([-41.19528764,  35.11804977,  35.11804977, ...,  32.37749196,\n",
       "         32.37749196,  32.48539387]),\n",
       " b'py1': array([ 17.4332439 , -16.57036233, -16.57036233, ...,   1.19940578,\n",
       "          1.19940578,   1.2013503 ]),\n",
       " b'pz1': array([-68.96496181, -48.77524654, -48.77524654, ..., -74.53243061,\n",
       "        -74.53243061, -74.80837247])}"
      ]
     },
     "execution_count": 150,
     "metadata": {},
     "output_type": "execute_result"
    }
   ],
   "source": [
    "# Some tricks for arrays (plural): (3a) use filename wildcards (*, ?, [...]) to select by name-pattern.\n",
    "\n",
    "events.arrays([\"E*\", \"p[xyz]1\"])"
   ]
  },
  {
   "cell_type": "code",
   "execution_count": 152,
   "metadata": {},
   "outputs": [
    {
     "data": {
      "text/plain": [
       "{b'Event': array([10507008, 10507008, 10507008, ..., 99991333, 99991333, 99991333],\n",
       "       dtype=int32),\n",
       " b'E1': array([82.20186639, 62.34492895, 62.34492895, ..., 81.27013558,\n",
       "        81.27013558, 81.56621735]),\n",
       " b'E2': array([ 60.62187459,  82.20186639,  81.58277833, ..., 168.78012134,\n",
       "        170.58313243, 170.58313243]),\n",
       " b'px1': array([-41.19528764,  35.11804977,  35.11804977, ...,  32.37749196,\n",
       "         32.37749196,  32.48539387]),\n",
       " b'py1': array([ 17.4332439 , -16.57036233, -16.57036233, ...,   1.19940578,\n",
       "          1.19940578,   1.2013503 ]),\n",
       " b'pz1': array([-68.96496181, -48.77524654, -48.77524654, ..., -74.53243061,\n",
       "        -74.53243061, -74.80837247])}"
      ]
     },
     "execution_count": 152,
     "metadata": {},
     "output_type": "execute_result"
    }
   ],
   "source": [
    "# Some tricks for arrays (plural): (3b) use slashes inside the quotes to use full regular expressions.\n",
    "\n",
    "events.arrays([\"/E.*/\", \"/p[x-z]1/\"])"
   ]
  },
  {
   "cell_type": "markdown",
   "metadata": {},
   "source": [
    "<p style=\"font-size: 2em\">Three basic ways to get data:</p>\n",
    "\n",
    "<table width=\"100%\" style=\"font-size: 1.25em\"><tr>\n",
    "    <td width=\"33%\" style=\"vertical-align: top\">\n",
    "        <p style=\"font-weight: bold; font-size: 1.5em; margin-bottom: 0.5em\">Direct</p>\n",
    "        <p>Read the file and return an array.</p>\n",
    "        <ul>\n",
    "            <li style=\"margin-bottom: 0.3em\"><a href=\"https://uproot.readthedocs.io/en/latest/ttree-handling.html#id11\">TBranch.array</a></li>\n",
    "            <li style=\"margin-bottom: 0.3em\"><a href=\"https://uproot.readthedocs.io/en/latest/ttree-handling.html#array\">TTree.array</a></li>\n",
    "            <li style=\"margin-bottom: 0.3em\"><a href=\"https://uproot.readthedocs.io/en/latest/ttree-handling.html#arrays\">TTree.arrays</a></li>\n",
    "        </ul>\n",
    "    </td><td width=\"33%\" style=\"vertical-align: top\">\n",
    "        <p style=\"font-weight: bold; font-size: 1.5em; margin-bottom: 0.5em\">Lazy</p>\n",
    "        <p>Get an object that reads on demand.</p>\n",
    "        <ul>\n",
    "            <li style=\"margin-bottom: 0.3em\"><a href=\"https://uproot.readthedocs.io/en/latest/ttree-handling.html#id13\">TBranch.lazyarray</a></li>\n",
    "            <li style=\"margin-bottom: 0.3em\"><a href=\"https://uproot.readthedocs.io/en/latest/ttree-handling.html#lazyarray\">TTree.lazyarray</a></li>\n",
    "            <li style=\"margin-bottom: 0.3em\"><a href=\"https://uproot.readthedocs.io/en/latest/ttree-handling.html#lazyarrays\">TTree.lazyarrays</a></li>\n",
    "            <li style=\"margin-bottom: 0.3em\"><a href=\"https://uproot.readthedocs.io/en/latest/opening-files.html#uproot-lazyarray-and-lazyarrays\">uproot.lazyarray</a></li>\n",
    "            <li style=\"margin-bottom: 0.3em\"><a href=\"https://uproot.readthedocs.io/en/latest/opening-files.html#uproot-lazyarray-and-lazyarrays\">uproot.lazyarrays</a></li>\n",
    "        </ul>\n",
    "    </td><td width=\"33%\" style=\"vertical-align: top\">\n",
    "        <p style=\"font-weight: bold; font-size: 1.5em; margin-bottom: 0.5em\">Iterative</p>\n",
    "        <p>Read arrays in batches of entries.</p>\n",
    "        <ul>\n",
    "            <li style=\"margin-bottom: 0.3em\"><a href=\"https://uproot.readthedocs.io/en/latest/ttree-handling.html#iterate\">TTree.iterate</a></li>\n",
    "            <li style=\"margin-bottom: 0.3em\"><a href=\"https://uproot.readthedocs.io/en/latest/opening-files.html#uproot-iterate\">uproot.iterate</a></li>\n",
    "        </ul>\n",
    "    </td>\n",
    "</tr></table>"
   ]
  },
  {
   "cell_type": "code",
   "execution_count": 5,
   "metadata": {},
   "outputs": [
    {
     "data": {
      "text/plain": [
       "array([82.20186639, 62.34492895, 62.34492895, ..., 81.27013558,\n",
       "       81.27013558, 81.56621735])"
      ]
     },
     "execution_count": 5,
     "metadata": {},
     "output_type": "execute_result"
    }
   ],
   "source": [
    "# Direct:\n",
    "\n",
    "events.array(\"E1\")"
   ]
  },
  {
   "cell_type": "code",
   "execution_count": 140,
   "metadata": {},
   "outputs": [
    {
     "data": {
      "text/plain": [
       "<ChunkedArray [82.2018663875 62.3449289481 62.3449289481 ... 81.2701355756 81.2701355756 81.5662173543] at 0x7f39c0214208>"
      ]
     },
     "execution_count": 140,
     "metadata": {},
     "output_type": "execute_result"
    }
   ],
   "source": [
    "# Lazy:\n",
    "\n",
    "array = events.lazyarray(\"E1\", entrysteps=500)\n",
    "# print([len(x) for x in array.chunks])\n",
    "\n",
    "array"
   ]
  },
  {
   "cell_type": "code",
   "execution_count": 10,
   "metadata": {},
   "outputs": [
    {
     "name": "stdout",
     "output_type": "stream",
     "text": [
      "500 [82.20186639 62.34492895 62.34492895 60.62187459 41.82638891]\n",
      "500 [45.7959062  45.7108209  98.03548137 53.53706097 53.53706097]\n",
      "500 [31.4488924  31.4488924  31.39073377 64.85457285 46.92904281]\n",
      "500 [88.35872379 52.5560163  52.5560163  52.38402383 75.34015706]\n",
      "304 [46.0752809  46.0752809  45.93225789 51.01950403 84.91115834]\n"
     ]
    }
   ],
   "source": [
    "# Iterative:\n",
    "\n",
    "for chunk in events.iterate(\"E1\", entrysteps=500):\n",
    "    print(len(chunk[b\"E1\"]), chunk[b\"E1\"][:5])"
   ]
  },
  {
   "cell_type": "markdown",
   "metadata": {},
   "source": [
    "<p style=\"font-size: 2em\">Advantages and disadvantages of each:</p>\n",
    "\n",
    "<table width=\"100%\" style=\"font-size: 1.25em\"><tr>\n",
    "    <td width=\"33%\" style=\"vertical-align: top\">\n",
    "        <p style=\"font-weight: bold; font-size: 1.5em; margin-bottom: 0.5em\">Direct</p>\n",
    "        <p>Simple; most libraries will recognize the Numpy array you get back.</p>\n",
    "    </td><td width=\"33%\" style=\"vertical-align: top\">\n",
    "        <p style=\"font-weight: bold; font-size: 1.5em; margin-bottom: 0.5em\">Lazy</p>\n",
    "        <p>Transparently work on data too large to fit into memory.</p>\n",
    "    </td><td width=\"33%\" style=\"vertical-align: top\">\n",
    "        <p style=\"font-weight: bold; font-size: 1.5em; margin-bottom: 0.5em\">Iterative</p>\n",
    "        <p>Control the loading of data into and out of memory.</p>\n",
    "    </td>\n",
    "</tr></table>"
   ]
  },
  {
   "cell_type": "code",
   "execution_count": 20,
   "metadata": {},
   "outputs": [
    {
     "data": {
      "text/plain": [
       "array([0.10565837, 0.10565839, 0.10565839, ..., 0.10565838, 0.10565838,\n",
       "       0.10565833])"
      ]
     },
     "execution_count": 20,
     "metadata": {},
     "output_type": "execute_result"
    }
   ],
   "source": [
    "# Exercise: compute numpy.sqrt(E1**2 - px1**2 - py1**2 - pz1**2) in all three modes.\n",
    "# \n",
    "# (https://docs.scipy.org/doc/numpy/reference/generated/numpy.concatenate.html)\n",
    "\n",
    "import numpy\n",
    "\n",
    "arrays = events.arrays([\"E1\", \"p[xyz]1\"], namedecode=\"utf-8\")\n",
    "E1, px1, py1, pz1 = arrays[\"E1\"], arrays[\"px1\"], arrays[\"py1\"], arrays[\"pz1\"]\n",
    "\n",
    "result = numpy.sqrt(E1**2 - px1**2 - py1**2 - pz1**2)\n",
    "result"
   ]
  },
  {
   "cell_type": "code",
   "execution_count": 157,
   "metadata": {},
   "outputs": [
    {
     "name": "stdout",
     "output_type": "stream",
     "text": [
      "Lazy or iteration steps as a fixed number of entries:\n",
      "500\n",
      "500\n",
      "500\n",
      "500\n",
      "304\n",
      "\n",
      "Lazy or iteration steps as a fixed memory footprint:\n",
      "717\n",
      "717\n",
      "717\n",
      "153\n"
     ]
    }
   ],
   "source": [
    "print(\"Lazy or iteration steps as a fixed number of entries:\")\n",
    "for arrays in events.iterate(entrysteps=500):\n",
    "    print(len(arrays[b\"E1\"]))\n",
    "\n",
    "print(\"\\nLazy or iteration steps as a fixed memory footprint:\")\n",
    "for arrays in events.iterate(entrysteps=\"100 kB\"):\n",
    "    print(len(arrays[b\"E1\"]))"
   ]
  },
  {
   "cell_type": "markdown",
   "metadata": {},
   "source": [
    "<br><br><br><br><br>\n",
    "\n",
    "## Application: feeding data into PyTorch\n",
    "\n",
    "<br><br><br><br><br>"
   ]
  },
  {
   "cell_type": "code",
   "execution_count": 77,
   "metadata": {},
   "outputs": [
    {
     "data": {
      "image/png": "[encoded data removed]",
      "text/plain": [
       "<Figure size 432x288 with 1 Axes>"
      ]
     },
     "metadata": {
      "needs_background": "light"
     },
     "output_type": "display_data"
    }
   ],
   "source": [
    "# Let's train a neural network! First, though, we need to set up a problem.\n",
    "\n",
    "# 2-dimensional for simplicity (easier to visualize and we don't have much data).\n",
    "E1, E2, px1, py1, pz1, px2, py2, pz2, Q1, Q2 = events.arrays([\"E[12]\", \"p[xyz][12]\", \"Q[12]\"], outputtype=tuple)\n",
    "E = (E1 + E2)\n",
    "p = numpy.sqrt((px1 + px2)**2 + (py1 + py2)**2 + (pz1 + pz2)**2)\n",
    "\n",
    "# Need to predict opposite sign (deepskyblue) vs same sign (orange) using E and p.\n",
    "%matplotlib inline\n",
    "import matplotlib.pyplot\n",
    "matplotlib.pyplot.scatter(E[Q1 != Q2], p[Q1 != Q2], c=\"deepskyblue\", edgecolor=\"black\");\n",
    "matplotlib.pyplot.scatter(E[Q1 == Q2], p[Q1 == Q2], c=\"orange\", edgecolor=\"black\");\n",
    "matplotlib.pyplot.xlim(0, 200);\n",
    "matplotlib.pyplot.ylim(0, 200);"
   ]
  },
  {
   "cell_type": "code",
   "execution_count": 122,
   "metadata": {},
   "outputs": [],
   "source": [
    "import torch                             # transform inputs to fit PyTorch's expected shape and type\n",
    "X = torch.from_numpy(numpy.dstack([E, p])[0].astype(numpy.float32))\n",
    "y = torch.from_numpy((Q1 != Q2).astype(numpy.float32).reshape(-1, 1))\n",
    "\n",
    "neural_network = torch.nn.Sequential(    # the neural network topology:\n",
    "    torch.nn.Linear(2, 5),               # input → hidden: 2 dimensions → 5 dimensions\n",
    "    torch.nn.Sigmoid(),                  # non-linearity applied to each of the 5 components\n",
    "    torch.nn.Linear(5, 1))               # hidden → output: 5 dimensions → 1 dimension\n",
    "\n",
    "loss_fn = torch.nn.MSELoss(reduction=\"sum\")\n",
    "optimizer = torch.optim.Adam(neural_network.parameters(), lr=0.001)\n",
    "\n",
    "for i in range(1000):                    # iterate 1000 times to minimize loss: y_pred - y\n",
    "    y_pred = neural_network(X)           # neural_network is a function: X ↦ y\n",
    "    loss = loss_fn(y_pred, y)\n",
    "    optimizer.zero_grad()\n",
    "    loss.backward()\n",
    "    optimizer.step()"
   ]
  },
  {
   "cell_type": "code",
   "execution_count": 123,
   "metadata": {},
   "outputs": [
    {
     "data": {
      "image/png": "[encoded data removed]",
      "text/plain": [
       "<Figure size 432x288 with 1 Axes>"
      ]
     },
     "metadata": {
      "needs_background": "light"
     },
     "output_type": "display_data"
    }
   ],
   "source": [
    "grid_of_points = numpy.dstack(numpy.mgrid[0:220:20, 0:220:20].astype(numpy.float32))\n",
    "Z = neural_network(torch.from_numpy(grid_of_points)).detach().numpy().reshape(grid_of_points.shape[:2])\n",
    "matplotlib.pyplot.contourf(grid_of_points[:, :, 0], grid_of_points[:, :, 1], Z);\n",
    "matplotlib.pyplot.scatter(E[Q1 != Q2], p[Q1 != Q2], c=\"deepskyblue\", edgecolor=\"black\");\n",
    "matplotlib.pyplot.scatter(E[Q1 == Q2], p[Q1 == Q2], c=\"orange\", edgecolor=\"black\");\n",
    "matplotlib.pyplot.xlim(0, 200);\n",
    "matplotlib.pyplot.ylim(0, 200);"
   ]
  },
  {
   "cell_type": "code",
   "execution_count": 118,
   "metadata": {},
   "outputs": [],
   "source": [
    "# Now let's pretend the sample is so large, we can't load it into memory.\n",
    "# What has changed? What's the same?\n",
    "\n",
    "optimizer = torch.optim.Adam(neural_network.parameters(), lr=0.0001)  # learn slower: fewer data points...\n",
    "\n",
    "for E1, E2, px1, py1, pz1, px2, py2, pz2, Q1, Q2 in \\\n",
    "        events.iterate([\"E[12]\", \"p[xyz][12]\", \"Q[12]\"], outputtype=tuple, entrysteps=500):\n",
    "    E = (E1 + E2)\n",
    "    p = numpy.sqrt((px1 + px2)**2 + (py1 + py2)**2 + (pz1 + pz2)**2)\n",
    "    \n",
    "    X = torch.from_numpy(numpy.dstack([E, p])[0].astype(numpy.float32))\n",
    "    y = torch.from_numpy((Q1 != Q2).astype(numpy.float32).reshape(-1, 1))\n",
    "\n",
    "    for i in range(1000):\n",
    "        y_pred = neural_network(X)\n",
    "        loss = loss_fn(y_pred, y)\n",
    "        optimizer.zero_grad()\n",
    "        loss.backward()\n",
    "        optimizer.step()"
   ]
  },
  {
   "cell_type": "code",
   "execution_count": 126,
   "metadata": {},
   "outputs": [
    {
     "data": {
      "text/plain": [
       "(<JaggedArray [[54.7795 39.401695] [31.690445] [54.739788 47.488857] ... [62.39516] [174.20863] [69.55621]] at 0x7f39a04a5748>,\n",
       " <JaggedArray [[-52.899456 37.73778] [-0.81645936] [48.98783 0.8275667] ... [-29.756786] [1.1418698] [23.913206]] at 0x7f39a04a5f28>,\n",
       " <JaggedArray [[-11.654672 0.6934736] [-24.404259] [-21.723139 29.800508] ... [-15.303859] [63.60957] [-35.665077]] at 0x7f39a0486550>,\n",
       " <JaggedArray [[-8.160793 -11.307582] [20.199968] [11.168285 36.96519] ... [-52.66375] [162.17632] [54.719437]] at 0x7f39a04865f8>,\n",
       " <JaggedArray [[1 -1] [1] [1 -1] ... [-1] [-1] [-1]] at 0x7f39a0486eb8>)"
      ]
     },
     "execution_count": 126,
     "metadata": {},
     "output_type": "execute_result"
    }
   ],
   "source": [
    "# Now do it from a sample of jagged arrays (variable number of values per event).\n",
    "\n",
    "events2 = uproot.open(\"data/HZZ.root\")[\"events\"]\n",
    "E_all, px_all, py_all, pz_all, q_all = events2.arrays([\"Muon_E\", \"Muon_P[xyz]\", \"Muon_Charge\"], outputtype=tuple)\n",
    "\n",
    "E_all, px_all, py_all, pz_all, q_all"
   ]
  },
  {
   "cell_type": "code",
   "execution_count": 125,
   "metadata": {},
   "outputs": [
    {
     "name": "stdout",
     "output_type": "stream",
     "text": [
      "[2 1 2 ... 1 1 1]\n"
     ]
    },
    {
     "data": {
      "text/plain": [
       "(array([ 54.7795  ,  54.739788, 413.46002 , ...,  60.03222 ,  66.367775,\n",
       "        157.22563 ], dtype=float32),\n",
       " array([ 39.401695,  47.488857, 344.04153 , ...,  40.399345,  28.650345,\n",
       "        116.12509 ], dtype=float32))"
      ]
     },
     "execution_count": 125,
     "metadata": {},
     "output_type": "execute_result"
    }
   ],
   "source": [
    "# Getting two muons from events that have them:\n",
    "\n",
    "print(E_all.counts)\n",
    "\n",
    "E_all[E_all.counts >= 2, 0], E_all[E_all.counts >= 2, 1]"
   ]
  },
  {
   "cell_type": "code",
   "execution_count": 134,
   "metadata": {},
   "outputs": [
    {
     "data": {
      "text/plain": [
       "(array([ 54.7795  ,  54.739788, 413.46002 , ...,  60.03222 ,  66.367775,\n",
       "        157.22563 ], dtype=float32),\n",
       " array([ 39.401695,  47.488857, 344.04153 , ...,  40.399345,  28.650345,\n",
       "        116.12509 ], dtype=float32))"
      ]
     },
     "execution_count": 134,
     "metadata": {},
     "output_type": "execute_result"
    }
   ],
   "source": [
    "# Or all pairs, without double-counting:\n",
    "\n",
    "left, right = E_all.argchoose(2).i0, E_all.argchoose(2).i1\n",
    "\n",
    "E_all[left].flatten(), E_all[right].flatten()"
   ]
  },
  {
   "cell_type": "code",
   "execution_count": 138,
   "metadata": {},
   "outputs": [],
   "source": [
    "# Exercise: set up and run the neural network with muons from the jagged sample.\n",
    "\n",
    "X = FIXME\n",
    "y = FIXME\n",
    "\n",
    "neural_network = torch.nn.Sequential(torch.nn.Linear(2, 5), torch.nn.Sigmoid(), torch.nn.Linear(5, 1))\n",
    "loss_fn = torch.nn.MSELoss(reduction=\"sum\")\n",
    "optimizer = torch.optim.Adam(neural_network.parameters(), lr=0.001)\n",
    "for i in range(1000):\n",
    "    y_pred = neural_network(X)\n",
    "    loss = loss_fn(y_pred, y)\n",
    "    optimizer.zero_grad()\n",
    "    loss.backward()\n",
    "    optimizer.step()"
   ]
  },
  {
   "cell_type": "code",
   "execution_count": 139,
   "metadata": {},
   "outputs": [],
   "source": [
    "grid_of_points = numpy.dstack(numpy.mgrid[0:520:20, 0:520:20].astype(numpy.float32))\n",
    "Z = neural_network(torch.from_numpy(grid_of_points)).detach().numpy().reshape(grid_of_points.shape[:2])\n",
    "matplotlib.pyplot.contourf(grid_of_points[:, :, 0], grid_of_points[:, :, 1], Z);\n",
    "matplotlib.pyplot.scatter(E[Q1 != Q2], p[Q1 != Q2], c=\"deepskyblue\", edgecolor=\"black\");\n",
    "matplotlib.pyplot.scatter(E[Q1 == Q2], p[Q1 == Q2], c=\"orange\", edgecolor=\"black\");\n",
    "matplotlib.pyplot.xlim(0, 500);\n",
    "matplotlib.pyplot.ylim(0, 500);"
   ]
  },
  {
   "cell_type": "markdown",
   "metadata": {},
   "source": [
    "<br><br><br><br><br>\n",
    "\n",
    "## Caching\n",
    "\n",
    "<br><br><br><br><br>"
   ]
  },
  {
   "cell_type": "code",
   "execution_count": 158,
   "metadata": {},
   "outputs": [
    {
     "data": {
      "text/plain": [
       "array([0.10565837, 0.10565839, 0.10565839, ..., 0.10565838, 0.10565838,\n",
       "       0.10565833])"
      ]
     },
     "execution_count": 158,
     "metadata": {},
     "output_type": "execute_result"
    }
   ],
   "source": [
    "# Direct array-reading is simple: every time you ask for an array, it reads from the file (raw bytes may be cached).\n",
    "# \n",
    "# You could avoid duplicate reading/decompressing/formatting by keeping a reference to previously read arrays.\n",
    "\n",
    "# read\n",
    "arrays = events.arrays([\"E1\", \"p[xyz]1\"], namedecode=\"utf-8\")\n",
    "\n",
    "# use\n",
    "numpy.sqrt(arrays[\"px1\"]**2 + arrays[\"py1\"]**2)\n",
    "\n",
    "# use again\n",
    "numpy.sqrt(arrays[\"E1\"]**2 - arrays[\"px1\"]**2 - arrays[\"py1\"]**2 - arrays[\"pz1\"]**2)"
   ]
  },
  {
   "cell_type": "code",
   "execution_count": 159,
   "metadata": {},
   "outputs": [
    {
     "data": {
      "text/plain": [
       "array([0.10565837, 0.10565839, 0.10565839, ..., 0.10565838, 0.10565838,\n",
       "       0.10565833])"
      ]
     },
     "execution_count": 159,
     "metadata": {},
     "output_type": "execute_result"
    }
   ],
   "source": [
    "# But that would force you to re-arrange your analysis script to satisfy hardware constraints.\n",
    "# \n",
    "# Instead, use uproot's caching mechanism: any dict-like object can be used as a cache.\n",
    "\n",
    "mycache = {}\n",
    "\n",
    "# read and use\n",
    "E1, px1, py1, pz1 = events.arrays([\"E1\", \"p[xyz]1\"], outputtype=tuple, cache=mycache)\n",
    "numpy.sqrt(px1**2 + py1**2)\n",
    "\n",
    "# get from cache and use again\n",
    "E1, px1, py1, pz1 = events.arrays([\"E1\", \"p[xyz]1\"], outputtype=tuple, cache=mycache)\n",
    "numpy.sqrt(E1**2 - px1**2 - py1**2 - pz1**2)"
   ]
  },
  {
   "cell_type": "code",
   "execution_count": 160,
   "metadata": {},
   "outputs": [
    {
     "data": {
      "text/plain": [
       "{'AAGUS3fQmKsR56dpAQAAf77v;events;E1;asdtype(Bf8(),Lf8());0-2304': array([82.20186639, 62.34492895, 62.34492895, ..., 81.27013558,\n",
       "        81.27013558, 81.56621735]),\n",
       " 'AAGUS3fQmKsR56dpAQAAf77v;events;px1;asdtype(Bf8(),Lf8());0-2304': array([-41.19528764,  35.11804977,  35.11804977, ...,  32.37749196,\n",
       "         32.37749196,  32.48539387]),\n",
       " 'AAGUS3fQmKsR56dpAQAAf77v;events;py1;asdtype(Bf8(),Lf8());0-2304': array([ 17.4332439 , -16.57036233, -16.57036233, ...,   1.19940578,\n",
       "          1.19940578,   1.2013503 ]),\n",
       " 'AAGUS3fQmKsR56dpAQAAf77v;events;pz1;asdtype(Bf8(),Lf8());0-2304': array([-68.96496181, -48.77524654, -48.77524654, ..., -74.53243061,\n",
       "        -74.53243061, -74.80837247])}"
      ]
     },
     "execution_count": 160,
     "metadata": {},
     "output_type": "execute_result"
    }
   ],
   "source": [
    "# The data are now in the mycache dict, which you can clear whenever you need to.\n",
    "\n",
    "# mycache.clear()\n",
    "mycache"
   ]
  },
  {
   "cell_type": "markdown",
   "metadata": {},
   "source": [
    "<br><br>\n",
    "\n",
    "<p style=\"font-size: 1.25em\">The point is that naive, exploratory code becomes production-ready code in small steps.</p>\n",
    "\n",
    "   1. Read from the file in early exploration because it requires the least effort.\n",
    "   2. Insert `mycache = {}` and `cache=mycache` to avoid costly re-reading when you start looking at more data.\n",
    "   3. Use an `uproot.ArrayCache` to specify an upper limit when you start running out of memory.\n",
    "   4. Maybe use an external cache like [memcached](https://realpython.com/python-memcache-efficient-caching/) to quickly recover from crashing 90% through your script, to more easily debug that last 10%.\n",
    "   5. Maybe use a [diskcache](http://www.grantjenks.com/docs/diskcache/tutorial.html) to split data between a small, fast disk and a large, slow disk...\n",
    "\n",
    "Most cache libraries in the Python ecosystem use dict of string → objects as an interface.\n",
    "\n",
    "<br><br>"
   ]
  },
  {
   "cell_type": "code",
   "execution_count": 207,
   "metadata": {},
   "outputs": [
    {
     "data": {
      "text/plain": [
       "(6, 20)"
      ]
     },
     "execution_count": 207,
     "metadata": {},
     "output_type": "execute_result"
    }
   ],
   "source": [
    "# Example of limited memory:\n",
    "\n",
    "mycache = uproot.ArrayCache(\"100 kB\")\n",
    "\n",
    "events.arrays(cache=mycache)\n",
    "\n",
    "# arrays in cache    arrays in file\n",
    "len(mycache),        len(events.keys())"
   ]
  },
  {
   "cell_type": "code",
   "execution_count": 205,
   "metadata": {},
   "outputs": [
    {
     "data": {
      "text/plain": [
       "<ChunkedArray [[] [-15.0] [-15.0 -13.9] ... [10.0 11.1] [10.0 11.1 12.2] [10.0 11.1 12.2 13.3]] at 0x7f385e36d5f8>"
      ]
     },
     "execution_count": 205,
     "metadata": {},
     "output_type": "execute_result"
    }
   ],
   "source": [
    "# With large lazy arrays, you SHOULD use a cache with an upper limit. (Otherwise, they'll hang onto data forever.)\n",
    "\n",
    "data = uproot.lazyarray(\n",
    "    # a bunch or files\n",
    "    \"data/sample-*-zlib.root\",\n",
    "    # TTree name in each file\n",
    "    \"sample\",\n",
    "    # branch(s) in each file for lazyarray(s)\n",
    "    \"Af8\",\n",
    "    # use this cache with an upper limit instead of reading exactly once\n",
    "    cache=uproot.ArrayCache(\"5 kB\"))\n",
    "\n",
    "data"
   ]
  },
  {
   "cell_type": "code",
   "execution_count": 206,
   "metadata": {},
   "outputs": [
    {
     "data": {
      "text/plain": [
       "[True, False, False, False, False, False, False, False, False, False, True]"
      ]
     },
     "execution_count": 206,
     "metadata": {},
     "output_type": "execute_result"
    }
   ],
   "source": [
    "# Compute something to do a pass over all chunks...\n",
    "# data + 100\n",
    "\n",
    "[chunk.ismaterialized for chunk in data.chunks]"
   ]
  },
  {
   "cell_type": "code",
   "execution_count": 215,
   "metadata": {},
   "outputs": [
    {
     "name": "stdout",
     "output_type": "stream",
     "text": [
      "20 [[] [-15.0] [-15.0 -13.9] [-15.0 -13.9 -12.8] [-15.0 -13.9 -12.8 -11.7]]\n",
      "10 [[] [5.0] [5.0 6.1] [5.0 6.1 7.2] [5.0 6.1 7.2 8.3]]\n",
      "20 [[] [-15.0] [-15.0 -13.9] [-15.0 -13.9 -12.8] [-15.0 -13.9 -12.8 -11.7]]\n",
      "10 [[] [5.0] [5.0 6.1] [5.0 6.1 7.2] [5.0 6.1 7.2 8.3]]\n",
      "20 [[] [-15.0] [-15.0 -13.9] [-15.0 -13.9 -12.8] [-15.0 -13.9 -12.8 -11.7]]\n",
      "10 [[] [5.0] [5.0 6.1] [5.0 6.1 7.2] [5.0 6.1 7.2 8.3]]\n",
      "20 [[] [-15.0] [-15.0 -13.9] [-15.0 -13.9 -12.8] [-15.0 -13.9 -12.8 -11.7]]\n",
      "10 [[] [5.0] [5.0 6.1] [5.0 6.1 7.2] [5.0 6.1 7.2 8.3]]\n",
      "20 [[] [-15.0] [-15.0 -13.9] [-15.0 -13.9 -12.8] [-15.0 -13.9 -12.8 -11.7]]\n",
      "10 [[] [5.0] [5.0 6.1] [5.0 6.1 7.2] [5.0 6.1 7.2 8.3]]\n",
      "20 [[] [-15.0] [-15.0 -13.9] [-15.0 -13.9 -12.8] [-15.0 -13.9 -12.8 -11.7]]\n",
      "10 [[] [5.0] [5.0 6.1] [5.0 6.1 7.2] [5.0 6.1 7.2 8.3]]\n",
      "20 [[] [-15.0] [-15.0 -13.9] [-15.0 -13.9 -12.8] [-15.0 -13.9 -12.8 -11.7]]\n",
      "10 [[] [5.0] [5.0 6.1] [5.0 6.1 7.2] [5.0 6.1 7.2 8.3]]\n",
      "20 [[] [-15.0] [-15.0 -13.9] [-15.0 -13.9 -12.8] [-15.0 -13.9 -12.8 -11.7]]\n",
      "10 [[] [5.0] [5.0 6.1] [5.0 6.1 7.2] [5.0 6.1 7.2 8.3]]\n",
      "20 [[] [-15.0] [-15.0 -13.9] [-15.0 -13.9 -12.8] [-15.0 -13.9 -12.8 -11.7]]\n",
      "10 [[] [5.0] [5.0 6.1] [5.0 6.1 7.2] [5.0 6.1 7.2 8.3]]\n",
      "20 [[] [-15.0] [-15.0 -13.9] [-15.0 -13.9 -12.8] [-15.0 -13.9 -12.8 -11.7]]\n",
      "10 [[] [5.0] [5.0 6.1] [5.0 6.1 7.2] [5.0 6.1 7.2 8.3]]\n",
      "20 [[] [-15.0] [-15.0 -13.9] [-15.0 -13.9 -12.8] [-15.0 -13.9 -12.8 -11.7]]\n",
      "10 [[] [5.0] [5.0 6.1] [5.0 6.1 7.2] [5.0 6.1 7.2 8.3]]\n"
     ]
    }
   ],
   "source": [
    "# With iteration, you SHOULD NOT use a cache because the iteration manages memory explicitly.\n",
    "# You wouldn't want to keep the previous iteration in memory when you're done with it, right?\n",
    "\n",
    "for chunk in uproot.iterate(\"data/sample-*-zlib.root\", \"sample\", \"Af8\", entrysteps=\"0.5 kB\"):\n",
    "    print(len(chunk[b\"Af8\"]), chunk[b\"Af8\"][:5])"
   ]
  },
  {
   "cell_type": "markdown",
   "metadata": {},
   "source": [
    "<br><br><br><br><br>\n",
    "\n",
    "## Objects in arrays\n",
    "\n",
    "<br><br><br><br><br>"
   ]
  },
  {
   "cell_type": "code",
   "execution_count": 216,
   "metadata": {},
   "outputs": [
    {
     "name": "stdout",
     "output_type": "stream",
     "text": [
      "event                      TStreamerInfo              None\n",
      "TObject                    TStreamerInfo              None\n",
      "fUniqueID                  TStreamerBasicType         asdtype('>u4')\n",
      "fBits                      TStreamerBasicType         asdtype('>u4')\n",
      "\n",
      "fType[20]                  TStreamerBasicType         asdtype(\"('i1', (20,))\")\n",
      "fEventName                 TStreamerBasicType         asstring(4)\n",
      "fNtrack                    TStreamerBasicType         asdtype('>i4')\n",
      "fNseg                      TStreamerBasicType         asdtype('>i4')\n",
      "fNvertex                   TStreamerBasicType         asdtype('>u4')\n",
      "fFlag                      TStreamerBasicType         asdtype('>u4')\n",
      "fTemperature               TStreamerBasicType         asdtype('>f4', 'float64')\n",
      "fMeasures[10]              TStreamerBasicType         asdtype(\"('>i4', (10,))\")\n",
      "fMatrix[4][4]              TStreamerBasicType         asdtype(\"('>f4', (4, 4))\", \"('<f8', (4, 4))\")\n",
      "fClosestDistance           TStreamerBasicPointer      None\n",
      "fEvtHdr                    TStreamerObjectAny         None\n",
      "fEvtHdr.fEvtNum            TStreamerBasicType         asdtype('>i4')\n",
      "fEvtHdr.fRun               TStreamerBasicType         asdtype('>i4')\n",
      "fEvtHdr.fDate              TStreamerBasicType         asdtype('>i4')\n",
      "\n",
      "fTracks                    TStreamerObjectPointer     None\n",
      "fTracks.fUniqueID          TStreamerBasicType         asjagged(asdtype('>u4'))\n",
      "fTracks.fBits              TStreamerBasicType         asjagged(asdtype('>u4'))\n",
      "fTracks.fPx                TStreamerBasicType         asjagged(asdtype('>f4'))\n",
      "fTracks.fPy                TStreamerBasicType         asjagged(asdtype('>f4'))\n",
      "fTracks.fPz                TStreamerBasicType         asjagged(asdtype('>f4'))\n",
      "fTracks.fRandom            TStreamerBasicType         asjagged(asdtype('>f4'))\n",
      "fTracks.fMass2             TStreamerBasicType         asjagged(asfloat16(0.0, 0.0, 8, dtype([('exponent', 'u1'), ('mantissa', '>u2')]), dtype('float32')))\n",
      "fTracks.fBx                TStreamerBasicType         asjagged(asfloat16(0.0, 0.0, 10, dtype([('exponent', 'u1'), ('mantissa', '>u2')]), dtype('float32')))\n",
      "fTracks.fBy                TStreamerBasicType         asjagged(asfloat16(0.0, 0.0, 10, dtype([('exponent', 'u1'), ('mantissa', '>u2')]), dtype('float32')))\n",
      "fTracks.fMeanCharge        TStreamerBasicType         asjagged(asdtype('>f4'))\n",
      "fTracks.fXfirst            TStreamerBasicType         asjagged(asfloat16(0, 0, 12, dtype([('exponent', 'u1'), ('mantissa', '>u2')]), dtype('float32')))\n",
      "fTracks.fXlast             TStreamerBasicType         asjagged(asfloat16(0, 0, 12, dtype([('exponent', 'u1'), ('mantissa', '>u2')]), dtype('float32')))\n",
      "fTracks.fYfirst            TStreamerBasicType         asjagged(asfloat16(0, 0, 12, dtype([('exponent', 'u1'), ('mantissa', '>u2')]), dtype('float32')))\n",
      "fTracks.fYlast             TStreamerBasicType         asjagged(asfloat16(0, 0, 12, dtype([('exponent', 'u1'), ('mantissa', '>u2')]), dtype('float32')))\n",
      "fTracks.fZfirst            TStreamerBasicType         asjagged(asfloat16(0, 0, 12, dtype([('exponent', 'u1'), ('mantissa', '>u2')]), dtype('float32')))\n",
      "fTracks.fZlast             TStreamerBasicType         asjagged(asfloat16(0, 0, 12, dtype([('exponent', 'u1'), ('mantissa', '>u2')]), dtype('float32')))\n",
      "fTracks.fCharge            TStreamerBasicType         asjagged(asdouble32(-1.0, 1.0, 2, dtype('>u4'), dtype('float64')))\n",
      "fTracks.fVertex[3]         TStreamerBasicType         asjagged(asdouble32(-30.0, 30.0, 16, dtype(('>u4', (3,))), dtype(('<f8', (3,)))))\n",
      "fTracks.fNpoint            TStreamerBasicType         asjagged(asdtype('>i4'))\n",
      "fTracks.fValid             TStreamerBasicType         asjagged(asdtype('>i2'))\n",
      "fTracks.fNsp               TStreamerBasicType         asjagged(asdtype('>u4'))\n",
      "fTracks.fPointValue        TStreamerBasicPointer      None\n",
      "fTracks.fTriggerBits.fUniqueID\n",
      "                           TStreamerBasicType         asjagged(asdtype('>u4'))\n",
      "fTracks.fTriggerBits.fBits TStreamerBasicType         asjagged(asdtype('>u4'))\n",
      "fTracks.fTriggerBits.fNbits\n",
      "                           TStreamerBasicType         asjagged(asdtype('>u4'))\n",
      "fTracks.fTriggerBits.fNbytes\n",
      "                           TStreamerBasicType         asjagged(asdtype('>u4'))\n",
      "fTracks.fTriggerBits.fAllBits\n",
      "                           TStreamerBasicPointer      asjagged(asdtype('uint8'), 1)\n",
      "fTracks.fTArray[3]         TStreamerBasicType         asjagged(asdtype(\"('>f4', (3,))\"))\n",
      "\n",
      "fHighPt                    TStreamerObjectPointer     asgenobj(TRefArray)\n",
      "fMuons                     TStreamerObjectPointer     asgenobj(TRefArray)\n",
      "fLastTrack                 TStreamerInfo              asgenobj(TRef)\n",
      "fWebHistogram              TStreamerInfo              asgenobj(TRef)\n",
      "fH                         TStreamerObjectPointer     asgenobj(TH1F)\n",
      "fTriggerBits               TStreamerInfo              None\n",
      "fTriggerBits.TObject       (no streamer)              None\n",
      "fTriggerBits.fUniqueID     (no streamer)              asdtype('>u4')\n",
      "fTriggerBits.fBits         (no streamer)              asdtype('>u4')\n",
      "\n",
      "fTriggerBits.fNbits        TStreamerBasicType         asdtype('>u4')\n",
      "fTriggerBits.fNbytes       TStreamerBasicType         asdtype('>u4')\n",
      "fTriggerBits.fAllBits      TStreamerBasicPointer      asjagged(asdtype('uint8'), 1)\n",
      "\n",
      "fIsValid                   TStreamerBasicType         asdtype('bool')\n",
      "\n"
     ]
    }
   ],
   "source": [
    "# Most of the complexity of ROOT data is simplified by the fact that custom classes are \"split\" into branches.\n",
    "# uproot sees the branches.\n",
    "\n",
    "tree = uproot.open(\"http://scikit-hep.org/uproot/examples/Event.root\")[\"T\"]\n",
    "tree.show()\n",
    "\n",
    "# branch name              streamer type, if any      uproot's interpretation"
   ]
  },
  {
   "cell_type": "code",
   "execution_count": 217,
   "metadata": {},
   "outputs": [
    {
     "data": {
      "text/plain": [
       "array([20.28261757, 20.47114182, 20.5931778 , 20.5848484 , 20.80287933,\n",
       "       20.2972393 , 20.30301666, 20.87490845, 20.56552505, 20.67128181,\n",
       "       20.74524879, 20.85200119, 20.26188469, 20.82903862, 20.02412415,\n",
       "       20.97918129, 20.71551132, 20.60189629, 20.11310196, 20.53161049])"
      ]
     },
     "execution_count": 217,
     "metadata": {},
     "output_type": "execute_result"
    }
   ],
   "source": [
    "# In this view, class attributes are _not_ special types and can be read as arrays of numbers.\n",
    "\n",
    "tree.array(\"fTemperature\", entrystop=20)"
   ]
  },
  {
   "cell_type": "code",
   "execution_count": 222,
   "metadata": {},
   "outputs": [
    {
     "data": {
      "text/plain": [
       "array([[[ 1.54053164,  0.09474282,  1.52469206,  0.        ],\n",
       "        [-0.13630907,  0.80078429,  1.70623565,  0.        ],\n",
       "        [-1.16029346,  2.012362  ,  4.02206421,  0.        ],\n",
       "        [ 0.        ,  0.        ,  0.        ,  0.        ]],\n",
       "\n",
       "       [[ 0.41865557,  1.60363352, -0.56923842,  0.        ],\n",
       "        [ 0.06950195,  0.79105824,  2.0322361 ,  0.        ],\n",
       "        [ 0.05688119,  2.52811217,  3.91394544,  0.        ],\n",
       "        [ 0.        ,  0.        ,  0.        ,  0.        ]],\n",
       "\n",
       "       [[-1.24031985,  2.3477006 , -0.67482847,  0.        ],\n",
       "        [ 1.22933233,  1.39499295,  2.17524433,  0.        ],\n",
       "        [ 0.18559125,  2.40421987,  4.56326485,  0.        ],\n",
       "        [ 0.        ,  0.        ,  0.        ,  0.        ]],\n",
       "\n",
       "       [[-0.43785933, -0.05061727,  0.28988785,  0.        ],\n",
       "        [-0.90204114,  0.88527524,  2.34751844,  0.        ],\n",
       "        [ 0.3241719 ,  0.79971647,  4.13229847,  0.        ],\n",
       "        [ 0.        ,  0.        ,  0.        ,  0.        ]],\n",
       "\n",
       "       [[-0.98912323,  0.97513503,  1.03762376,  0.        ],\n",
       "        [-0.96955669, -0.05892833,  3.02420664,  0.        ],\n",
       "        [ 1.10181248,  3.31268907,  6.04244947,  0.        ],\n",
       "        [ 0.        ,  0.        ,  0.        ,  0.        ]],\n",
       "\n",
       "       [[ 1.1283927 ,  1.20095801,  0.7379719 ,  0.        ],\n",
       "        [ 0.32370013,  1.08198583,  2.96736264,  0.        ],\n",
       "        [ 1.19329214,  2.01726198,  3.93975949,  0.        ],\n",
       "        [ 0.        ,  0.        ,  0.        ,  0.        ]]])"
      ]
     },
     "execution_count": 222,
     "metadata": {},
     "output_type": "execute_result"
    }
   ],
   "source": [
    "# Fixed-width matrices map onto multidimensional arrays,\n",
    "\n",
    "tree.array(\"fMatrix[4][4]\", entrystop=6)"
   ]
  },
  {
   "cell_type": "code",
   "execution_count": 225,
   "metadata": {},
   "outputs": [
    {
     "data": {
      "text/plain": [
       "array([(1.1, 1,  97), (2.2, 2,  98), (3.3, 3,  99), (4. , 4, 100),\n",
       "       (5.5, 5, 101)], dtype=[('x', '<f8'), ('y', '<i4'), ('z', 'i1')])"
      ]
     },
     "execution_count": 225,
     "metadata": {},
     "output_type": "execute_result"
    }
   ],
   "source": [
    "# branches with multiple leaves (\"leaf-list\") map onto Numpy record arrays,\n",
    "\n",
    "uproot.open(\"http://scikit-hep.org/uproot/examples/leaflist.root\")[\"tree\"].array(\"leaflist\")"
   ]
  },
  {
   "cell_type": "code",
   "execution_count": 226,
   "metadata": {},
   "outputs": [
    {
     "data": {
      "text/plain": [
       "<JaggedArray [[4.5 4.5 4.5 ... 4.5 4.5 4.5] [4.5 4.5 4.5 ... 4.5 4.5 4.5] [8.90625 8.90625 8.90625 ... 8.90625 8.90625 8.90625] [8.90625 8.90625 8.90625 ... 8.90625 8.90625 8.90625] [8.90625 8.90625 8.90625 ... 8.90625 8.90625 8.90625] [4.5 4.5 4.5 ... 4.5 4.5 4.5]] at 0x7f385d3a1860>"
      ]
     },
     "execution_count": 226,
     "metadata": {},
     "output_type": "execute_result"
    }
   ],
   "source": [
    "# and anything in variable-length lists become a JaggedArrays,\n",
    "\n",
    "tree.array(\"fTracks.fMass2\", entrystop=6)"
   ]
  },
  {
   "cell_type": "code",
   "execution_count": 227,
   "metadata": {},
   "outputs": [
    {
     "data": {
      "text/plain": [
       "<JaggedArray [[[8.783523 17.513435 29.286354] [12.712547 18.882881 32.797363] [11.507339 19.916798 30.246092] ... [10.574707 18.890305 33.728233] [12.15555 18.71774 27.312075] [9.859776 19.74885 29.493528]] [[11.219862 21.20887 30.624903] [11.040182 24.79719 31.77871] [10.012672 20.93199 30.9403] ... [11.168169 23.217058 32.748943] [9.50235 21.121288 31.071629] [10.8550205 16.183943 26.904243]] [[8.624067 18.600851 26.04787] [10.689135 20.227545 29.83834] [11.296425 21.689695 27.481518] ... [10.669026 17.53861 27.396368] [10.695017 21.800402 29.768854] [9.190737 19.556316 30.239576]] [[10.730627 21.374237 29.189438] [10.917027 17.502947 24.684587] [10.719291 15.140461 30.947819] ... [11.342936 21.652617 30.104565] [10.155848 19.01908 31.161093] [9.246191 18.550188 29.727875]] [[11.012184 18.038168 25.433424] [9.5870495 19.802078 30.07635] [10.900804 19.059767 28.11974] ... [10.958439 19.644995 24.516222] [9.493415 19.871706 30.69776] [9.26706 21.658216 36.870094]] [[10.6818 23.174397 32.048332] [9.386814 19.217764 30.706171] [11.497931 16.519543 29.432865] ... [11.120119 20.196941 29.856403] [12.256461 21.39977 27.87131] [10.704875 20.647184 29.791487]]] at 0x7f385d4084a8>"
      ]
     },
     "execution_count": 227,
     "metadata": {},
     "output_type": "execute_result"
    }
   ],
   "source": [
    "# even if they're fixed-width within jagged or whatever.\n",
    "\n",
    "tree.array(\"fTracks.fTArray[3]\", entrystop=6)"
   ]
  },
  {
   "cell_type": "code",
   "execution_count": 228,
   "metadata": {},
   "outputs": [
    {
     "data": {
      "text/plain": [
       "<ObjectArray [<b'TH1F' b'hstat' 0x7f385d483c28> <b'TH1F' b'hstat' 0x7f385d483b88> <b'TH1F' b'hstat' 0x7f385d38b6d8> <b'TH1F' b'hstat' 0x7f385d38b8b8> <b'TH1F' b'hstat' 0x7f385d38b868> <b'TH1F' b'hstat' 0x7f385d38b6d8>] at 0x7f385d3a1c88>"
      ]
     },
     "execution_count": 228,
     "metadata": {},
     "output_type": "execute_result"
    }
   ],
   "source": [
    "# There are some types that ROOT does not split because they are too complex.\n",
    "# For example, *histograms* inside a TTree:\n",
    "\n",
    "tree.array(\"fH\", entrystop=6)"
   ]
  },
  {
   "cell_type": "code",
   "execution_count": 229,
   "metadata": {},
   "outputs": [
    {
     "name": "stdout",
     "output_type": "stream",
     "text": [
      "b'Event Histogram'\n",
      "[0. 0. 0. 0. 0. 0. 0. 0. 0. 0. 0. 0. 0. 0. 0. 0. 0. 0. 0. 0. 0. 0. 0. 0.\n",
      " 0. 0. 0. 0. 1. 0. 0. 0. 0. 0. 0. 0. 0. 0. 0. 0. 0. 0. 0. 0. 0. 0. 0. 0.\n",
      " 0. 0. 0. 0. 0. 0. 0. 0. 0. 0. 0. 0. 0. 0. 0. 0. 0. 0. 0. 0. 0. 0. 0. 0.\n",
      " 0. 0. 0. 0. 0. 0. 0. 0. 0. 0. 0. 0. 0. 0. 0. 0. 0. 0. 0. 0. 0. 0. 0. 0.\n",
      " 0. 0. 0. 0.]\n",
      "b'Event Histogram'\n",
      "[0. 0. 0. 0. 0. 0. 0. 0. 0. 0. 0. 0. 0. 0. 0. 0. 0. 0. 0. 0. 0. 0. 0. 0.\n",
      " 0. 0. 0. 0. 1. 0. 0. 0. 0. 0. 0. 0. 0. 0. 0. 0. 0. 0. 0. 0. 0. 0. 0. 1.\n",
      " 0. 0. 0. 0. 0. 0. 0. 0. 0. 0. 0. 0. 0. 0. 0. 0. 0. 0. 0. 0. 0. 0. 0. 0.\n",
      " 0. 0. 0. 0. 0. 0. 0. 0. 0. 0. 0. 0. 0. 0. 0. 0. 0. 0. 0. 0. 0. 0. 0. 0.\n",
      " 0. 0. 0. 0.]\n",
      "b'Event Histogram'\n",
      "[0. 0. 0. 0. 0. 0. 0. 0. 0. 0. 0. 0. 0. 0. 0. 0. 0. 0. 0. 0. 0. 0. 0. 0.\n",
      " 0. 0. 0. 0. 1. 0. 0. 0. 0. 0. 0. 0. 0. 0. 0. 0. 0. 0. 0. 0. 0. 0. 0. 1.\n",
      " 0. 0. 0. 0. 0. 0. 0. 0. 0. 0. 0. 1. 0. 0. 0. 0. 0. 0. 0. 0. 0. 0. 0. 0.\n",
      " 0. 0. 0. 0. 0. 0. 0. 0. 0. 0. 0. 0. 0. 0. 0. 0. 0. 0. 0. 0. 0. 0. 0. 0.\n",
      " 0. 0. 0. 0.]\n",
      "\n",
      "...\n",
      "\n",
      "b'Event Histogram'\n",
      "[14. 18. 14. 11. 15. 13. 12. 13.  8.  8.  9. 10. 10.  7.  7. 10.  8. 12.\n",
      "  6.  8.  7.  9. 10. 12. 10. 11. 10. 10. 10.  8. 14. 13.  9.  7. 12. 10.\n",
      "  7.  6.  9. 13. 11.  8. 10.  9.  7.  4.  7. 10.  8.  8.  9.  9.  7. 12.\n",
      " 11.  9. 10.  7. 10. 13. 13. 11.  9.  9.  8.  8. 10. 12.  7.  5.  9. 10.\n",
      " 12. 13. 10. 14. 10. 10.  8. 12. 12. 11. 16. 12.  8. 12.  7.  9.  8.  7.\n",
      " 10.  7. 11. 11.  8. 13.  9.  8. 14. 16.]\n",
      "b'Event Histogram'\n",
      "[14. 18. 14. 11. 15. 13. 12. 13.  8.  8.  9. 10. 10.  7.  8. 10.  8. 12.\n",
      "  6.  8.  7.  9. 10. 12. 10. 11. 10. 10. 10.  8. 14. 13.  9.  7. 12. 10.\n",
      "  7.  6.  9. 13. 11.  8. 10.  9.  7.  4.  7. 10.  8.  8.  9.  9.  7. 12.\n",
      " 11.  9. 10.  7. 10. 13. 13. 11.  9.  9.  8.  8. 10. 12.  7.  5.  9. 10.\n",
      " 12. 13. 10. 14. 10. 10.  8. 12. 12. 11. 16. 12.  8. 12.  7.  9.  8.  7.\n",
      " 10.  7. 11. 11.  8. 13.  9.  8. 14. 16.]\n",
      "b'Event Histogram'\n",
      "[14. 18. 14. 11. 15. 13. 12. 13.  8.  8.  9. 10. 10.  7.  8. 10.  8. 12.\n",
      "  6.  8.  7.  9. 10. 12. 10. 11. 10. 10. 10.  8. 14. 13.  9.  7. 12. 10.\n",
      "  7.  6.  9. 13. 11.  8. 10.  9.  7.  4.  7. 10.  8.  8.  9.  9.  7. 12.\n",
      " 11.  9. 10.  7. 10. 13. 13. 11.  9.  9.  8.  8. 10. 12.  7.  5.  9. 10.\n",
      " 12. 13. 10. 14. 10. 10.  8. 12. 12. 11. 16. 12.  8. 12.  7.  9.  9.  7.\n",
      " 10.  7. 11. 11.  8. 13.  9.  8. 14. 16.]\n"
     ]
    }
   ],
   "source": [
    "# Uproot can read objects like this because ROOT describes their layout in \"streamers.\"\n",
    "# Uproot reads the (most common types of) streamers and generates Python classes.\n",
    "# Some of these Python classes have specialized, high-level methods.\n",
    "\n",
    "for histogram in tree.array(\"fH\", entrystop=3):\n",
    "    print(histogram.title)\n",
    "    print(histogram.values)\n",
    "print(\"\\n...\\n\")\n",
    "for histogram in tree.array(\"fH\", entrystart=-3):\n",
    "    print(histogram.title)\n",
    "    print(histogram.values)"
   ]
  },
  {
   "cell_type": "code",
   "execution_count": 230,
   "metadata": {},
   "outputs": [
    {
     "data": {
      "text/plain": [
       "<JaggedArrayMethods [[TLorentzVector(-52.899, -11.655, -8.1608, 54.779) TLorentzVector(37.738, 0.69347, -11.308, 39.402)] [TLorentzVector(-0.81646, -24.404, 20.2, 31.69)] [TLorentzVector(48.988, -21.723, 11.168, 54.74) TLorentzVector(0.82757, 29.801, 36.965, 47.489)] ... [TLorentzVector(-29.757, -15.304, -52.664, 62.395)] [TLorentzVector(1.1419, 63.61, 162.18, 174.21)] [TLorentzVector(23.913, -35.665, 54.719, 69.556)]] at 0x7f385d42a550>"
      ]
     },
     "execution_count": 230,
     "metadata": {},
     "output_type": "execute_result"
    }
   ],
   "source": [
    "# One type, TLorentzVector, has MANY high-level methods.\n",
    "\n",
    "events3 = uproot.open(\"data/HZZ-objects.root\")[\"events\"]\n",
    "muons = events3.array(\"muonp4\")\n",
    "muons"
   ]
  },
  {
   "cell_type": "code",
   "execution_count": 237,
   "metadata": {},
   "outputs": [
    {
     "data": {
      "text/plain": [
       "(TLorentzVector(-52.899, -11.655, -8.1608, 54.779),\n",
       " 54.16810703140204,\n",
       " -2.9431136434497858,\n",
       " 90.22779776988638)"
      ]
     },
     "execution_count": 237,
     "metadata": {},
     "output_type": "execute_result"
    }
   ],
   "source": [
    "# A single TLorentzVector has the methods you'd expect (kinematics, delta_phi, delta_r),\n",
    "\n",
    "muon1, muon2 = muons[0]\n",
    "\n",
    "muon1, muon1.pt, muon1.delta_phi(muon2), (muon1 + muon2).mass"
   ]
  },
  {
   "cell_type": "code",
   "execution_count": 238,
   "metadata": {},
   "outputs": [
    {
     "data": {
      "text/plain": [
       "(<ObjectArrayMethods [TLorentzVector(-52.899, -11.655, -8.1608, 54.779) TLorentzVector(48.988, -21.723, 11.168, 54.74) TLorentzVector(22.088, -85.835, 403.85, 413.46) ... TLorentzVector(53.006, -24.486, 13.952, 60.032) TLorentzVector(55.72, 26.37, -24.588, 66.368) TLorentzVector(34.507, 28.84, -150.66, 157.23)] at 0x7f385d10d160>,\n",
       " array([54.16810703, 53.58826697, 88.6319431 , ..., 58.38824219,\n",
       "        61.64505369, 44.97159626]),\n",
       " array([-2.94311364, -1.96041807, -1.13891626, ..., -3.00653589,\n",
       "        -3.04918788, -2.76435781]),\n",
       " array([90.22779777, 74.74654928, 89.75736376, ..., 92.06495256,\n",
       "        85.44384208, 75.96066262]))"
      ]
     },
     "execution_count": 238,
     "metadata": {},
     "output_type": "execute_result"
    }
   ],
   "source": [
    "# but they also apply vectorially (like Numpy functions):\n",
    "\n",
    "muons1 = muons[muons.counts >= 2, 0]   # first muon in each event (that has two)\n",
    "muons2 = muons[muons.counts >= 2, 1]   # second muon in each event (that has two)\n",
    "\n",
    "muons1, muons1.pt, muons1.delta_phi(muons2), (muons1 + muons2).mass"
   ]
  },
  {
   "cell_type": "code",
   "execution_count": 240,
   "metadata": {},
   "outputs": [
    {
     "data": {
      "text/plain": [
       "<ObjectArray [[] [[], []] [[10.0], [], [10.0, 20.0]] [[20.0, -21.0, -22.0]] [[200.0], [-201.0], [202.0]]] at 0x7f385d0e9b70>"
      ]
     },
     "execution_count": 240,
     "metadata": {},
     "output_type": "execute_result"
    }
   ],
   "source": [
    "# Doubly nested lists like std::vector<std::vector<T>> aren't handled transparently because they're stored differently.\n",
    "# \n",
    "# Note: it's an ObjectArray, an array containing list objects.\n",
    "\n",
    "doubly_nested = uproot.open(\"http://scikit-hep.org/uproot/examples/vectorVectorDouble.root\")[\"t\"][\"x\"].array()\n",
    "doubly_nested"
   ]
  },
  {
   "cell_type": "code",
   "execution_count": 242,
   "metadata": {},
   "outputs": [
    {
     "name": "stdout",
     "output_type": "stream",
     "text": [
      "<class 'AttributeError'> 'ObjectArray' object has no attribute 'counts'\n"
     ]
    }
   ],
   "source": [
    "# The multidimensional slicing doesn't apply as it does for JaggedArrays.\n",
    "\n",
    "try:\n",
    "    doubly_nested[doubly_nested.counts > 0, 0]\n",
    "except Exception as err:\n",
    "    print(type(err), err)"
   ]
  },
  {
   "cell_type": "code",
   "execution_count": 243,
   "metadata": {},
   "outputs": [
    {
     "data": {
      "text/plain": [
       "<JaggedArray [[] [[] []] [[10.0] [] [10.0 20.0]] [[20.0 -21.0 -22.0]] [[200.0] [-201.0] [202.0]]] at 0x7f38575bc2e8>"
      ]
     },
     "execution_count": 243,
     "metadata": {},
     "output_type": "execute_result"
    }
   ],
   "source": [
    "# If you need to work with this type, explicitly convert it into a JaggedArray of JaggedArrays.\n",
    "\n",
    "import awkward\n",
    "jagged = awkward.fromiter(doubly_nested)\n",
    "jagged"
   ]
  },
  {
   "cell_type": "code",
   "execution_count": 246,
   "metadata": {},
   "outputs": [
    {
     "name": "stdout",
     "output_type": "stream",
     "text": [
      "jagged[jagged.counts > 0, 0]: [[] [10.0] [20.0 -21.0 -22.0] [200.0]]\n",
      "jagged.flatten():             [[] [] [10.0] ... [200.0] [-201.0] [202.0]]\n",
      "jagged.flatten().flatten():   [  10.   10.   20.   20.  -21.  -22.  200. -201.  202.]\n",
      "jagged.sum():                 [[] [0.0 0.0] [10.0 0.0 30.0] [-23.0] [200.0 -201.0 202.0]]\n",
      "jagged.sum().sum():           [  0.   0.  40. -23. 201.]\n"
     ]
    }
   ],
   "source": [
    "# Now you can do all the things.\n",
    "\n",
    "print(f\"jagged[jagged.counts > 0, 0]: {jagged[jagged.counts > 0, 0]}\")\n",
    "print(f\"jagged.flatten():             {jagged.flatten()}\")\n",
    "print(f\"jagged.flatten().flatten():   {jagged.flatten().flatten()}\")\n",
    "print(f\"jagged.sum():                 {jagged.sum()}\")\n",
    "print(f\"jagged.sum().sum():           {jagged.sum().sum()}\")"
   ]
  },
  {
   "cell_type": "markdown",
   "metadata": {},
   "source": [
    "<br><br><br><br><br>\n",
    "\n",
    "## Reading and writing histograms\n",
    "\n",
    "<br><br><br><br><br>"
   ]
  },
  {
   "cell_type": "code",
   "execution_count": 247,
   "metadata": {},
   "outputs": [
    {
     "data": {
      "text/plain": [
       "(array([2.000e+00, 3.000e+00, 1.000e+00, 1.000e+00, 2.000e+00, 4.000e+00,\n",
       "        6.000e+00, 1.200e+01, 8.000e+00, 9.000e+00, 1.500e+01, 1.500e+01,\n",
       "        3.100e+01, 3.500e+01, 4.000e+01, 6.400e+01, 6.400e+01, 8.100e+01,\n",
       "        1.080e+02, 1.240e+02, 1.560e+02, 1.650e+02, 2.090e+02, 2.620e+02,\n",
       "        2.970e+02, 3.920e+02, 4.320e+02, 4.660e+02, 5.210e+02, 6.040e+02,\n",
       "        6.570e+02, 7.880e+02, 9.030e+02, 1.079e+03, 1.135e+03, 1.160e+03,\n",
       "        1.383e+03, 1.458e+03, 1.612e+03, 1.770e+03, 1.868e+03, 1.861e+03,\n",
       "        1.946e+03, 2.114e+03, 2.175e+03, 2.207e+03, 2.273e+03, 2.276e+03,\n",
       "        2.329e+03, 2.325e+03, 2.381e+03, 2.417e+03, 2.364e+03, 2.284e+03,\n",
       "        2.188e+03, 2.164e+03, 2.130e+03, 1.940e+03, 1.859e+03, 1.763e+03,\n",
       "        1.700e+03, 1.611e+03, 1.459e+03, 1.390e+03, 1.237e+03, 1.083e+03,\n",
       "        1.046e+03, 8.880e+02, 7.520e+02, 7.420e+02, 6.730e+02, 5.550e+02,\n",
       "        5.330e+02, 3.660e+02, 3.780e+02, 2.720e+02, 2.560e+02, 2.000e+02,\n",
       "        1.740e+02, 1.320e+02, 1.180e+02, 1.000e+02, 8.900e+01, 8.600e+01,\n",
       "        3.900e+01, 3.700e+01, 2.500e+01, 2.300e+01, 2.000e+01, 1.600e+01,\n",
       "        1.400e+01, 9.000e+00, 1.300e+01, 8.000e+00, 2.000e+00, 2.000e+00,\n",
       "        6.000e+00, 1.000e+00, 0.000e+00, 1.000e+00], dtype=float32),\n",
       " array([-4.  , -3.92, -3.84, -3.76, -3.68, -3.6 , -3.52, -3.44, -3.36,\n",
       "        -3.28, -3.2 , -3.12, -3.04, -2.96, -2.88, -2.8 , -2.72, -2.64,\n",
       "        -2.56, -2.48, -2.4 , -2.32, -2.24, -2.16, -2.08, -2.  , -1.92,\n",
       "        -1.84, -1.76, -1.68, -1.6 , -1.52, -1.44, -1.36, -1.28, -1.2 ,\n",
       "        -1.12, -1.04, -0.96, -0.88, -0.8 , -0.72, -0.64, -0.56, -0.48,\n",
       "        -0.4 , -0.32, -0.24, -0.16, -0.08,  0.  ,  0.08,  0.16,  0.24,\n",
       "         0.32,  0.4 ,  0.48,  0.56,  0.64,  0.72,  0.8 ,  0.88,  0.96,\n",
       "         1.04,  1.12,  1.2 ,  1.28,  1.36,  1.44,  1.52,  1.6 ,  1.68,\n",
       "         1.76,  1.84,  1.92,  2.  ,  2.08,  2.16,  2.24,  2.32,  2.4 ,\n",
       "         2.48,  2.56,  2.64,  2.72,  2.8 ,  2.88,  2.96,  3.04,  3.12,\n",
       "         3.2 ,  3.28,  3.36,  3.44,  3.52,  3.6 ,  3.68,  3.76,  3.84,\n",
       "         3.92,  4.  ]))"
      ]
     },
     "execution_count": 247,
     "metadata": {},
     "output_type": "execute_result"
    }
   ],
   "source": [
    "# As we've seen, histograms have some convenience methods.\n",
    "# They're mostly for conversion to other formats, like Numpy.\n",
    "# \n",
    "# Numpy \"histograms\" are a 2-tuple of counts and edges.\n",
    "\n",
    "uproot.open(\"http://scikit-hep.org/uproot/examples/hepdata-example.root\")[\"hpx\"].numpy()"
   ]
  },
  {
   "cell_type": "code",
   "execution_count": 248,
   "metadata": {},
   "outputs": [
    {
     "data": {
      "text/plain": [
       "(array([[0., 0., 0., ..., 0., 0., 0.],\n",
       "        [0., 0., 0., ..., 0., 0., 0.],\n",
       "        [0., 0., 0., ..., 0., 0., 0.],\n",
       "        ...,\n",
       "        [0., 0., 0., ..., 0., 0., 0.],\n",
       "        [0., 0., 0., ..., 0., 0., 0.],\n",
       "        [0., 0., 0., ..., 0., 0., 0.]], dtype=float32),\n",
       " [(array([-4. , -3.8, -3.6, -3.4, -3.2, -3. , -2.8, -2.6, -2.4, -2.2, -2. ,\n",
       "          -1.8, -1.6, -1.4, -1.2, -1. , -0.8, -0.6, -0.4, -0.2,  0. ,  0.2,\n",
       "           0.4,  0.6,  0.8,  1. ,  1.2,  1.4,  1.6,  1.8,  2. ,  2.2,  2.4,\n",
       "           2.6,  2.8,  3. ,  3.2,  3.4,  3.6,  3.8,  4. ]),\n",
       "   array([-4. , -3.8, -3.6, -3.4, -3.2, -3. , -2.8, -2.6, -2.4, -2.2, -2. ,\n",
       "          -1.8, -1.6, -1.4, -1.2, -1. , -0.8, -0.6, -0.4, -0.2,  0. ,  0.2,\n",
       "           0.4,  0.6,  0.8,  1. ,  1.2,  1.4,  1.6,  1.8,  2. ,  2.2,  2.4,\n",
       "           2.6,  2.8,  3. ,  3.2,  3.4,  3.6,  3.8,  4. ]))])"
      ]
     },
     "execution_count": 248,
     "metadata": {},
     "output_type": "execute_result"
    }
   ],
   "source": [
    "# Similarly for 2-dimensional histograms.\n",
    "\n",
    "uproot.open(\"http://scikit-hep.org/uproot/examples/hepdata-example.root\")[\"hpxpy\"].numpy()"
   ]
  },
  {
   "cell_type": "code",
   "execution_count": 250,
   "metadata": {},
   "outputs": [
    {
     "data": {
      "text/html": [
       "<div>\n",
       "<style scoped>\n",
       "    .dataframe tbody tr th:only-of-type {\n",
       "        vertical-align: middle;\n",
       "    }\n",
       "\n",
       "    .dataframe tbody tr th {\n",
       "        vertical-align: top;\n",
       "    }\n",
       "\n",
       "    .dataframe thead th {\n",
       "        text-align: right;\n",
       "    }\n",
       "</style>\n",
       "<table border=\"1\" class=\"dataframe\">\n",
       "  <thead>\n",
       "    <tr style=\"text-align: right;\">\n",
       "      <th></th>\n",
       "      <th>count</th>\n",
       "      <th>variance</th>\n",
       "    </tr>\n",
       "    <tr>\n",
       "      <th>Real-Time to write versus time</th>\n",
       "      <th></th>\n",
       "      <th></th>\n",
       "    </tr>\n",
       "  </thead>\n",
       "  <tbody>\n",
       "    <tr>\n",
       "      <th>[-inf, 0.0)</th>\n",
       "      <td>0.021839</td>\n",
       "      <td>0.000477</td>\n",
       "    </tr>\n",
       "    <tr>\n",
       "      <th>[0.0, 1.0)</th>\n",
       "      <td>0.333522</td>\n",
       "      <td>0.111237</td>\n",
       "    </tr>\n",
       "    <tr>\n",
       "      <th>[1.0, 2.0)</th>\n",
       "      <td>0.304030</td>\n",
       "      <td>0.092434</td>\n",
       "    </tr>\n",
       "    <tr>\n",
       "      <th>[2.0, 3.0)</th>\n",
       "      <td>0.324519</td>\n",
       "      <td>0.105313</td>\n",
       "    </tr>\n",
       "    <tr>\n",
       "      <th>[3.0, 4.0)</th>\n",
       "      <td>0.350973</td>\n",
       "      <td>0.123182</td>\n",
       "    </tr>\n",
       "    <tr>\n",
       "      <th>[4.0, 5.0)</th>\n",
       "      <td>0.368942</td>\n",
       "      <td>0.136118</td>\n",
       "    </tr>\n",
       "    <tr>\n",
       "      <th>[5.0, 6.0)</th>\n",
       "      <td>0.307283</td>\n",
       "      <td>0.094423</td>\n",
       "    </tr>\n",
       "    <tr>\n",
       "      <th>[6.0, 7.0)</th>\n",
       "      <td>0.306812</td>\n",
       "      <td>0.094134</td>\n",
       "    </tr>\n",
       "    <tr>\n",
       "      <th>[7.0, 8.0)</th>\n",
       "      <td>0.341563</td>\n",
       "      <td>0.116665</td>\n",
       "    </tr>\n",
       "    <tr>\n",
       "      <th>[8.0, 9.0)</th>\n",
       "      <td>0.161508</td>\n",
       "      <td>0.026085</td>\n",
       "    </tr>\n",
       "  </tbody>\n",
       "</table>\n",
       "</div>"
      ],
      "text/plain": [
       "                                   count  variance\n",
       "Real-Time to write versus time                    \n",
       "[-inf, 0.0)                     0.021839  0.000477\n",
       "[0.0, 1.0)                      0.333522  0.111237\n",
       "[1.0, 2.0)                      0.304030  0.092434\n",
       "[2.0, 3.0)                      0.324519  0.105313\n",
       "[3.0, 4.0)                      0.350973  0.123182\n",
       "[4.0, 5.0)                      0.368942  0.136118\n",
       "[5.0, 6.0)                      0.307283  0.094423\n",
       "[6.0, 7.0)                      0.306812  0.094134\n",
       "[7.0, 8.0)                      0.341563  0.116665\n",
       "[8.0, 9.0)                      0.161508  0.026085"
      ]
     },
     "execution_count": 250,
     "metadata": {},
     "output_type": "execute_result"
    }
   ],
   "source": [
    "# It can also be useful to turn histograms into Pandas DataFrames (note the IntervalIndex).\n",
    "\n",
    "uproot.open(\"http://scikit-hep.org/uproot/examples/Event.root\")[\"htime\"].pandas()"
   ]
  },
  {
   "cell_type": "code",
   "execution_count": 251,
   "metadata": {},
   "outputs": [
    {
     "name": "stdout",
     "output_type": "stream",
     "text": [
      "dependent_variables:\n",
      "- header: {name: counts, units: null}\n",
      "  qualifiers: []\n",
      "  values:\n",
      "  - errors:\n",
      "    - {label: stat, symerror: 0.33352208137512207}\n",
      "    value: 0.33352208137512207\n",
      "  - errors:\n",
      "    - {label: stat, symerror: 0.3040299415588379}\n",
      "    value: 0.3040299415588379\n",
      "  - errors:\n",
      "    - {label: stat, symerror: 0.32451915740966797}\n",
      "    value: 0.32451915740966797\n",
      "  - errors:\n",
      "    - {label: stat, symerror: 0.35097289085388184}\n",
      "    value: 0.35097289085388184\n",
      "  - errors:\n",
      "    - {label: stat, symerror: 0.3689420223236084}\n",
      "    value: 0.3689420223236084\n",
      "  - errors:\n",
      "    - {label: stat, symerror: 0.3072829246520996}\n",
      "    value: 0.3072829246520996\n",
      "  - errors:\n",
      "    - {label: stat, symerror: 0.306812047958374}\n",
      "    value: 0.306812047958374\n",
      "  - errors:\n",
      "    - {label: stat, symerror: 0.34156298637390137}\n",
      "    value: 0.34156298637390137\n",
      "  - errors:\n",
      "    - {label: stat, symerror: 0.16150808334350586}\n",
      "    value: 0.16150808334350586\n",
      "  - errors:\n",
      "    - {label: stat, symerror: 0.0}\n",
      "    value: 0.0\n",
      "independent_variables:\n",
      "- header: {name: Real-Time to write versus time, units: null}\n",
      "  values:\n",
      "  - {high: 1.0, low: 0.0}\n",
      "  - {high: 2.0, low: 1.0}\n",
      "  - {high: 3.0, low: 2.0}\n",
      "  - {high: 4.0, low: 3.0}\n",
      "  - {high: 5.0, low: 4.0}\n",
      "  - {high: 6.0, low: 5.0}\n",
      "  - {high: 7.0, low: 6.0}\n",
      "  - {high: 8.0, low: 7.0}\n",
      "  - {high: 9.0, low: 8.0}\n",
      "  - {high: 10.0, low: 9.0}\n",
      "\n"
     ]
    }
   ],
   "source": [
    "# Or HEPData's YAML format. As Python objects, it's just a little work to make different formats.\n",
    "\n",
    "print(uproot.open(\"http://scikit-hep.org/uproot/examples/Event.root\")[\"htime\"].hepdata())"
   ]
  },
  {
   "cell_type": "code",
   "execution_count": 252,
   "metadata": {},
   "outputs": [],
   "source": [
    "# At the moment, only two kinds of objects can be *written* to ROOT files: TObjString and histograms.\n",
    "# \n",
    "# To write, open a file for writing (create/recreate/update) and assign to it like a dict:\n",
    "\n",
    "file = uproot.recreate(\"tmp.root\", compression=uproot.ZLIB(4))\n",
    "file[\"name\"] = \"Some object, like a TObjString.\""
   ]
  },
  {
   "cell_type": "code",
   "execution_count": 253,
   "metadata": {},
   "outputs": [
    {
     "name": "stdout",
     "output_type": "stream",
     "text": [
      "Welcome to JupyROOT 6.17/01\n"
     ]
    },
    {
     "data": {
      "text/plain": [
       "'Some object, like a TObjString.'"
      ]
     },
     "execution_count": 253,
     "metadata": {},
     "output_type": "execute_result"
    }
   ],
   "source": [
    "import ROOT\n",
    "\n",
    "pyroot_file = ROOT.TFile(\"tmp.root\")\n",
    "pyroot_file.Get(\"name\")"
   ]
  },
  {
   "cell_type": "code",
   "execution_count": 254,
   "metadata": {},
   "outputs": [],
   "source": [
    "# During assignment, uproot recognizes some Pythonic types, such as Numpy histograms.\n",
    "\n",
    "file[\"from_numpy\"] = numpy.histogram(numpy.random.normal(0, 1, 10000))"
   ]
  },
  {
   "cell_type": "code",
   "execution_count": 256,
   "metadata": {},
   "outputs": [
    {
     "data": {
      "image/png": "[encoded data removed]",
      "text/plain": [
       "<IPython.core.display.Image object>"
      ]
     },
     "metadata": {},
     "output_type": "display_data"
    }
   ],
   "source": [
    "pyroot_file = ROOT.TFile(\"tmp.root\")           # refresh the PyROOT file\n",
    "pyroot_hist = pyroot_file.Get(\"from_numpy\")\n",
    "\n",
    "canvas = ROOT.TCanvas(\"canvas\", \"\", 400, 300)\n",
    "pyroot_hist.Draw()\n",
    "canvas.Draw()"
   ]
  },
  {
   "cell_type": "code",
   "execution_count": 258,
   "metadata": {},
   "outputs": [],
   "source": [
    "# 2-dimensional Numpy histograms.\n",
    "\n",
    "file[\"from_numpy2d\"] = numpy.histogram2d(numpy.random.normal(0, 1, 10000), numpy.random.normal(0, 1, 10000))"
   ]
  },
  {
   "cell_type": "code",
   "execution_count": 260,
   "metadata": {},
   "outputs": [
    {
     "data": {
      "image/png": "[encoded data removed]",
      "text/plain": [
       "<IPython.core.display.Image object>"
      ]
     },
     "metadata": {},
     "output_type": "display_data"
    }
   ],
   "source": [
    "pyroot_file = ROOT.TFile(\"tmp.root\")           # refresh the PyROOT file\n",
    "pyroot_hist = pyroot_file.Get(\"from_numpy2d\")\n",
    "\n",
    "pyroot_hist.Draw()\n",
    "canvas.Draw()"
   ]
  },
  {
   "cell_type": "markdown",
   "metadata": {},
   "source": [
    "<br><br><br><br><br>\n",
    "\n",
    "## Writing array data\n",
    "\n",
    "<br><br><br><br><br>"
   ]
  },
  {
   "cell_type": "code",
   "execution_count": 266,
   "metadata": {},
   "outputs": [],
   "source": [
    "# Obviously, it would be nice to write array data to ROOT files as new TTrees.\n",
    "# This is an IRIS-HEP summer fellowship project (Pratyush Das).\n",
    "# \n",
    "# Meanwhile, there are many nice options for saving and sharing Numpy arrays.\n",
    "\n",
    "# Numpy's NPZ files (really just ZIP)\n",
    "numpy.savez_compressed(\"one_array.npz\", events.array(\"E1\"))\n",
    "numpy.savez_compressed(\"many_arrays.npz\", **events.arrays(namedecode=\"utf-8\"))\n",
    "\n",
    "# HDF5\n",
    "import h5py\n",
    "with h5py.File(\"tmp.hdf5\", \"w\") as file:\n",
    "    file[\"E1\"] = events.array(\"E1\")"
   ]
  },
  {
   "cell_type": "code",
   "execution_count": 269,
   "metadata": {},
   "outputs": [],
   "source": [
    "# If the arrays are jagged, lazy, or contain objects (i.e. not pure Numpy), use awkward-array.\n",
    "\n",
    "# awkward's AWKD files (really just ZIP)\n",
    "awkward.save(\"one_array.awkd\", events2.array(\"Muon_Px\"), mode=\"w\")\n",
    "awkward.save(\"many_arrays.awkd\", events2.arrays(\"Muon_*\", namedecode=\"utf-8\"), mode=\"w\")\n",
    "\n",
    "# HDF5\n",
    "with h5py.File(\"tmp.hdf5\", \"w\") as file:\n",
    "    awkward_file = awkward.hdf5(file)\n",
    "    awkward_file[\"Muon_Px\"] = events2.array(\"Muon_Px\")"
   ]
  },
  {
   "cell_type": "code",
   "execution_count": 270,
   "metadata": {},
   "outputs": [],
   "source": [
    "# There are also industry-standard formats for jagged arrays.\n",
    "\n",
    "awkward.toparquet(\"one_array.parquet\", events2.array(\"Muon_Px\"))\n",
    "awkward.toparquet(\"many_arrays.parquet\", events2.lazyarrays())"
   ]
  },
  {
   "cell_type": "code",
   "execution_count": 271,
   "metadata": {},
   "outputs": [],
   "source": [
    "# You can also do some crazy things like \"saving the laziness\" of lazy arrays to make lightweight skims:\n",
    "\n",
    "# Read as lazy arrays with \"persist virtual\",\n",
    "data = events.lazyarrays([\"E*\", \"p[xyz]*\"], persistvirtual=True)\n",
    "\n",
    "# add a derived feature to the lazy array,\n",
    "data[\"mass\"] = numpy.sqrt((data[\"E1\"] + data[\"E2\"])**2 - (data[\"px1\"] + data[\"px2\"])**2 -\n",
    "                          (data[\"py1\"] + data[\"py2\"])**2 - (data[\"pz1\"] + data[\"pz2\"])**2)\n",
    "\n",
    "# and save it.\n",
    "awkward.save(\"derived-feature.awkd\", data, mode=\"w\")"
   ]
  },
  {
   "cell_type": "code",
   "execution_count": 273,
   "metadata": {},
   "outputs": [
    {
     "name": "stdout",
     "output_type": "stream",
     "text": [
      "[82.46269155513643 83.62620400526137 83.30846466680981 ... 95.96547966432459 96.49594381502096 96.6567276548945]\n",
      "[82.2018663875 62.3449289481 62.3449289481 ... 81.2701355756 81.2701355756 81.5662173543]\n"
     ]
    }
   ],
   "source": [
    "# When you read it back, the original features from from the ROOT files and the derived from the AWKD:\n",
    "\n",
    "data2 = awkward.load(\"derived-feature.awkd\")\n",
    "\n",
    "# Reads from derived-feature.awkd\n",
    "print(data2[\"mass\"])\n",
    "\n",
    "# Reads from the original ROOT files (if you don't move them!)\n",
    "print(data2[\"E1\"])"
   ]
  },
  {
   "cell_type": "code",
   "execution_count": 274,
   "metadata": {},
   "outputs": [
    {
     "name": "stdout",
     "output_type": "stream",
     "text": [
      "[<Row 16> <Row 17> <Row 18> <Row 19> <Row 47> <Row 48> <Row 49> ...]\n",
      "[<Row 16> <Row 17> <Row 18> ... <Row 2297> <Row 2298> <Row 2299>]\n"
     ]
    }
   ],
   "source": [
    "# Similarly, if you apply masks (cuts) to a lazy array, the cut is saved to AWKD but the original data are in ROOT:\n",
    "\n",
    "selected = data[data[\"mass\"] < 80]\n",
    "print(selected)\n",
    "\n",
    "awkward.save(\"selected-events.awkd\", selected, mode=\"w\")\n",
    "\n",
    "print(awkward.load(\"selected-events.awkd\"))"
   ]
  },
  {
   "cell_type": "markdown",
   "metadata": {},
   "source": [
    "<br><br><br><br><br>\n",
    "\n",
    "<p style=\"font-size: 2em; text-align: center\"><b>That's all!</b></p>\n",
    "\n",
    "<br><br><br><br><br>"
   ]
  }
 ],
 "metadata": {
  "kernelspec": {
   "display_name": "Python 3",
   "language": "python",
   "name": "python3"
  },
  "language_info": {
   "codemirror_mode": {
    "name": "ipython",
    "version": 3
   },
   "file_extension": ".py",
   "mimetype": "text/x-python",
   "name": "python",
   "nbconvert_exporter": "python",
   "pygments_lexer": "ipython3",
   "version": "3.7.2"
  }
 },
 "nbformat": 4,
 "nbformat_minor": 2
}
