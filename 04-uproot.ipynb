{
 "cells": [
  {
   "cell_type": "markdown",
   "metadata": {},
   "source": [
    "<br><br><br><br><br>\n",
    "\n",
    "# uproot: array-based ROOT I/O\n",
    "\n",
    "<br><br><br><br><br>"
   ]
  },
  {
   "cell_type": "code",
   "execution_count": 3,
   "metadata": {},
   "outputs": [
    {
     "data": {
      "text/plain": [
       "[b'one;1', b'three;1']"
      ]
     },
     "execution_count": 3,
     "metadata": {},
     "output_type": "execute_result"
    }
   ],
   "source": [
    "# Uproot presents files and subdirectories with the same interface as Python dicts.\n",
    "\n",
    "import uproot\n",
    "file = uproot.open(\"http://scikit-hep.org/uproot/examples/nesteddirs.root\")\n",
    "file.keys()\n",
    "\n",
    "# Exercise: how many objects named \"tree\" does this file contain?\n",
    "# \n",
    "# (https://uproot.readthedocs.io/en/latest/root-io.html#uproot-rootio-rootdirectory)"
   ]
  },
  {
   "cell_type": "code",
   "execution_count": 4,
   "metadata": {},
   "outputs": [
    {
     "data": {
      "text/plain": [
       "[b'Type',\n",
       " b'Run',\n",
       " b'Event',\n",
       " b'E1',\n",
       " b'px1',\n",
       " b'py1',\n",
       " b'pz1',\n",
       " b'pt1',\n",
       " b'eta1',\n",
       " b'phi1',\n",
       " b'Q1',\n",
       " b'E2',\n",
       " b'px2',\n",
       " b'py2',\n",
       " b'pz2',\n",
       " b'pt2',\n",
       " b'eta2',\n",
       " b'phi2',\n",
       " b'Q2',\n",
       " b'M']"
      ]
     },
     "execution_count": 4,
     "metadata": {},
     "output_type": "execute_result"
    }
   ],
   "source": [
    "# TTrees are also presented like Python dicts.\n",
    "\n",
    "events = uproot.open(\"http://scikit-hep.org/uproot/examples/Zmumu.root\")[\"events\"]\n",
    "events.keys()"
   ]
  },
  {
   "cell_type": "code",
   "execution_count": 142,
   "metadata": {},
   "outputs": [
    {
     "name": "stdout",
     "output_type": "stream",
     "text": [
      "[82.20186639 62.34492895 62.34492895 ... 81.27013558 81.27013558\n",
      " 81.56621735]\n",
      "\n",
      "{b'E1': array([82.20186639, 62.34492895, 62.34492895, ..., 81.27013558,\n",
      "       81.27013558, 81.56621735]), b'px1': array([-41.19528764,  35.11804977,  35.11804977, ...,  32.37749196,\n",
      "        32.37749196,  32.48539387]), b'py1': array([ 17.4332439 , -16.57036233, -16.57036233, ...,   1.19940578,\n",
      "         1.19940578,   1.2013503 ]), b'pz1': array([-68.96496181, -48.77524654, -48.77524654, ..., -74.53243061,\n",
      "       -74.53243061, -74.80837247])}\n"
     ]
    }
   ],
   "source": [
    "# And there are functions with names like array (singular) and arrays (plural) to get one or more arrays.\n",
    "\n",
    "print(events.array(\"E1\"), end=\"\\n\\n\")\n",
    "\n",
    "print(events.arrays([\"E1\", \"px1\", \"py1\", \"pz1\"]))"
   ]
  },
  {
   "cell_type": "code",
   "execution_count": 143,
   "metadata": {},
   "outputs": [
    {
     "data": {
      "text/plain": [
       "{'E1': array([82.20186639, 62.34492895, 62.34492895, ..., 81.27013558,\n",
       "        81.27013558, 81.56621735]),\n",
       " 'px1': array([-41.19528764,  35.11804977,  35.11804977, ...,  32.37749196,\n",
       "         32.37749196,  32.48539387]),\n",
       " 'py1': array([ 17.4332439 , -16.57036233, -16.57036233, ...,   1.19940578,\n",
       "          1.19940578,   1.2013503 ]),\n",
       " 'pz1': array([-68.96496181, -48.77524654, -48.77524654, ..., -74.53243061,\n",
       "        -74.53243061, -74.80837247])}"
      ]
     },
     "execution_count": 143,
     "metadata": {},
     "output_type": "execute_result"
    }
   ],
   "source": [
    "# Some tricks for arrays (plural): (1) specify an encoding to get strings, rather than raw bytes, as dict keys:\n",
    "\n",
    "events.arrays([\"E1\", \"px1\", \"py1\", \"pz1\"], namedecode=\"utf-8\")"
   ]
  },
  {
   "cell_type": "code",
   "execution_count": 144,
   "metadata": {},
   "outputs": [
    {
     "data": {
      "text/plain": [
       "(array([82.20186639, 62.34492895, 62.34492895, ..., 81.27013558,\n",
       "        81.27013558, 81.56621735]),\n",
       " array([-41.19528764,  35.11804977,  35.11804977, ...,  32.37749196,\n",
       "         32.37749196,  32.48539387]),\n",
       " array([ 17.4332439 , -16.57036233, -16.57036233, ...,   1.19940578,\n",
       "          1.19940578,   1.2013503 ]),\n",
       " array([-68.96496181, -48.77524654, -48.77524654, ..., -74.53243061,\n",
       "        -74.53243061, -74.80837247]))"
      ]
     },
     "execution_count": 144,
     "metadata": {},
     "output_type": "execute_result"
    }
   ],
   "source": [
    "# Some tricks for arrays (plural): (2) specify an output type to wrap them in a different container:\n",
    "\n",
    "events.arrays([\"E1\", \"px1\", \"py1\", \"pz1\"], outputtype=tuple)"
   ]
  },
  {
   "cell_type": "code",
   "execution_count": 145,
   "metadata": {},
   "outputs": [
    {
     "data": {
      "text/html": [
       "<div>\n",
       "<style scoped>\n",
       "    .dataframe tbody tr th:only-of-type {\n",
       "        vertical-align: middle;\n",
       "    }\n",
       "\n",
       "    .dataframe tbody tr th {\n",
       "        vertical-align: top;\n",
       "    }\n",
       "\n",
       "    .dataframe thead th {\n",
       "        text-align: right;\n",
       "    }\n",
       "</style>\n",
       "<table border=\"1\" class=\"dataframe\">\n",
       "  <thead>\n",
       "    <tr style=\"text-align: right;\">\n",
       "      <th></th>\n",
       "      <th>E1</th>\n",
       "      <th>px1</th>\n",
       "      <th>py1</th>\n",
       "      <th>pz1</th>\n",
       "    </tr>\n",
       "    <tr>\n",
       "      <th>entry</th>\n",
       "      <th></th>\n",
       "      <th></th>\n",
       "      <th></th>\n",
       "      <th></th>\n",
       "    </tr>\n",
       "  </thead>\n",
       "  <tbody>\n",
       "    <tr>\n",
       "      <th>0</th>\n",
       "      <td>82.201866</td>\n",
       "      <td>-41.195288</td>\n",
       "      <td>17.433244</td>\n",
       "      <td>-68.964962</td>\n",
       "    </tr>\n",
       "    <tr>\n",
       "      <th>1</th>\n",
       "      <td>62.344929</td>\n",
       "      <td>35.118050</td>\n",
       "      <td>-16.570362</td>\n",
       "      <td>-48.775247</td>\n",
       "    </tr>\n",
       "    <tr>\n",
       "      <th>2</th>\n",
       "      <td>62.344929</td>\n",
       "      <td>35.118050</td>\n",
       "      <td>-16.570362</td>\n",
       "      <td>-48.775247</td>\n",
       "    </tr>\n",
       "    <tr>\n",
       "      <th>3</th>\n",
       "      <td>60.621875</td>\n",
       "      <td>34.144437</td>\n",
       "      <td>-16.119525</td>\n",
       "      <td>-47.426984</td>\n",
       "    </tr>\n",
       "    <tr>\n",
       "      <th>4</th>\n",
       "      <td>41.826389</td>\n",
       "      <td>22.783582</td>\n",
       "      <td>15.036444</td>\n",
       "      <td>-31.689894</td>\n",
       "    </tr>\n",
       "    <tr>\n",
       "      <th>5</th>\n",
       "      <td>48.981407</td>\n",
       "      <td>-19.862307</td>\n",
       "      <td>-9.204225</td>\n",
       "      <td>43.817098</td>\n",
       "    </tr>\n",
       "    <tr>\n",
       "      <th>6</th>\n",
       "      <td>48.981407</td>\n",
       "      <td>-19.862307</td>\n",
       "      <td>-9.204225</td>\n",
       "      <td>43.817098</td>\n",
       "    </tr>\n",
       "    <tr>\n",
       "      <th>7</th>\n",
       "      <td>49.760726</td>\n",
       "      <td>-20.177373</td>\n",
       "      <td>-9.354149</td>\n",
       "      <td>44.513955</td>\n",
       "    </tr>\n",
       "    <tr>\n",
       "      <th>8</th>\n",
       "      <td>132.780755</td>\n",
       "      <td>71.143711</td>\n",
       "      <td>29.542308</td>\n",
       "      <td>-108.150553</td>\n",
       "    </tr>\n",
       "    <tr>\n",
       "      <th>9</th>\n",
       "      <td>88.078330</td>\n",
       "      <td>51.050486</td>\n",
       "      <td>-51.849400</td>\n",
       "      <td>-49.631328</td>\n",
       "    </tr>\n",
       "    <tr>\n",
       "      <th>10</th>\n",
       "      <td>88.078330</td>\n",
       "      <td>51.050486</td>\n",
       "      <td>-51.849400</td>\n",
       "      <td>-49.631328</td>\n",
       "    </tr>\n",
       "    <tr>\n",
       "      <th>11</th>\n",
       "      <td>87.795659</td>\n",
       "      <td>50.870937</td>\n",
       "      <td>-51.669728</td>\n",
       "      <td>-49.502056</td>\n",
       "    </tr>\n",
       "    <tr>\n",
       "      <th>12</th>\n",
       "      <td>48.619144</td>\n",
       "      <td>44.406988</td>\n",
       "      <td>-3.132003</td>\n",
       "      <td>19.545333</td>\n",
       "    </tr>\n",
       "    <tr>\n",
       "      <th>13</th>\n",
       "      <td>46.404351</td>\n",
       "      <td>-39.208844</td>\n",
       "      <td>10.779752</td>\n",
       "      <td>-22.356568</td>\n",
       "    </tr>\n",
       "    <tr>\n",
       "      <th>14</th>\n",
       "      <td>46.404351</td>\n",
       "      <td>-39.208844</td>\n",
       "      <td>10.779752</td>\n",
       "      <td>-22.356568</td>\n",
       "    </tr>\n",
       "    <tr>\n",
       "      <th>15</th>\n",
       "      <td>46.519913</td>\n",
       "      <td>-39.306485</td>\n",
       "      <td>10.807865</td>\n",
       "      <td>-22.411636</td>\n",
       "    </tr>\n",
       "    <tr>\n",
       "      <th>16</th>\n",
       "      <td>57.368150</td>\n",
       "      <td>27.249788</td>\n",
       "      <td>3.083568</td>\n",
       "      <td>-50.388830</td>\n",
       "    </tr>\n",
       "    <tr>\n",
       "      <th>17</th>\n",
       "      <td>80.894157</td>\n",
       "      <td>-42.020547</td>\n",
       "      <td>-5.051576</td>\n",
       "      <td>-68.939166</td>\n",
       "    </tr>\n",
       "    <tr>\n",
       "      <th>18</th>\n",
       "      <td>80.894157</td>\n",
       "      <td>-42.020547</td>\n",
       "      <td>-5.051576</td>\n",
       "      <td>-68.939166</td>\n",
       "    </tr>\n",
       "    <tr>\n",
       "      <th>19</th>\n",
       "      <td>81.311450</td>\n",
       "      <td>-42.242553</td>\n",
       "      <td>-5.076551</td>\n",
       "      <td>-69.291673</td>\n",
       "    </tr>\n",
       "    <tr>\n",
       "      <th>20</th>\n",
       "      <td>79.487794</td>\n",
       "      <td>-27.243260</td>\n",
       "      <td>-23.405122</td>\n",
       "      <td>70.910530</td>\n",
       "    </tr>\n",
       "    <tr>\n",
       "      <th>21</th>\n",
       "      <td>50.507597</td>\n",
       "      <td>33.674921</td>\n",
       "      <td>29.653424</td>\n",
       "      <td>23.187934</td>\n",
       "    </tr>\n",
       "    <tr>\n",
       "      <th>22</th>\n",
       "      <td>50.507597</td>\n",
       "      <td>33.674921</td>\n",
       "      <td>29.653424</td>\n",
       "      <td>23.187934</td>\n",
       "    </tr>\n",
       "    <tr>\n",
       "      <th>23</th>\n",
       "      <td>50.592111</td>\n",
       "      <td>33.728272</td>\n",
       "      <td>29.701482</td>\n",
       "      <td>23.233082</td>\n",
       "    </tr>\n",
       "    <tr>\n",
       "      <th>24</th>\n",
       "      <td>41.470909</td>\n",
       "      <td>-2.951523</td>\n",
       "      <td>-36.093120</td>\n",
       "      <td>-20.208917</td>\n",
       "    </tr>\n",
       "    <tr>\n",
       "      <th>25</th>\n",
       "      <td>55.392978</td>\n",
       "      <td>3.996323</td>\n",
       "      <td>40.211907</td>\n",
       "      <td>37.886709</td>\n",
       "    </tr>\n",
       "    <tr>\n",
       "      <th>26</th>\n",
       "      <td>55.392978</td>\n",
       "      <td>3.996323</td>\n",
       "      <td>40.211907</td>\n",
       "      <td>37.886709</td>\n",
       "    </tr>\n",
       "    <tr>\n",
       "      <th>27</th>\n",
       "      <td>55.542907</td>\n",
       "      <td>4.007466</td>\n",
       "      <td>40.319935</td>\n",
       "      <td>37.990083</td>\n",
       "    </tr>\n",
       "    <tr>\n",
       "      <th>28</th>\n",
       "      <td>112.883981</td>\n",
       "      <td>-2.419678</td>\n",
       "      <td>-45.436617</td>\n",
       "      <td>-103.307507</td>\n",
       "    </tr>\n",
       "    <tr>\n",
       "      <th>29</th>\n",
       "      <td>31.419951</td>\n",
       "      <td>-5.911541</td>\n",
       "      <td>30.099173</td>\n",
       "      <td>-6.804086</td>\n",
       "    </tr>\n",
       "    <tr>\n",
       "      <th>...</th>\n",
       "      <td>...</td>\n",
       "      <td>...</td>\n",
       "      <td>...</td>\n",
       "      <td>...</td>\n",
       "    </tr>\n",
       "    <tr>\n",
       "      <th>2274</th>\n",
       "      <td>23.712817</td>\n",
       "      <td>16.962188</td>\n",
       "      <td>-15.219455</td>\n",
       "      <td>6.552776</td>\n",
       "    </tr>\n",
       "    <tr>\n",
       "      <th>2275</th>\n",
       "      <td>23.684190</td>\n",
       "      <td>16.941295</td>\n",
       "      <td>-15.201413</td>\n",
       "      <td>6.545172</td>\n",
       "    </tr>\n",
       "    <tr>\n",
       "      <th>2276</th>\n",
       "      <td>66.967245</td>\n",
       "      <td>-56.585255</td>\n",
       "      <td>10.765311</td>\n",
       "      <td>-34.158714</td>\n",
       "    </tr>\n",
       "    <tr>\n",
       "      <th>2277</th>\n",
       "      <td>33.717409</td>\n",
       "      <td>32.980637</td>\n",
       "      <td>-1.925555</td>\n",
       "      <td>-6.739611</td>\n",
       "    </tr>\n",
       "    <tr>\n",
       "      <th>2278</th>\n",
       "      <td>33.717409</td>\n",
       "      <td>32.980637</td>\n",
       "      <td>-1.925555</td>\n",
       "      <td>-6.739611</td>\n",
       "    </tr>\n",
       "    <tr>\n",
       "      <th>2279</th>\n",
       "      <td>33.853678</td>\n",
       "      <td>33.113825</td>\n",
       "      <td>-1.934790</td>\n",
       "      <td>-6.766947</td>\n",
       "    </tr>\n",
       "    <tr>\n",
       "      <th>2280</th>\n",
       "      <td>42.580187</td>\n",
       "      <td>-36.045090</td>\n",
       "      <td>-8.456551</td>\n",
       "      <td>-21.030915</td>\n",
       "    </tr>\n",
       "    <tr>\n",
       "      <th>2281</th>\n",
       "      <td>53.526322</td>\n",
       "      <td>36.668310</td>\n",
       "      <td>38.486189</td>\n",
       "      <td>6.269309</td>\n",
       "    </tr>\n",
       "    <tr>\n",
       "      <th>2282</th>\n",
       "      <td>53.526322</td>\n",
       "      <td>36.668310</td>\n",
       "      <td>38.486189</td>\n",
       "      <td>6.269309</td>\n",
       "    </tr>\n",
       "    <tr>\n",
       "      <th>2283</th>\n",
       "      <td>53.508055</td>\n",
       "      <td>36.655204</td>\n",
       "      <td>38.472433</td>\n",
       "      <td>6.274452</td>\n",
       "    </tr>\n",
       "    <tr>\n",
       "      <th>2284</th>\n",
       "      <td>46.432408</td>\n",
       "      <td>22.435607</td>\n",
       "      <td>-22.743227</td>\n",
       "      <td>-33.694904</td>\n",
       "    </tr>\n",
       "    <tr>\n",
       "      <th>2285</th>\n",
       "      <td>52.581357</td>\n",
       "      <td>4.606652</td>\n",
       "      <td>43.856122</td>\n",
       "      <td>28.639261</td>\n",
       "    </tr>\n",
       "    <tr>\n",
       "      <th>2286</th>\n",
       "      <td>52.581357</td>\n",
       "      <td>4.606652</td>\n",
       "      <td>43.856122</td>\n",
       "      <td>28.639261</td>\n",
       "    </tr>\n",
       "    <tr>\n",
       "      <th>2287</th>\n",
       "      <td>52.533500</td>\n",
       "      <td>4.603120</td>\n",
       "      <td>43.818284</td>\n",
       "      <td>28.609906</td>\n",
       "    </tr>\n",
       "    <tr>\n",
       "      <th>2288</th>\n",
       "      <td>45.205618</td>\n",
       "      <td>-41.878716</td>\n",
       "      <td>2.697471</td>\n",
       "      <td>-16.805758</td>\n",
       "    </tr>\n",
       "    <tr>\n",
       "      <th>2289</th>\n",
       "      <td>58.235411</td>\n",
       "      <td>47.751704</td>\n",
       "      <td>9.223864</td>\n",
       "      <td>-32.031970</td>\n",
       "    </tr>\n",
       "    <tr>\n",
       "      <th>2290</th>\n",
       "      <td>58.235411</td>\n",
       "      <td>47.751704</td>\n",
       "      <td>9.223864</td>\n",
       "      <td>-32.031970</td>\n",
       "    </tr>\n",
       "    <tr>\n",
       "      <th>2291</th>\n",
       "      <td>58.054571</td>\n",
       "      <td>47.607872</td>\n",
       "      <td>9.197612</td>\n",
       "      <td>-31.925170</td>\n",
       "    </tr>\n",
       "    <tr>\n",
       "      <th>2292</th>\n",
       "      <td>107.167787</td>\n",
       "      <td>-15.258505</td>\n",
       "      <td>-33.719314</td>\n",
       "      <td>100.573900</td>\n",
       "    </tr>\n",
       "    <tr>\n",
       "      <th>2293</th>\n",
       "      <td>35.364583</td>\n",
       "      <td>12.966984</td>\n",
       "      <td>30.974506</td>\n",
       "      <td>11.094139</td>\n",
       "    </tr>\n",
       "    <tr>\n",
       "      <th>2294</th>\n",
       "      <td>35.364583</td>\n",
       "      <td>12.966984</td>\n",
       "      <td>30.974506</td>\n",
       "      <td>11.094139</td>\n",
       "    </tr>\n",
       "    <tr>\n",
       "      <th>2295</th>\n",
       "      <td>35.460376</td>\n",
       "      <td>13.001270</td>\n",
       "      <td>31.059021</td>\n",
       "      <td>11.123455</td>\n",
       "    </tr>\n",
       "    <tr>\n",
       "      <th>2296</th>\n",
       "      <td>27.742542</td>\n",
       "      <td>-16.891371</td>\n",
       "      <td>-15.335677</td>\n",
       "      <td>-15.784044</td>\n",
       "    </tr>\n",
       "    <tr>\n",
       "      <th>2297</th>\n",
       "      <td>32.676344</td>\n",
       "      <td>19.037577</td>\n",
       "      <td>14.820723</td>\n",
       "      <td>22.037447</td>\n",
       "    </tr>\n",
       "    <tr>\n",
       "      <th>2298</th>\n",
       "      <td>32.676344</td>\n",
       "      <td>19.037577</td>\n",
       "      <td>14.820723</td>\n",
       "      <td>22.037447</td>\n",
       "    </tr>\n",
       "    <tr>\n",
       "      <th>2299</th>\n",
       "      <td>32.701650</td>\n",
       "      <td>19.054651</td>\n",
       "      <td>14.833954</td>\n",
       "      <td>22.051323</td>\n",
       "    </tr>\n",
       "    <tr>\n",
       "      <th>2300</th>\n",
       "      <td>168.780121</td>\n",
       "      <td>-68.041915</td>\n",
       "      <td>-26.105847</td>\n",
       "      <td>-152.235018</td>\n",
       "    </tr>\n",
       "    <tr>\n",
       "      <th>2301</th>\n",
       "      <td>81.270136</td>\n",
       "      <td>32.377492</td>\n",
       "      <td>1.199406</td>\n",
       "      <td>-74.532431</td>\n",
       "    </tr>\n",
       "    <tr>\n",
       "      <th>2302</th>\n",
       "      <td>81.270136</td>\n",
       "      <td>32.377492</td>\n",
       "      <td>1.199406</td>\n",
       "      <td>-74.532431</td>\n",
       "    </tr>\n",
       "    <tr>\n",
       "      <th>2303</th>\n",
       "      <td>81.566217</td>\n",
       "      <td>32.485394</td>\n",
       "      <td>1.201350</td>\n",
       "      <td>-74.808372</td>\n",
       "    </tr>\n",
       "  </tbody>\n",
       "</table>\n",
       "<p>2304 rows × 4 columns</p>\n",
       "</div>"
      ],
      "text/plain": [
       "               E1        px1        py1         pz1\n",
       "entry                                              \n",
       "0       82.201866 -41.195288  17.433244  -68.964962\n",
       "1       62.344929  35.118050 -16.570362  -48.775247\n",
       "2       62.344929  35.118050 -16.570362  -48.775247\n",
       "3       60.621875  34.144437 -16.119525  -47.426984\n",
       "4       41.826389  22.783582  15.036444  -31.689894\n",
       "5       48.981407 -19.862307  -9.204225   43.817098\n",
       "6       48.981407 -19.862307  -9.204225   43.817098\n",
       "7       49.760726 -20.177373  -9.354149   44.513955\n",
       "8      132.780755  71.143711  29.542308 -108.150553\n",
       "9       88.078330  51.050486 -51.849400  -49.631328\n",
       "10      88.078330  51.050486 -51.849400  -49.631328\n",
       "11      87.795659  50.870937 -51.669728  -49.502056\n",
       "12      48.619144  44.406988  -3.132003   19.545333\n",
       "13      46.404351 -39.208844  10.779752  -22.356568\n",
       "14      46.404351 -39.208844  10.779752  -22.356568\n",
       "15      46.519913 -39.306485  10.807865  -22.411636\n",
       "16      57.368150  27.249788   3.083568  -50.388830\n",
       "17      80.894157 -42.020547  -5.051576  -68.939166\n",
       "18      80.894157 -42.020547  -5.051576  -68.939166\n",
       "19      81.311450 -42.242553  -5.076551  -69.291673\n",
       "20      79.487794 -27.243260 -23.405122   70.910530\n",
       "21      50.507597  33.674921  29.653424   23.187934\n",
       "22      50.507597  33.674921  29.653424   23.187934\n",
       "23      50.592111  33.728272  29.701482   23.233082\n",
       "24      41.470909  -2.951523 -36.093120  -20.208917\n",
       "25      55.392978   3.996323  40.211907   37.886709\n",
       "26      55.392978   3.996323  40.211907   37.886709\n",
       "27      55.542907   4.007466  40.319935   37.990083\n",
       "28     112.883981  -2.419678 -45.436617 -103.307507\n",
       "29      31.419951  -5.911541  30.099173   -6.804086\n",
       "...           ...        ...        ...         ...\n",
       "2274    23.712817  16.962188 -15.219455    6.552776\n",
       "2275    23.684190  16.941295 -15.201413    6.545172\n",
       "2276    66.967245 -56.585255  10.765311  -34.158714\n",
       "2277    33.717409  32.980637  -1.925555   -6.739611\n",
       "2278    33.717409  32.980637  -1.925555   -6.739611\n",
       "2279    33.853678  33.113825  -1.934790   -6.766947\n",
       "2280    42.580187 -36.045090  -8.456551  -21.030915\n",
       "2281    53.526322  36.668310  38.486189    6.269309\n",
       "2282    53.526322  36.668310  38.486189    6.269309\n",
       "2283    53.508055  36.655204  38.472433    6.274452\n",
       "2284    46.432408  22.435607 -22.743227  -33.694904\n",
       "2285    52.581357   4.606652  43.856122   28.639261\n",
       "2286    52.581357   4.606652  43.856122   28.639261\n",
       "2287    52.533500   4.603120  43.818284   28.609906\n",
       "2288    45.205618 -41.878716   2.697471  -16.805758\n",
       "2289    58.235411  47.751704   9.223864  -32.031970\n",
       "2290    58.235411  47.751704   9.223864  -32.031970\n",
       "2291    58.054571  47.607872   9.197612  -31.925170\n",
       "2292   107.167787 -15.258505 -33.719314  100.573900\n",
       "2293    35.364583  12.966984  30.974506   11.094139\n",
       "2294    35.364583  12.966984  30.974506   11.094139\n",
       "2295    35.460376  13.001270  31.059021   11.123455\n",
       "2296    27.742542 -16.891371 -15.335677  -15.784044\n",
       "2297    32.676344  19.037577  14.820723   22.037447\n",
       "2298    32.676344  19.037577  14.820723   22.037447\n",
       "2299    32.701650  19.054651  14.833954   22.051323\n",
       "2300   168.780121 -68.041915 -26.105847 -152.235018\n",
       "2301    81.270136  32.377492   1.199406  -74.532431\n",
       "2302    81.270136  32.377492   1.199406  -74.532431\n",
       "2303    81.566217  32.485394   1.201350  -74.808372\n",
       "\n",
       "[2304 rows x 4 columns]"
      ]
     },
     "execution_count": 145,
     "metadata": {},
     "output_type": "execute_result"
    }
   ],
   "source": [
    "# Some tricks for arrays (plural): (2) specify an output type to wrap them in a different container:\n",
    "\n",
    "import pandas\n",
    "events.arrays([\"E1\", \"px1\", \"py1\", \"pz1\"], outputtype=pandas.DataFrame)"
   ]
  },
  {
   "cell_type": "code",
   "execution_count": 150,
   "metadata": {},
   "outputs": [
    {
     "data": {
      "text/plain": [
       "{b'Event': array([10507008, 10507008, 10507008, ..., 99991333, 99991333, 99991333],\n",
       "       dtype=int32),\n",
       " b'E1': array([82.20186639, 62.34492895, 62.34492895, ..., 81.27013558,\n",
       "        81.27013558, 81.56621735]),\n",
       " b'E2': array([ 60.62187459,  82.20186639,  81.58277833, ..., 168.78012134,\n",
       "        170.58313243, 170.58313243]),\n",
       " b'px1': array([-41.19528764,  35.11804977,  35.11804977, ...,  32.37749196,\n",
       "         32.37749196,  32.48539387]),\n",
       " b'py1': array([ 17.4332439 , -16.57036233, -16.57036233, ...,   1.19940578,\n",
       "          1.19940578,   1.2013503 ]),\n",
       " b'pz1': array([-68.96496181, -48.77524654, -48.77524654, ..., -74.53243061,\n",
       "        -74.53243061, -74.80837247])}"
      ]
     },
     "execution_count": 150,
     "metadata": {},
     "output_type": "execute_result"
    }
   ],
   "source": [
    "# Some tricks for arrays (plural): (3a) use filename wildcards (*, ?, [...]) to select by name-pattern.\n",
    "\n",
    "events.arrays([\"E*\", \"p[xyz]1\"])"
   ]
  },
  {
   "cell_type": "code",
   "execution_count": 152,
   "metadata": {},
   "outputs": [
    {
     "data": {
      "text/plain": [
       "{b'Event': array([10507008, 10507008, 10507008, ..., 99991333, 99991333, 99991333],\n",
       "       dtype=int32),\n",
       " b'E1': array([82.20186639, 62.34492895, 62.34492895, ..., 81.27013558,\n",
       "        81.27013558, 81.56621735]),\n",
       " b'E2': array([ 60.62187459,  82.20186639,  81.58277833, ..., 168.78012134,\n",
       "        170.58313243, 170.58313243]),\n",
       " b'px1': array([-41.19528764,  35.11804977,  35.11804977, ...,  32.37749196,\n",
       "         32.37749196,  32.48539387]),\n",
       " b'py1': array([ 17.4332439 , -16.57036233, -16.57036233, ...,   1.19940578,\n",
       "          1.19940578,   1.2013503 ]),\n",
       " b'pz1': array([-68.96496181, -48.77524654, -48.77524654, ..., -74.53243061,\n",
       "        -74.53243061, -74.80837247])}"
      ]
     },
     "execution_count": 152,
     "metadata": {},
     "output_type": "execute_result"
    }
   ],
   "source": [
    "# Some tricks for arrays (plural): (3b) use slashes inside the quotes to use full regular expressions.\n",
    "\n",
    "events.arrays([\"/E.*/\", \"/p[x-z]1/\"])"
   ]
  },
  {
   "cell_type": "markdown",
   "metadata": {},
   "source": [
    "<p style=\"font-size: 2em\">Three basic ways to get data:</p>\n",
    "\n",
    "<table width=\"100%\" style=\"font-size: 1.25em\"><tr>\n",
    "    <td width=\"33%\" style=\"vertical-align: top\">\n",
    "        <p style=\"font-weight: bold; font-size: 1.5em; margin-bottom: 0.5em\">Direct</p>\n",
    "        <p>Read the file and return an array.</p>\n",
    "        <ul>\n",
    "            <li style=\"margin-bottom: 0.3em\"><a href=\"https://uproot.readthedocs.io/en/latest/ttree-handling.html#id11\">TBranch.array</a></li>\n",
    "            <li style=\"margin-bottom: 0.3em\"><a href=\"https://uproot.readthedocs.io/en/latest/ttree-handling.html#array\">TTree.array</a></li>\n",
    "            <li style=\"margin-bottom: 0.3em\"><a href=\"https://uproot.readthedocs.io/en/latest/ttree-handling.html#arrays\">TTree.arrays</a></li>\n",
    "        </ul>\n",
    "    </td><td width=\"33%\" style=\"vertical-align: top\">\n",
    "        <p style=\"font-weight: bold; font-size: 1.5em; margin-bottom: 0.5em\">Lazy</p>\n",
    "        <p>Get an object that reads on demand.</p>\n",
    "        <ul>\n",
    "            <li style=\"margin-bottom: 0.3em\"><a href=\"https://uproot.readthedocs.io/en/latest/ttree-handling.html#id13\">TBranch.lazyarray</a></li>\n",
    "            <li style=\"margin-bottom: 0.3em\"><a href=\"https://uproot.readthedocs.io/en/latest/ttree-handling.html#lazyarray\">TTree.lazyarray</a></li>\n",
    "            <li style=\"margin-bottom: 0.3em\"><a href=\"https://uproot.readthedocs.io/en/latest/ttree-handling.html#lazyarrays\">TTree.lazyarrays</a></li>\n",
    "            <li style=\"margin-bottom: 0.3em\"><a href=\"https://uproot.readthedocs.io/en/latest/opening-files.html#uproot-lazyarray-and-lazyarrays\">uproot.lazyarray</a></li>\n",
    "            <li style=\"margin-bottom: 0.3em\"><a href=\"https://uproot.readthedocs.io/en/latest/opening-files.html#uproot-lazyarray-and-lazyarrays\">uproot.lazyarrays</a></li>\n",
    "        </ul>\n",
    "    </td><td width=\"33%\" style=\"vertical-align: top\">\n",
    "        <p style=\"font-weight: bold; font-size: 1.5em; margin-bottom: 0.5em\">Iterative</p>\n",
    "        <p>Read arrays in batches of entries.</p>\n",
    "        <ul>\n",
    "            <li style=\"margin-bottom: 0.3em\"><a href=\"https://uproot.readthedocs.io/en/latest/ttree-handling.html#iterate\">TTree.iterate</a></li>\n",
    "            <li style=\"margin-bottom: 0.3em\"><a href=\"https://uproot.readthedocs.io/en/latest/opening-files.html#uproot-iterate\">uproot.iterate</a></li>\n",
    "        </ul>\n",
    "    </td>\n",
    "</tr></table>"
   ]
  },
  {
   "cell_type": "code",
   "execution_count": 5,
   "metadata": {},
   "outputs": [
    {
     "data": {
      "text/plain": [
       "array([82.20186639, 62.34492895, 62.34492895, ..., 81.27013558,\n",
       "       81.27013558, 81.56621735])"
      ]
     },
     "execution_count": 5,
     "metadata": {},
     "output_type": "execute_result"
    }
   ],
   "source": [
    "# Direct:\n",
    "\n",
    "events.array(\"E1\")"
   ]
  },
  {
   "cell_type": "code",
   "execution_count": 140,
   "metadata": {},
   "outputs": [
    {
     "data": {
      "text/plain": [
       "<ChunkedArray [82.2018663875 62.3449289481 62.3449289481 ... 81.2701355756 81.2701355756 81.5662173543] at 0x7f39c0214208>"
      ]
     },
     "execution_count": 140,
     "metadata": {},
     "output_type": "execute_result"
    }
   ],
   "source": [
    "# Lazy:\n",
    "\n",
    "array = events.lazyarray(\"E1\", entrysteps=500)\n",
    "# print([len(x) for x in array.chunks])\n",
    "\n",
    "array"
   ]
  },
  {
   "cell_type": "code",
   "execution_count": 10,
   "metadata": {},
   "outputs": [
    {
     "name": "stdout",
     "output_type": "stream",
     "text": [
      "500 [82.20186639 62.34492895 62.34492895 60.62187459 41.82638891]\n",
      "500 [45.7959062  45.7108209  98.03548137 53.53706097 53.53706097]\n",
      "500 [31.4488924  31.4488924  31.39073377 64.85457285 46.92904281]\n",
      "500 [88.35872379 52.5560163  52.5560163  52.38402383 75.34015706]\n",
      "304 [46.0752809  46.0752809  45.93225789 51.01950403 84.91115834]\n"
     ]
    }
   ],
   "source": [
    "# Iterative:\n",
    "\n",
    "for chunk in events.iterate(\"E1\", entrysteps=500):\n",
    "    print(len(chunk[b\"E1\"]), chunk[b\"E1\"][:5])"
   ]
  },
  {
   "cell_type": "markdown",
   "metadata": {},
   "source": [
    "<p style=\"font-size: 2em\">Advantages and disadvantages of each:</p>\n",
    "\n",
    "<table width=\"100%\" style=\"font-size: 1.25em\"><tr>\n",
    "    <td width=\"33%\" style=\"vertical-align: top\">\n",
    "        <p style=\"font-weight: bold; font-size: 1.5em; margin-bottom: 0.5em\">Direct</p>\n",
    "        <p>Simple; most libraries will recognize the Numpy array you get back.</p>\n",
    "    </td><td width=\"33%\" style=\"vertical-align: top\">\n",
    "        <p style=\"font-weight: bold; font-size: 1.5em; margin-bottom: 0.5em\">Lazy</p>\n",
    "        <p>Transparently work on data too large to fit into memory.</p>\n",
    "    </td><td width=\"33%\" style=\"vertical-align: top\">\n",
    "        <p style=\"font-weight: bold; font-size: 1.5em; margin-bottom: 0.5em\">Iterative</p>\n",
    "        <p>Control the loading of data into and out of memory.</p>\n",
    "    </td>\n",
    "</tr></table>"
   ]
  },
  {
   "cell_type": "code",
   "execution_count": 20,
   "metadata": {},
   "outputs": [
    {
     "data": {
      "text/plain": [
       "array([0.10565837, 0.10565839, 0.10565839, ..., 0.10565838, 0.10565838,\n",
       "       0.10565833])"
      ]
     },
     "execution_count": 20,
     "metadata": {},
     "output_type": "execute_result"
    }
   ],
   "source": [
    "# Exercise: compute numpy.sqrt(E1**2 - px1**2 - py1**2 - pz1**2) in all three modes.\n",
    "# \n",
    "# (https://docs.scipy.org/doc/numpy/reference/generated/numpy.concatenate.html)\n",
    "\n",
    "import numpy\n",
    "\n",
    "arrays = events.arrays([\"E1\", \"p[xyz]1\"], namedecode=\"utf-8\")\n",
    "E1, px1, py1, pz1 = arrays[\"E1\"], arrays[\"px1\"], arrays[\"py1\"], arrays[\"pz1\"]\n",
    "\n",
    "result = numpy.sqrt(E1**2 - px1**2 - py1**2 - pz1**2)\n",
    "result"
   ]
  },
  {
   "cell_type": "code",
   "execution_count": 157,
   "metadata": {},
   "outputs": [
    {
     "name": "stdout",
     "output_type": "stream",
     "text": [
      "Lazy or iteration steps as a fixed number of entries:\n",
      "500\n",
      "500\n",
      "500\n",
      "500\n",
      "304\n",
      "\n",
      "Lazy or iteration steps as a fixed memory footprint:\n",
      "717\n",
      "717\n",
      "717\n",
      "153\n"
     ]
    }
   ],
   "source": [
    "print(\"Lazy or iteration steps as a fixed number of entries:\")\n",
    "for arrays in events.iterate(entrysteps=500):\n",
    "    print(len(arrays[b\"E1\"]))\n",
    "\n",
    "print(\"\\nLazy or iteration steps as a fixed memory footprint:\")\n",
    "for arrays in events.iterate(entrysteps=\"100 kB\"):\n",
    "    print(len(arrays[b\"E1\"]))"
   ]
  },
  {
   "cell_type": "markdown",
   "metadata": {},
   "source": [
    "<br><br><br><br><br>\n",
    "\n",
    "## Application: feeding data into PyTorch\n",
    "\n",
    "<br><br><br><br><br>"
   ]
  },
  {
   "cell_type": "code",
   "execution_count": 77,
   "metadata": {},
   "outputs": [
    {
     "data": {
      "image/png": "[encoded data removed]",
      "text/plain": [
       "<Figure size 432x288 with 1 Axes>"
      ]
     },
     "metadata": {
      "needs_background": "light"
     },
     "output_type": "display_data"
    }
   ],
   "source": [
    "# Let's train a neural network! First, though, we need to set up a problem.\n",
    "\n",
    "# 2-dimensional for simplicity (easier to visualize and we don't have much data).\n",
    "E1, E2, px1, py1, pz1, px2, py2, pz2, Q1, Q2 = events.arrays([\"E[12]\", \"p[xyz][12]\", \"Q[12]\"], outputtype=tuple)\n",
    "E = (E1 + E2)\n",
    "p = numpy.sqrt((px1 + px2)**2 + (py1 + py2)**2 + (pz1 + pz2)**2)\n",
    "\n",
    "# Need to predict opposite sign (deepskyblue) vs same sign (orange) using E and p.\n",
    "%matplotlib inline\n",
    "import matplotlib.pyplot\n",
    "matplotlib.pyplot.scatter(E[Q1 != Q2], p[Q1 != Q2], c=\"deepskyblue\", edgecolor=\"black\");\n",
    "matplotlib.pyplot.scatter(E[Q1 == Q2], p[Q1 == Q2], c=\"orange\", edgecolor=\"black\");\n",
    "matplotlib.pyplot.xlim(0, 200);\n",
    "matplotlib.pyplot.ylim(0, 200);"
   ]
  },
  {
   "cell_type": "code",
   "execution_count": 122,
   "metadata": {},
   "outputs": [],
   "source": [
    "import torch                             # transform inputs to fit PyTorch's expected shape and type\n",
    "X = torch.from_numpy(numpy.dstack([E, p])[0].astype(numpy.float32))\n",
    "y = torch.from_numpy((Q1 != Q2).astype(numpy.float32).reshape(-1, 1))\n",
    "\n",
    "neural_network = torch.nn.Sequential(    # the neural network topology:\n",
    "    torch.nn.Linear(2, 5),               # input → hidden: 2 dimensions → 5 dimensions\n",
    "    torch.nn.Sigmoid(),                  # non-linearity applied to each of the 5 components\n",
    "    torch.nn.Linear(5, 1))               # hidden → output: 5 dimensions → 1 dimension\n",
    "\n",
    "loss_fn = torch.nn.MSELoss(reduction=\"sum\")\n",
    "optimizer = torch.optim.Adam(neural_network.parameters(), lr=0.001)\n",
    "\n",
    "for i in range(1000):                    # iterate 1000 times to minimize loss: y_pred - y\n",
    "    y_pred = neural_network(X)           # neural_network is a function: X ↦ y\n",
    "    loss = loss_fn(y_pred, y)\n",
    "    optimizer.zero_grad()\n",
    "    loss.backward()\n",
    "    optimizer.step()"
   ]
  },
  {
   "cell_type": "code",
   "execution_count": 123,
   "metadata": {},
   "outputs": [
    {
     "data": {
      "image/png": "[encoded data removed]",
      "text/plain": [
       "<Figure size 432x288 with 1 Axes>"
      ]
     },
     "metadata": {
      "needs_background": "light"
     },
     "output_type": "display_data"
    }
   ],
   "source": [
    "grid_of_points = numpy.dstack(numpy.mgrid[0:220:20, 0:220:20].astype(numpy.float32))\n",
    "Z = neural_network(torch.from_numpy(grid_of_points)).detach().numpy().reshape(grid_of_points.shape[:2])\n",
    "matplotlib.pyplot.contourf(grid_of_points[:, :, 0], grid_of_points[:, :, 1], Z);\n",
    "matplotlib.pyplot.scatter(E[Q1 != Q2], p[Q1 != Q2], c=\"deepskyblue\", edgecolor=\"black\");\n",
    "matplotlib.pyplot.scatter(E[Q1 == Q2], p[Q1 == Q2], c=\"orange\", edgecolor=\"black\");\n",
    "matplotlib.pyplot.xlim(0, 200);\n",
    "matplotlib.pyplot.ylim(0, 200);"
   ]
  },
  {
   "cell_type": "code",
   "execution_count": 118,
   "metadata": {},
   "outputs": [],
   "source": [
    "# Now let's pretend the sample is so large, we can't load it into memory.\n",
    "# What has changed? What's the same?\n",
    "\n",
    "optimizer = torch.optim.Adam(neural_network.parameters(), lr=0.0001)  # learn slower: fewer data points...\n",
    "\n",
    "for E1, E2, px1, py1, pz1, px2, py2, pz2, Q1, Q2 in \\\n",
    "        events.iterate([\"E[12]\", \"p[xyz][12]\", \"Q[12]\"], outputtype=tuple, entrysteps=500):\n",
    "    E = (E1 + E2)\n",
    "    p = numpy.sqrt((px1 + px2)**2 + (py1 + py2)**2 + (pz1 + pz2)**2)\n",
    "    \n",
    "    X = torch.from_numpy(numpy.dstack([E, p])[0].astype(numpy.float32))\n",
    "    y = torch.from_numpy((Q1 != Q2).astype(numpy.float32).reshape(-1, 1))\n",
    "\n",
    "    for i in range(1000):\n",
    "        y_pred = neural_network(X)\n",
    "        loss = loss_fn(y_pred, y)\n",
    "        optimizer.zero_grad()\n",
    "        loss.backward()\n",
    "        optimizer.step()"
   ]
  },
  {
   "cell_type": "code",
   "execution_count": 126,
   "metadata": {},
   "outputs": [
    {
     "data": {
      "text/plain": [
       "(<JaggedArray [[54.7795 39.401695] [31.690445] [54.739788 47.488857] ... [62.39516] [174.20863] [69.55621]] at 0x7f39a04a5748>,\n",
       " <JaggedArray [[-52.899456 37.73778] [-0.81645936] [48.98783 0.8275667] ... [-29.756786] [1.1418698] [23.913206]] at 0x7f39a04a5f28>,\n",
       " <JaggedArray [[-11.654672 0.6934736] [-24.404259] [-21.723139 29.800508] ... [-15.303859] [63.60957] [-35.665077]] at 0x7f39a0486550>,\n",
       " <JaggedArray [[-8.160793 -11.307582] [20.199968] [11.168285 36.96519] ... [-52.66375] [162.17632] [54.719437]] at 0x7f39a04865f8>,\n",
       " <JaggedArray [[1 -1] [1] [1 -1] ... [-1] [-1] [-1]] at 0x7f39a0486eb8>)"
      ]
     },
     "execution_count": 126,
     "metadata": {},
     "output_type": "execute_result"
    }
   ],
   "source": [
    "# Now do it from a sample of jagged arrays (variable number of values per event).\n",
    "\n",
    "events2 = uproot.open(\"http://scikit-hep.org/uproot/examples/HZZ.root\")[\"events\"]\n",
    "E_all, px_all, py_all, pz_all, q_all = events2.arrays([\"Muon_E\", \"Muon_P[xyz]\", \"Muon_Charge\"], outputtype=tuple)\n",
    "\n",
    "E_all, px_all, py_all, pz_all, q_all"
   ]
  },
  {
   "cell_type": "code",
   "execution_count": 125,
   "metadata": {},
   "outputs": [
    {
     "name": "stdout",
     "output_type": "stream",
     "text": [
      "[2 1 2 ... 1 1 1]\n"
     ]
    },
    {
     "data": {
      "text/plain": [
       "(array([ 54.7795  ,  54.739788, 413.46002 , ...,  60.03222 ,  66.367775,\n",
       "        157.22563 ], dtype=float32),\n",
       " array([ 39.401695,  47.488857, 344.04153 , ...,  40.399345,  28.650345,\n",
       "        116.12509 ], dtype=float32))"
      ]
     },
     "execution_count": 125,
     "metadata": {},
     "output_type": "execute_result"
    }
   ],
   "source": [
    "# Getting two muons from events that have them:\n",
    "\n",
    "print(E_all.counts)\n",
    "\n",
    "E_all[E_all.counts >= 2, 0], E_all[E_all.counts >= 2, 1]"
   ]
  },
  {
   "cell_type": "code",
   "execution_count": 134,
   "metadata": {},
   "outputs": [
    {
     "data": {
      "text/plain": [
       "(array([ 54.7795  ,  54.739788, 413.46002 , ...,  60.03222 ,  66.367775,\n",
       "        157.22563 ], dtype=float32),\n",
       " array([ 39.401695,  47.488857, 344.04153 , ...,  40.399345,  28.650345,\n",
       "        116.12509 ], dtype=float32))"
      ]
     },
     "execution_count": 134,
     "metadata": {},
     "output_type": "execute_result"
    }
   ],
   "source": [
    "# Or all pairs, without double-counting:\n",
    "\n",
    "left, right = E_all.argchoose(2).i0, E_all.argchoose(2).i1\n",
    "\n",
    "E_all[left].flatten(), E_all[right].flatten()"
   ]
  },
  {
   "cell_type": "code",
   "execution_count": 138,
   "metadata": {},
   "outputs": [],
   "source": [
    "# Exercise: set up and run the neural network with muons from the jagged sample.\n",
    "\n",
    "X = FIXME\n",
    "y = FIXME\n",
    "\n",
    "neural_network = torch.nn.Sequential(torch.nn.Linear(2, 5), torch.nn.Sigmoid(), torch.nn.Linear(5, 1))\n",
    "loss_fn = torch.nn.MSELoss(reduction=\"sum\")\n",
    "optimizer = torch.optim.Adam(neural_network.parameters(), lr=0.001)\n",
    "for i in range(1000):\n",
    "    y_pred = neural_network(X)\n",
    "    loss = loss_fn(y_pred, y)\n",
    "    optimizer.zero_grad()\n",
    "    loss.backward()\n",
    "    optimizer.step()"
   ]
  },
  {
   "cell_type": "code",
   "execution_count": 139,
   "metadata": {},
   "outputs": [],
   "source": [
    "grid_of_points = numpy.dstack(numpy.mgrid[0:520:20, 0:520:20].astype(numpy.float32))\n",
    "Z = neural_network(torch.from_numpy(grid_of_points)).detach().numpy().reshape(grid_of_points.shape[:2])\n",
    "matplotlib.pyplot.contourf(grid_of_points[:, :, 0], grid_of_points[:, :, 1], Z);\n",
    "matplotlib.pyplot.scatter(E[Q1 != Q2], p[Q1 != Q2], c=\"deepskyblue\", edgecolor=\"black\");\n",
    "matplotlib.pyplot.scatter(E[Q1 == Q2], p[Q1 == Q2], c=\"orange\", edgecolor=\"black\");\n",
    "matplotlib.pyplot.xlim(0, 500);\n",
    "matplotlib.pyplot.ylim(0, 500);"
   ]
  },
  {
   "cell_type": "markdown",
   "metadata": {},
   "source": [
    "<br><br><br><br><br>\n",
    "\n",
    "## Caching\n",
    "\n",
    "<br><br><br><br><br>"
   ]
  },
  {
   "cell_type": "code",
   "execution_count": 158,
   "metadata": {},
   "outputs": [
    {
     "data": {
      "text/plain": [
       "array([0.10565837, 0.10565839, 0.10565839, ..., 0.10565838, 0.10565838,\n",
       "       0.10565833])"
      ]
     },
     "execution_count": 158,
     "metadata": {},
     "output_type": "execute_result"
    }
   ],
   "source": [
    "# Direct array-reading is simple: every time you ask for an array, it reads from the file (raw bytes may be cached).\n",
    "# \n",
    "# You could avoid duplicate reading/decompressing/formatting by keeping a reference to previously read arrays.\n",
    "\n",
    "# read\n",
    "arrays = events.arrays([\"E1\", \"p[xyz]1\"], namedecode=\"utf-8\")\n",
    "\n",
    "# use\n",
    "numpy.sqrt(arrays[\"px1\"]**2 + arrays[\"py1\"]**2)\n",
    "\n",
    "# use again\n",
    "numpy.sqrt(arrays[\"E1\"]**2 - arrays[\"px1\"]**2 - arrays[\"py1\"]**2 - arrays[\"pz1\"]**2)"
   ]
  },
  {
   "cell_type": "code",
   "execution_count": 159,
   "metadata": {},
   "outputs": [
    {
     "data": {
      "text/plain": [
       "array([0.10565837, 0.10565839, 0.10565839, ..., 0.10565838, 0.10565838,\n",
       "       0.10565833])"
      ]
     },
     "execution_count": 159,
     "metadata": {},
     "output_type": "execute_result"
    }
   ],
   "source": [
    "# But that would force you to re-arrange your analysis script to satisfy hardware constraints.\n",
    "# \n",
    "# Instead, use uproot's caching mechanism: any dict-like object can be used as a cache.\n",
    "\n",
    "mycache = {}\n",
    "\n",
    "# read and use\n",
    "E1, px1, py1, pz1 = events.arrays([\"E1\", \"p[xyz]1\"], outputtype=tuple, cache=mycache)\n",
    "numpy.sqrt(px1**2 + py1**2)\n",
    "\n",
    "# get from cache and use again\n",
    "E1, px1, py1, pz1 = events.arrays([\"E1\", \"p[xyz]1\"], outputtype=tuple, cache=mycache)\n",
    "numpy.sqrt(E1**2 - px1**2 - py1**2 - pz1**2)"
   ]
  },
  {
   "cell_type": "code",
   "execution_count": 160,
   "metadata": {},
   "outputs": [
    {
     "data": {
      "text/plain": [
       "{'AAGUS3fQmKsR56dpAQAAf77v;events;E1;asdtype(Bf8(),Lf8());0-2304': array([82.20186639, 62.34492895, 62.34492895, ..., 81.27013558,\n",
       "        81.27013558, 81.56621735]),\n",
       " 'AAGUS3fQmKsR56dpAQAAf77v;events;px1;asdtype(Bf8(),Lf8());0-2304': array([-41.19528764,  35.11804977,  35.11804977, ...,  32.37749196,\n",
       "         32.37749196,  32.48539387]),\n",
       " 'AAGUS3fQmKsR56dpAQAAf77v;events;py1;asdtype(Bf8(),Lf8());0-2304': array([ 17.4332439 , -16.57036233, -16.57036233, ...,   1.19940578,\n",
       "          1.19940578,   1.2013503 ]),\n",
       " 'AAGUS3fQmKsR56dpAQAAf77v;events;pz1;asdtype(Bf8(),Lf8());0-2304': array([-68.96496181, -48.77524654, -48.77524654, ..., -74.53243061,\n",
       "        -74.53243061, -74.80837247])}"
      ]
     },
     "execution_count": 160,
     "metadata": {},
     "output_type": "execute_result"
    }
   ],
   "source": [
    "# The data are now in the mycache dict, which you can clear whenever you need to.\n",
    "\n",
    "# mycache.clear()\n",
    "mycache"
   ]
  },
  {
   "cell_type": "markdown",
   "metadata": {},
   "source": [
    "<br><br>\n",
    "\n",
    "<p style=\"font-size: 1.25em\">The point is that naive, exploratory code becomes production-ready code in small steps.</p>\n",
    "\n",
    "   1. Read from the file in early exploration because it requires the least effort.\n",
    "   2. Insert `mycache = {}` and `cache=mycache` to avoid costly re-reading when you start looking at more data.\n",
    "   3. Use an `uproot.ArrayCache` to specify an upper limit when you start running out of memory.\n",
    "   4. Maybe use an external cache like [memcached](https://realpython.com/python-memcache-efficient-caching/) to quickly recover from crashing 90% through your script, to more easily debug that last 10%.\n",
    "   5. Maybe use a [diskcache](http://www.grantjenks.com/docs/diskcache/tutorial.html) to split data between a small, fast disk and a large, slow disk...\n",
    "\n",
    "Most cache libraries in the Python ecosystem use dict of string → objects as an interface.\n",
    "\n",
    "<br><br>"
   ]
  },
  {
   "cell_type": "code",
   "execution_count": 165,
   "metadata": {},
   "outputs": [
    {
     "data": {
      "text/plain": [
       "6"
      ]
     },
     "execution_count": 165,
     "metadata": {},
     "output_type": "execute_result"
    }
   ],
   "source": [
    "# Example of limited memory:\n",
    "\n",
    "mycache = uproot.ArrayCache(\"100 kB\")\n",
    "\n",
    "events.arrays(cache=mycache)\n",
    "\n",
    "len(mycache)"
   ]
  },
  {
   "cell_type": "code",
   "execution_count": 205,
   "metadata": {},
   "outputs": [
    {
     "data": {
      "text/plain": [
       "<ChunkedArray [[] [-15.0] [-15.0 -13.9] ... [10.0 11.1] [10.0 11.1 12.2] [10.0 11.1 12.2 13.3]] at 0x7f385e36d5f8>"
      ]
     },
     "execution_count": 205,
     "metadata": {},
     "output_type": "execute_result"
    }
   ],
   "source": [
    "# With large lazy arrays, you SHOULD use a cache with an upper limit. (Otherwise, they'll hang onto data forever.)\n",
    "\n",
    "data = uproot.lazyarray(\n",
    "    # a bunch or files\n",
    "    \"data/sample-*-zlib.root\",\n",
    "    # TTree name in each file\n",
    "    \"sample\",\n",
    "    # branch(s) in each file for lazyarray(s)\n",
    "    \"Af8\",\n",
    "    # use this cache with an upper limit instead of reading exactly once\n",
    "    cache=uproot.ArrayCache(\"5 kB\"))\n",
    "\n",
    "data"
   ]
  },
  {
   "cell_type": "code",
   "execution_count": 206,
   "metadata": {},
   "outputs": [
    {
     "data": {
      "text/plain": [
       "[True, False, False, False, False, False, False, False, False, False, True]"
      ]
     },
     "execution_count": 206,
     "metadata": {},
     "output_type": "execute_result"
    }
   ],
   "source": [
    "# Compute something to do a pass over all chunks...\n",
    "# data + 100\n",
    "\n",
    "[chunk.ismaterialized for chunk in data.chunks]"
   ]
  },
  {
   "cell_type": "code",
   "execution_count": null,
   "metadata": {},
   "outputs": [],
   "source": []
  }
 ],
 "metadata": {
  "kernelspec": {
   "display_name": "Python 3",
   "language": "python",
   "name": "python3"
  },
  "language_info": {
   "codemirror_mode": {
    "name": "ipython",
    "version": 3
   },
   "file_extension": ".py",
   "mimetype": "text/x-python",
   "name": "python",
   "nbconvert_exporter": "python",
   "pygments_lexer": "ipython3",
   "version": "3.7.2"
  }
 },
 "nbformat": 4,
 "nbformat_minor": 2
}
