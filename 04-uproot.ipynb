{
 "cells": [
  {
   "cell_type": "markdown",
   "metadata": {},
   "source": [
    "<br><br><br><br><br>\n",
    "\n",
    "# uproot: array-based ROOT I/O\n",
    "\n",
    "<br><br><br><br><br>"
   ]
  },
  {
   "cell_type": "code",
   "execution_count": 3,
   "metadata": {},
   "outputs": [
    {
     "data": {
      "text/plain": [
       "[b'one;1', b'three;1']"
      ]
     },
     "execution_count": 3,
     "metadata": {},
     "output_type": "execute_result"
    }
   ],
   "source": [
    "# In uproot, files are presented with the same interface as Python dicts, including subdirectores.\n",
    "\n",
    "import uproot\n",
    "file = uproot.open(\"http://scikit-hep.org/uproot/examples/nesteddirs.root\")\n",
    "file.keys()\n",
    "\n",
    "# Exercise: how many objects named \"tree\" does this file contain?"
   ]
  },
  {
   "cell_type": "code",
   "execution_count": 4,
   "metadata": {},
   "outputs": [
    {
     "data": {
      "text/plain": [
       "[b'Type',\n",
       " b'Run',\n",
       " b'Event',\n",
       " b'E1',\n",
       " b'px1',\n",
       " b'py1',\n",
       " b'pz1',\n",
       " b'pt1',\n",
       " b'eta1',\n",
       " b'phi1',\n",
       " b'Q1',\n",
       " b'E2',\n",
       " b'px2',\n",
       " b'py2',\n",
       " b'pz2',\n",
       " b'pt2',\n",
       " b'eta2',\n",
       " b'phi2',\n",
       " b'Q2',\n",
       " b'M']"
      ]
     },
     "execution_count": 4,
     "metadata": {},
     "output_type": "execute_result"
    }
   ],
   "source": [
    "# TTrees are also presented like Python dicts.\n",
    "\n",
    "events = uproot.open(\"http://scikit-hep.org/uproot/examples/Zmumu.root\")[\"events\"]\n",
    "events.keys()"
   ]
  },
  {
   "cell_type": "markdown",
   "metadata": {},
   "source": [
    "<p style=\"font-size: 2em\">Three basic ways to get data:</p>\n",
    "\n",
    "<table width=\"100%\" style=\"font-size: 1.25em\"><tr>\n",
    "    <td width=\"33%\" style=\"vertical-align: top\">\n",
    "        <p style=\"font-weight: bold; font-size: 1.5em; margin-bottom: 0.5em\">Direct</p>\n",
    "        <p>Read the file and return an array.</p>\n",
    "        <ul>\n",
    "            <li style=\"margin-bottom: 0.3em\"><a href=\"https://uproot.readthedocs.io/en/latest/ttree-handling.html#id11\">TBranch.array</a></li>\n",
    "            <li style=\"margin-bottom: 0.3em\"><a href=\"https://uproot.readthedocs.io/en/latest/ttree-handling.html#array\">TTree.array</a></li>\n",
    "            <li style=\"margin-bottom: 0.3em\"><a href=\"https://uproot.readthedocs.io/en/latest/ttree-handling.html#arrays\">TTree.arrays</a></li>\n",
    "        </ul>\n",
    "    </td><td width=\"33%\" style=\"vertical-align: top\">\n",
    "        <p style=\"font-weight: bold; font-size: 1.5em; margin-bottom: 0.5em\">Lazy</p>\n",
    "        <p>Get an object that reads on demand.</p>\n",
    "        <ul>\n",
    "            <li style=\"margin-bottom: 0.3em\"><a href=\"https://uproot.readthedocs.io/en/latest/ttree-handling.html#id13\">TBranch.lazyarray</a></li>\n",
    "            <li style=\"margin-bottom: 0.3em\"><a href=\"https://uproot.readthedocs.io/en/latest/ttree-handling.html#lazyarray\">TTree.lazyarray</a></li>\n",
    "            <li style=\"margin-bottom: 0.3em\"><a href=\"https://uproot.readthedocs.io/en/latest/ttree-handling.html#lazyarrays\">TTree.lazyarrays</a></li>\n",
    "            <li style=\"margin-bottom: 0.3em\"><a href=\"https://uproot.readthedocs.io/en/latest/opening-files.html#uproot-lazyarray-and-lazyarrays\">uproot.lazyarray</a></li>\n",
    "            <li style=\"margin-bottom: 0.3em\"><a href=\"https://uproot.readthedocs.io/en/latest/opening-files.html#uproot-lazyarray-and-lazyarrays\">uproot.lazyarrays</a></li>\n",
    "        </ul>\n",
    "    </td><td width=\"33%\" style=\"vertical-align: top\">\n",
    "        <p style=\"font-weight: bold; font-size: 1.5em; margin-bottom: 0.5em\">Iterative</p>\n",
    "        <p>Read arrays in batches of entries.</p>\n",
    "        <ul>\n",
    "            <li style=\"margin-bottom: 0.3em\"><a href=\"https://uproot.readthedocs.io/en/latest/ttree-handling.html#iterate\">TTree.iterate</a></li>\n",
    "            <li style=\"margin-bottom: 0.3em\"><a href=\"https://uproot.readthedocs.io/en/latest/opening-files.html#uproot-iterate\">uproot.iterate</a></li>\n",
    "        </ul>\n",
    "    </td>\n",
    "</tr></table>"
   ]
  },
  {
   "cell_type": "code",
   "execution_count": null,
   "metadata": {},
   "outputs": [],
   "source": []
  }
 ],
 "metadata": {
  "kernelspec": {
   "display_name": "Python 3",
   "language": "python",
   "name": "python3"
  },
  "language_info": {
   "codemirror_mode": {
    "name": "ipython",
    "version": 3
   },
   "file_extension": ".py",
   "mimetype": "text/x-python",
   "name": "python",
   "nbconvert_exporter": "python",
   "pygments_lexer": "ipython3",
   "version": "3.7.2"
  }
 },
 "nbformat": 4,
 "nbformat_minor": 2
}
