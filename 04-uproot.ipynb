{
 "cells": [
  {
   "cell_type": "markdown",
   "metadata": {},
   "source": [
    "<br><br><br><br><br>\n",
    "\n",
    "# uproot: array-based ROOT I/O\n",
    "\n",
    "<br><br><br><br><br>"
   ]
  },
  {
   "cell_type": "code",
   "execution_count": 3,
   "metadata": {},
   "outputs": [
    {
     "data": {
      "text/plain": [
       "[b'one;1', b'three;1']"
      ]
     },
     "execution_count": 3,
     "metadata": {},
     "output_type": "execute_result"
    }
   ],
   "source": [
    "# In uproot, files are presented with the same interface as Python dicts, including subdirectores.\n",
    "\n",
    "import uproot\n",
    "file = uproot.open(\"http://scikit-hep.org/uproot/examples/nesteddirs.root\")\n",
    "file.keys()\n",
    "\n",
    "# Exercise: how many objects named \"tree\" does this file contain?"
   ]
  },
  {
   "cell_type": "code",
   "execution_count": 4,
   "metadata": {},
   "outputs": [
    {
     "data": {
      "text/plain": [
       "[b'Type',\n",
       " b'Run',\n",
       " b'Event',\n",
       " b'E1',\n",
       " b'px1',\n",
       " b'py1',\n",
       " b'pz1',\n",
       " b'pt1',\n",
       " b'eta1',\n",
       " b'phi1',\n",
       " b'Q1',\n",
       " b'E2',\n",
       " b'px2',\n",
       " b'py2',\n",
       " b'pz2',\n",
       " b'pt2',\n",
       " b'eta2',\n",
       " b'phi2',\n",
       " b'Q2',\n",
       " b'M']"
      ]
     },
     "execution_count": 4,
     "metadata": {},
     "output_type": "execute_result"
    }
   ],
   "source": [
    "# TTrees are also presented like Python dicts.\n",
    "\n",
    "events = uproot.open(\"http://scikit-hep.org/uproot/examples/Zmumu.root\")[\"events\"]\n",
    "events.keys()"
   ]
  },
  {
   "cell_type": "markdown",
   "metadata": {},
   "source": [
    "<p style=\"font-size: 2em\">Three basic ways to get data:</p>\n",
    "\n",
    "<table width=\"100%\" style=\"font-size: 1.25em\"><tr>\n",
    "    <td width=\"33%\" style=\"vertical-align: top\">\n",
    "        <p style=\"font-weight: bold; font-size: 1.5em; margin-bottom: 0.5em\">Direct</p>\n",
    "        <p>Read the file and return an array.</p>\n",
    "        <ul>\n",
    "            <li style=\"margin-bottom: 0.3em\"><a href=\"https://uproot.readthedocs.io/en/latest/ttree-handling.html#id11\">TBranch.array</a></li>\n",
    "            <li style=\"margin-bottom: 0.3em\"><a href=\"https://uproot.readthedocs.io/en/latest/ttree-handling.html#array\">TTree.array</a></li>\n",
    "            <li style=\"margin-bottom: 0.3em\"><a href=\"https://uproot.readthedocs.io/en/latest/ttree-handling.html#arrays\">TTree.arrays</a></li>\n",
    "        </ul>\n",
    "    </td><td width=\"33%\" style=\"vertical-align: top\">\n",
    "        <p style=\"font-weight: bold; font-size: 1.5em; margin-bottom: 0.5em\">Lazy</p>\n",
    "        <p>Get an object that reads on demand.</p>\n",
    "        <ul>\n",
    "            <li style=\"margin-bottom: 0.3em\"><a href=\"https://uproot.readthedocs.io/en/latest/ttree-handling.html#id13\">TBranch.lazyarray</a></li>\n",
    "            <li style=\"margin-bottom: 0.3em\"><a href=\"https://uproot.readthedocs.io/en/latest/ttree-handling.html#lazyarray\">TTree.lazyarray</a></li>\n",
    "            <li style=\"margin-bottom: 0.3em\"><a href=\"https://uproot.readthedocs.io/en/latest/ttree-handling.html#lazyarrays\">TTree.lazyarrays</a></li>\n",
    "            <li style=\"margin-bottom: 0.3em\"><a href=\"https://uproot.readthedocs.io/en/latest/opening-files.html#uproot-lazyarray-and-lazyarrays\">uproot.lazyarray</a></li>\n",
    "            <li style=\"margin-bottom: 0.3em\"><a href=\"https://uproot.readthedocs.io/en/latest/opening-files.html#uproot-lazyarray-and-lazyarrays\">uproot.lazyarrays</a></li>\n",
    "        </ul>\n",
    "    </td><td width=\"33%\" style=\"vertical-align: top\">\n",
    "        <p style=\"font-weight: bold; font-size: 1.5em; margin-bottom: 0.5em\">Iterative</p>\n",
    "        <p>Read arrays in batches of entries.</p>\n",
    "        <ul>\n",
    "            <li style=\"margin-bottom: 0.3em\"><a href=\"https://uproot.readthedocs.io/en/latest/ttree-handling.html#iterate\">TTree.iterate</a></li>\n",
    "            <li style=\"margin-bottom: 0.3em\"><a href=\"https://uproot.readthedocs.io/en/latest/opening-files.html#uproot-iterate\">uproot.iterate</a></li>\n",
    "        </ul>\n",
    "    </td>\n",
    "</tr></table>"
   ]
  },
  {
   "cell_type": "code",
   "execution_count": 5,
   "metadata": {},
   "outputs": [
    {
     "data": {
      "text/plain": [
       "array([82.20186639, 62.34492895, 62.34492895, ..., 81.27013558,\n",
       "       81.27013558, 81.56621735])"
      ]
     },
     "execution_count": 5,
     "metadata": {},
     "output_type": "execute_result"
    }
   ],
   "source": [
    "# Direct:\n",
    "\n",
    "events.array(\"E1\")"
   ]
  },
  {
   "cell_type": "code",
   "execution_count": 13,
   "metadata": {},
   "outputs": [
    {
     "name": "stdout",
     "output_type": "stream",
     "text": [
      "[500, 500, 500, 500, 304]\n"
     ]
    },
    {
     "data": {
      "text/plain": [
       "<ChunkedArray [82.2018663875 62.3449289481 62.3449289481 ... 81.2701355756 81.2701355756 81.5662173543] at 0x7f3aa31752e8>"
      ]
     },
     "execution_count": 13,
     "metadata": {},
     "output_type": "execute_result"
    }
   ],
   "source": [
    "# Lazy:\n",
    "\n",
    "array = events.lazyarray(\"E1\", entrysteps=500)\n",
    "print([len(x) for x in array.chunks])\n",
    "\n",
    "array"
   ]
  },
  {
   "cell_type": "code",
   "execution_count": 10,
   "metadata": {},
   "outputs": [
    {
     "name": "stdout",
     "output_type": "stream",
     "text": [
      "500 [82.20186639 62.34492895 62.34492895 60.62187459 41.82638891]\n",
      "500 [45.7959062  45.7108209  98.03548137 53.53706097 53.53706097]\n",
      "500 [31.4488924  31.4488924  31.39073377 64.85457285 46.92904281]\n",
      "500 [88.35872379 52.5560163  52.5560163  52.38402383 75.34015706]\n",
      "304 [46.0752809  46.0752809  45.93225789 51.01950403 84.91115834]\n"
     ]
    }
   ],
   "source": [
    "# Iterative:\n",
    "\n",
    "for chunk in events.iterate(\"E1\", entrysteps=500):\n",
    "    print(len(chunk[b\"E1\"]), chunk[b\"E1\"][:5])"
   ]
  },
  {
   "cell_type": "markdown",
   "metadata": {},
   "source": [
    "<p style=\"font-size: 2em\">Advantages and disadvantages of each:</p>\n",
    "\n",
    "<table width=\"100%\" style=\"font-size: 1.25em\"><tr>\n",
    "    <td width=\"33%\" style=\"vertical-align: top\">\n",
    "        <p style=\"font-weight: bold; font-size: 1.5em; margin-bottom: 0.5em\">Direct</p>\n",
    "        <p>Simple; most libraries will recognize the Numpy array you get back.</p>\n",
    "    </td><td width=\"33%\" style=\"vertical-align: top\">\n",
    "        <p style=\"font-weight: bold; font-size: 1.5em; margin-bottom: 0.5em\">Lazy</p>\n",
    "        <p>Transparently work on data too large to fit into memory.</p>\n",
    "    </td><td width=\"33%\" style=\"vertical-align: top\">\n",
    "        <p style=\"font-weight: bold; font-size: 1.5em; margin-bottom: 0.5em\">Iterative</p>\n",
    "        <p>Control the loading of data into and out of memory.</p>\n",
    "    </td>\n",
    "</tr></table>"
   ]
  },
  {
   "cell_type": "code",
   "execution_count": 16,
   "metadata": {},
   "outputs": [
    {
     "data": {
      "text/plain": [
       "array([0.10565837, 0.10565839, 0.10565839, ..., 0.10565838, 0.10565838,\n",
       "       0.10565833])"
      ]
     },
     "execution_count": 16,
     "metadata": {},
     "output_type": "execute_result"
    }
   ],
   "source": [
    "import numpy\n",
    "\n",
    "# Exercise: compute numpy.sqrt(E1**2 - px1**2 - py1**2 - pz1**2) in all three modes.\n",
    "\n",
    "arrays = events.arrays([\"E1\", \"p[xyz]1\"], namedecode=\"utf-8\")\n",
    "E1, px1, py1, pz1 = arrays[\"E1\"], arrays[\"px1\"], arrays[\"py1\"], arrays[\"pz1\"]\n",
    "\n",
    "result = numpy.sqrt(E1**2 - px1**2 - py1**2 - pz1**2)\n",
    "result"
   ]
  }
 ],
 "metadata": {
  "kernelspec": {
   "display_name": "Python 3",
   "language": "python",
   "name": "python3"
  },
  "language_info": {
   "codemirror_mode": {
    "name": "ipython",
    "version": 3
   },
   "file_extension": ".py",
   "mimetype": "text/x-python",
   "name": "python",
   "nbconvert_exporter": "python",
   "pygments_lexer": "ipython3",
   "version": "3.7.2"
  }
 },
 "nbformat": 4,
 "nbformat_minor": 2
}
