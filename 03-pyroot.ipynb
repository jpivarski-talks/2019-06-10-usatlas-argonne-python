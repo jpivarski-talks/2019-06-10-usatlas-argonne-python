{
 "cells": [
  {
   "cell_type": "markdown",
   "metadata": {},
   "source": [
    "<br><br><br><br><br>\n",
    "\n",
    "# PyROOT: ROOT in Python\n",
    "\n",
    "<br><br><br><br><br>"
   ]
  },
  {
   "cell_type": "markdown",
   "metadata": {},
   "source": [
    "<br><br>\n",
    "\n",
    "<p style=\"font-size: 1.25em\">Show of hands:</p>\n",
    "\n",
    "   1. Who hasn't heard of ROOT?\n",
    "   2. Who hasn't heard of PyROOT?\n",
    "   3. Who hasn't ever used PyROOT?\n",
    "   4. Who doesn't use PyROOT regularly?\n",
    "\n",
    "<br><br>"
   ]
  },
  {
   "cell_type": "code",
   "execution_count": 1,
   "metadata": {},
   "outputs": [
    {
     "name": "stdout",
     "output_type": "stream",
     "text": [
      "Welcome to JupyROOT 6.17/01\n"
     ]
    },
    {
     "data": {
      "image/png": "[encoded data removed]",
      "text/plain": [
       "<IPython.core.display.Image object>"
      ]
     },
     "metadata": {},
     "output_type": "display_data"
    }
   ],
   "source": [
    "import ROOT                                      # PyROOT\n",
    "\n",
    "file = ROOT.TFile(\"data/HZZ.root\")               # PyROOT transliterates C++ syntax to Python\n",
    "tree = file.Get(\"events\")\n",
    "\n",
    "canvas = ROOT.TCanvas(\"canvas\", \"\", 400, 300)    # Jupyter-ROOT only: need to create TCanvas\n",
    "tree.Draw(\"Muon_Px\")\n",
    "canvas.Draw()                                    # and Draw it to see plots inline"
   ]
  },
  {
   "cell_type": "code",
   "execution_count": 2,
   "metadata": {},
   "outputs": [
    {
     "name": "stdout",
     "output_type": "stream",
     "text": [
      "Another Jupyter-ROOT feature: C++ cells!\n",
      "\n"
     ]
    },
    {
     "data": {
      "image/png": "[encoded data removed]",
      "text/plain": [
       "<IPython.core.display.Image object>"
      ]
     },
     "metadata": {},
     "output_type": "display_data"
    }
   ],
   "source": [
    "%%cpp\n",
    "\n",
    "std::cout << \"Another Jupyter-ROOT feature: C++ cells!\" << std::endl << std::endl;\n",
    "\n",
    "events->Draw(\"sqrt(Muon_Px**2 + Muon_Py**2 + Muon_Pz**2)\");\n",
    "canvas->Draw();"
   ]
  },
  {
   "cell_type": "code",
   "execution_count": 3,
   "metadata": {},
   "outputs": [],
   "source": [
    "%%cpp -d\n",
    "\n",
    "double define_cpp_functions(double a, double b) {\n",
    "    return a + b;\n",
    "}"
   ]
  },
  {
   "cell_type": "code",
   "execution_count": 4,
   "metadata": {},
   "outputs": [
    {
     "data": {
      "text/plain": [
       "103.14"
      ]
     },
     "execution_count": 4,
     "metadata": {},
     "output_type": "execute_result"
    }
   ],
   "source": [
    "# ... that you can use on both sides of the divide.\n",
    "\n",
    "ROOT.define_cpp_functions(3.14, 100)"
   ]
  },
  {
   "cell_type": "code",
   "execution_count": 5,
   "metadata": {},
   "outputs": [
    {
     "data": {
      "text/plain": [
       "1860867.0"
      ]
     },
     "execution_count": 5,
     "metadata": {},
     "output_type": "execute_result"
    }
   ],
   "source": [
    "# PyROOT's ability to bind any C++ function to Python, without user intervention,\n",
    "# is unique and far-reaching.\n",
    "# \n",
    "# Even if you're not in Jupyter (i.e. a script running in a batch job), you can use it:\n",
    "\n",
    "ROOT.gInterpreter.Declare(r\"\"\"\n",
    "double another_cpp_function(double x) {\n",
    "    return x*x*x;\n",
    "}\n",
    "\"\"\")\n",
    "\n",
    "ROOT.another_cpp_function(123)"
   ]
  },
  {
   "cell_type": "code",
   "execution_count": 6,
   "metadata": {},
   "outputs": [
    {
     "data": {
      "text/plain": [
       "25.0"
      ]
     },
     "execution_count": 6,
     "metadata": {},
     "output_type": "execute_result"
    }
   ],
   "source": [
    "# Unfortunately, you can't redefine C++ functions, which makes interactive work difficult.\n",
    "# \n",
    "# Here's what I do:\n",
    "\n",
    "pyname = \"cpp_func\"\n",
    "cppname = pyname + \"_%d\" % sum(1 if x.startswith(pyname) else 0 for x in dir(ROOT))\n",
    "ROOT.gInterpreter.Declare(r\"\"\"\n",
    "\n",
    "    double \"\"\" + cppname + r\"\"\"(double x) {\n",
    "        return x*x;\n",
    "    }\n",
    "\n",
    "\"\"\")\n",
    "exec(f\"{pyname} = ROOT.{cppname}\")\n",
    "\n",
    "cpp_func(5)"
   ]
  },
  {
   "cell_type": "markdown",
   "metadata": {},
   "source": [
    "<img src=\"img/03-cheat-sheet.png\" width=\"100%\">"
   ]
  },
  {
   "cell_type": "code",
   "execution_count": 7,
   "metadata": {},
   "outputs": [
    {
     "data": {
      "text/plain": [
       "array([   0.       ,    1.       ,    1.4142135, ...,  999.999    ,\n",
       "        999.9995   , 1000.       ], dtype=float32)"
      ]
     },
     "execution_count": 7,
     "metadata": {},
     "output_type": "execute_result"
    }
   ],
   "source": [
    "# Most importantly, you can pass Numpy arrays.\n",
    "# The bridge might be slow, but you can move a lot of data at once by casting an array,\n",
    "# then do work on the C++ side.\n",
    "\n",
    "import numpy\n",
    "values = numpy.arange(1000001, dtype=numpy.float32)\n",
    "\n",
    "ROOT.gInterpreter.Declare(r\"\"\"\n",
    "void cpp_on_numpy(int how_many, float* values) {\n",
    "    for (int i = 0;  i < how_many;  i++) {\n",
    "        values[i] = sqrt(values[i]);\n",
    "    }\n",
    "}\n",
    "\"\"\")\n",
    "\n",
    "ROOT.cpp_on_numpy(len(values), values)\n",
    "values"
   ]
  },
  {
   "cell_type": "code",
   "execution_count": 8,
   "metadata": {},
   "outputs": [
    {
     "data": {
      "text/plain": [
       "[0.0, 1.0, 2.0, 3.0, 4.0, 5.0, 6.0, 7.0, 8.0, 9.0]"
      ]
     },
     "execution_count": 8,
     "metadata": {},
     "output_type": "execute_result"
    }
   ],
   "source": [
    "# A raw C array interface is a little dangerous because the wrong len(values) will seg-fault.\n",
    "# Use std::vectors instead.\n",
    "\n",
    "a_vector = ROOT.std.vector(\"float\")(1000001)\n",
    "a_array = numpy.asarray(a_vector)\n",
    "\n",
    "# a_array is viewing the same data as a_vector: changing one changes the other.\n",
    "a_array[:] = numpy.arange(1000001, dtype=numpy.float32)\n",
    "\n",
    "list(a_vector[:10])"
   ]
  },
  {
   "cell_type": "markdown",
   "metadata": {},
   "source": [
    "<br><br>\n",
    "\n",
    "<p style=\"font-size: 2em; font-weight: bold\">Reminder:</p>\n",
    "\n",
    "<br>\n",
    "\n",
    "<center><img src=\"img/numpy-memory-layout.png\" width=\"75%\"></center>\n",
    "\n",
    "<br><br>"
   ]
  },
  {
   "cell_type": "code",
   "execution_count": 9,
   "metadata": {},
   "outputs": [
    {
     "data": {
      "text/plain": [
       "array([   0.        ,    1.        ,    1.41421354, ...,  999.99902344,\n",
       "        999.99951172, 1000.        ])"
      ]
     },
     "execution_count": 9,
     "metadata": {},
     "output_type": "execute_result"
    }
   ],
   "source": [
    "ROOT.gInterpreter.Declare(r\"\"\"\n",
    "std::vector<double> cpp_on_vector(std::vector<float> &a_vector) {\n",
    "    std::vector<double> out;\n",
    "    out.reserve(a_vector.size());\n",
    "    for (auto x : a_vector) {\n",
    "        out.push_back(sqrt(x));\n",
    "    }\n",
    "    return out;\n",
    "}\n",
    "\"\"\")\n",
    "\n",
    "numpy.asarray(ROOT.cpp_on_vector(a_vector))"
   ]
  },
  {
   "cell_type": "code",
   "execution_count": 10,
   "metadata": {},
   "outputs": [
    {
     "data": {
      "text/plain": [
       "  C_CONTIGUOUS : True\n",
       "  F_CONTIGUOUS : True\n",
       "  OWNDATA : False\n",
       "  WRITEABLE : True\n",
       "  ALIGNED : True\n",
       "  WRITEBACKIFCOPY : False\n",
       "  UPDATEIFCOPY : False"
      ]
     },
     "execution_count": 10,
     "metadata": {},
     "output_type": "execute_result"
    }
   ],
   "source": [
    "# Unlike arrays created by Numpy, vectors are \"owned\" by C++.\n",
    "# They'll stay in memory until deleted in ROOT, and Numpy isn't informed (potential for seg-faults.)\n",
    "\n",
    "a_array.flags"
   ]
  },
  {
   "cell_type": "code",
   "execution_count": 11,
   "metadata": {},
   "outputs": [
    {
     "data": {
      "text/plain": [
       "(0, 0, 1000001)"
      ]
     },
     "execution_count": 11,
     "metadata": {},
     "output_type": "execute_result"
    }
   ],
   "source": [
    "# For example, clearing and shrinking the vector frees its memory for other data to be allocated.\n",
    "# Numpy doesn't know this and continues to look at those bytes, regardless of what they might contain.\n",
    "# \n",
    "# Accessing the array (e.g. printing on the screen) *might* cause a seg-fault.\n",
    "# Changing the array values *would likely* cause a seg-fault (or worse: corrupt data).\n",
    "\n",
    "a_vector.clear()\n",
    "a_vector.shrink_to_fit()\n",
    "\n",
    "len(a_vector), a_vector.capacity(), len(a_array)"
   ]
  },
  {
   "cell_type": "markdown",
   "metadata": {},
   "source": [
    "<br><br><br><br><br>\n",
    "\n",
    "<p style=\"font-size: 2em; text-align: center\">Processing TTree data</p>\n",
    "\n",
    "<br><br><br><br><br>"
   ]
  },
  {
   "cell_type": "code",
   "execution_count": 12,
   "metadata": {},
   "outputs": [
    {
     "name": "stdout",
     "output_type": "stream",
     "text": [
      "[-52.89945602416992, 37.7377815246582]\n",
      "[-0.8164593577384949]\n",
      "[48.987831115722656, 0.8275666832923889]\n",
      "[22.08833122253418, 76.6919174194336]\n",
      "[45.171321868896484, 39.75095748901367]\n",
      "[9.228110313415527, -5.793715000152588]\n",
      "[12.538717269897461, 29.541839599609375]\n",
      "[34.883758544921875]\n",
      "[-53.16697311401367, 11.491869926452637]\n",
      "[-67.01485443115234, -18.118755340576172]\n",
      "[15.983028411865234, 34.68440628051758]\n",
      "[-70.51190948486328, -38.028743743896484]\n"
     ]
    }
   ],
   "source": [
    "# You can use PyROOT directly:\n",
    "\n",
    "for i, event in enumerate(tree):\n",
    "    print([x for x in event.Muon_Px])\n",
    "    if i > 10:\n",
    "        break"
   ]
  },
  {
   "cell_type": "markdown",
   "metadata": {},
   "source": [
    "<p style=\"font-size: 1.25em\">But you should be aware that this is the slowest thing you can do—considerably slower than Python itself—and I don't know of an easy upgrade path from PyROOT to something faster.</p>\n",
    "\n",
    "<br>\n",
    "\n",
    "<center><img src=\"img/logscales.png\" width=\"75%\"></center>"
   ]
  },
  {
   "cell_type": "code",
   "execution_count": 13,
   "metadata": {},
   "outputs": [
    {
     "data": {
      "text/plain": [
       "0"
      ]
     },
     "execution_count": 13,
     "metadata": {},
     "output_type": "execute_result"
    },
    {
     "name": "stderr",
     "output_type": "stream",
     "text": [
      "Info in <TTreePlayer::MakeClass>: Files: as_a_cpp_project.h and as_a_cpp_project.C generated from TTree: events\n"
     ]
    }
   ],
   "source": [
    "# You can do all the processing in C++ and only drive from Python.\n",
    "\n",
    "tree.MakeClass(\"as_a_cpp_project\")"
   ]
  },
  {
   "cell_type": "code",
   "execution_count": 14,
   "metadata": {},
   "outputs": [
    {
     "name": "stdout",
     "output_type": "stream",
     "text": [
      "//////////////////////////////////////////////////////////\n",
      "// This class has been automatically generated on\n",
      "// Fri Jun  7 20:26:39 2019 by ROOT version 6.17/01\n",
      "// from TTree events/\n",
      "// found on file: data/HZZ.root\n",
      "//////////////////////////////////////////////////////////\n",
      "\n",
      "#ifndef as_a_cpp_project_h\n",
      "#define as_a_cpp_project_h\n",
      "\n",
      "#include <TROOT.h>\n",
      "#include <TChain.h>\n",
      "#include <TFile.h>\n",
      "\n",
      "// Header file for the classes stored in the TTree if any.\n",
      "\n",
      "class as_a_cpp_project {\n",
      "public :\n",
      "   TTree          *fChain;   //!pointer to the analyzed TTree or TChain\n",
      "   Int_t           fCurrent; //!current Tree number in a TChain\n",
      "\n",
      "// Fixed size dimensions of array or collections stored in the TTree if any.\n",
      "\n",
      "   // Declaration of leaf types\n",
      "   Int_t           NJet;\n",
      "   Float_t         Jet_Px[5];   //[NJet]\n",
      "   Float_t         Jet_Py[5];   //[NJet]\n",
      "   Float_t         Jet_Pz[5];   //[NJet]\n",
      "   Float_t         Jet_E[5];   //[NJet]\n",
      "   Float_t         Jet_btag[5];   //[NJet]\n",
      "   Bool_t          Jet_ID[5];   //[NJet]\n",
      "   Int_t           NMuon;\n",
      "   Float_t         Muon_Px[4];   //[NMuon]\n",
      "   Float_t         Muon_Py[4];   //[NMuon]\n",
      "   Float_t         Muon_Pz[4];   //[NMuon]\n",
      "   Float_t         Muon_E[4];   //[NMuon]\n",
      "   Int_t           Muon_Charge[4];   //[NMuon]\n",
      "   Float_t         Muon_Iso[4];   //[NMuon]\n",
      "   Int_t           NElectron;\n",
      "   Float_t         Electron_Px[3];   //[NElectron]\n",
      "   Float_t         Electron_Py[3];   //[NElectron]\n",
      "   Float_t         Electron_Pz[3];   //[NElectron]\n",
      "   Float_t         Electron_E[3];   //[NElectron]\n",
      "   Int_t           Electron_Charge[3];   //[NElectron]\n",
      "   Float_t         Electron_Iso[3];   //[NElectron]\n",
      "   Int_t           NPhoton;\n",
      "   Float_t         Photon_Px[3];   //[NPhoton]\n",
      "   Float_t         Photon_Py[3];   //[NPhoton]\n",
      "   Float_t         Photon_Pz[3];   //[NPhoton]\n",
      "   Float_t         Photon_E[3];   //[NPhoton]\n",
      "   Float_t         Photon_Iso[3];   //[NPhoton]\n",
      "   Float_t         MET_px;\n",
      "   Float_t         MET_py;\n",
      "   Float_t         MChadronicBottom_px;\n",
      "   Float_t         MChadronicBottom_py;\n",
      "   Float_t         MChadronicBottom_pz;\n",
      "   Float_t         MCleptonicBottom_px;\n",
      "   Float_t         MCleptonicBottom_py;\n",
      "   Float_t         MCleptonicBottom_pz;\n",
      "   Float_t         MChadronicWDecayQuark_px;\n",
      "   Float_t         MChadronicWDecayQuark_py;\n",
      "   Float_t         MChadronicWDecayQuark_pz;\n",
      "   Float_t         MChadronicWDecayQuarkBar_px;\n",
      "   Float_t         MChadronicWDecayQuarkBar_py;\n",
      "   Float_t         MChadronicWDecayQuarkBar_pz;\n",
      "   Float_t         MClepton_px;\n",
      "   Float_t         MClepton_py;\n",
      "   Float_t         MClepton_pz;\n",
      "   Int_t           MCleptonPDGid;\n",
      "   Float_t         MCneutrino_px;\n",
      "   Float_t         MCneutrino_py;\n",
      "   Float_t         MCneutrino_pz;\n",
      "   Int_t           NPrimaryVertices;\n",
      "   Bool_t          triggerIsoMu24;\n",
      "   Float_t         EventWeight;\n",
      "\n",
      "   // List of branches\n",
      "   TBranch        *b_NJet;   //!\n",
      "   TBranch        *b_Jet_Px;   //!\n",
      "   TBranch        *b_Jet_Py;   //!\n",
      "   TBranch        *b_Jet_Pz;   //!\n",
      "   TBranch        *b_Jet_E;   //!\n",
      "   TBranch        *b_Jet_btag;   //!\n",
      "   TBranch        *b_Jet_ID;   //!\n",
      "   TBranch        *b_NMuon;   //!\n",
      "   TBranch        *b_Muon_Px;   //!\n",
      "   TBranch        *b_Muon_Py;   //!\n",
      "   TBranch        *b_Muon_Pz;   //!\n",
      "   TBranch        *b_Muon_E;   //!\n",
      "   TBranch        *b_Muon_Charge;   //!\n",
      "   TBranch        *b_Muon_Iso;   //!\n",
      "   TBranch        *b_NElectron;   //!\n",
      "   TBranch        *b_Electron_Px;   //!\n",
      "   TBranch        *b_Electron_Py;   //!\n",
      "   TBranch        *b_Electron_Pz;   //!\n",
      "   TBranch        *b_Electron_E;   //!\n",
      "   TBranch        *b_Electron_Charge;   //!\n",
      "   TBranch        *b_Electron_Iso;   //!\n",
      "   TBranch        *b_NPhoton;   //!\n",
      "   TBranch        *b_Photon_Px;   //!\n",
      "   TBranch        *b_Photon_Py;   //!\n",
      "   TBranch        *b_Photon_Pz;   //!\n",
      "   TBranch        *b_Photon_E;   //!\n",
      "   TBranch        *b_Photon_Iso;   //!\n",
      "   TBranch        *b_MET_px;   //!\n",
      "   TBranch        *b_MET_py;   //!\n",
      "   TBranch        *b_MChadronicBottom_px;   //!\n",
      "   TBranch        *b_MChadronicBottom_py;   //!\n",
      "   TBranch        *b_MChadronicBottom_pz;   //!\n",
      "   TBranch        *b_MCleptonicBottom_px;   //!\n",
      "   TBranch        *b_MCleptonicBottom_py;   //!\n",
      "   TBranch        *b_MCleptonicBottom_pz;   //!\n",
      "   TBranch        *b_MChadronicWDecayQuark_px;   //!\n",
      "   TBranch        *b_MChadronicWDecayQuark_py;   //!\n",
      "   TBranch        *b_MChadronicWDecayQuark_pz;   //!\n",
      "   TBranch        *b_MChadronicWDecayQuarkBar_px;   //!\n",
      "   TBranch        *b_MChadronicWDecayQuarkBar_py;   //!\n",
      "   TBranch        *b_MChadronicWDecayQuarkBar_pz;   //!\n",
      "   TBranch        *b_MClepton_px;   //!\n",
      "   TBranch        *b_MClepton_py;   //!\n",
      "   TBranch        *b_MClepton_pz;   //!\n",
      "   TBranch        *b_MCleptonPDGid;   //!\n",
      "   TBranch        *b_MCneutrino_px;   //!\n",
      "   TBranch        *b_MCneutrino_py;   //!\n",
      "   TBranch        *b_MCneutrino_pz;   //!\n",
      "   TBranch        *b_NPrimaryVertices;   //!\n",
      "   TBranch        *b_triggerIsoMu24;   //!\n",
      "   TBranch        *b_EventWeight;   //!\n",
      "\n",
      "   as_a_cpp_project(TTree *tree=0);\n",
      "   virtual ~as_a_cpp_project();\n",
      "   virtual Int_t    Cut(Long64_t entry);\n",
      "   virtual Int_t    GetEntry(Long64_t entry);\n",
      "   virtual Long64_t LoadTree(Long64_t entry);\n",
      "   virtual void     Init(TTree *tree);\n",
      "   virtual void     Loop();\n",
      "   virtual Bool_t   Notify();\n",
      "   virtual void     Show(Long64_t entry = -1);\n",
      "};\n",
      "\n",
      "#endif\n",
      "\n",
      "#ifdef as_a_cpp_project_cxx\n",
      "as_a_cpp_project::as_a_cpp_project(TTree *tree) : fChain(0) \n",
      "{\n",
      "// if parameter tree is not specified (or zero), connect the file\n",
      "// used to generate this class and read the Tree.\n",
      "   if (tree == 0) {\n",
      "      TFile *f = (TFile*)gROOT->GetListOfFiles()->FindObject(\"data/HZZ.root\");\n",
      "      if (!f || !f->IsOpen()) {\n",
      "         f = new TFile(\"data/HZZ.root\");\n",
      "      }\n",
      "      f->GetObject(\"events\",tree);\n",
      "\n",
      "   }\n",
      "   Init(tree);\n",
      "}\n",
      "\n",
      "as_a_cpp_project::~as_a_cpp_project()\n",
      "{\n",
      "   if (!fChain) return;\n",
      "   delete fChain->GetCurrentFile();\n",
      "}\n",
      "\n",
      "Int_t as_a_cpp_project::GetEntry(Long64_t entry)\n",
      "{\n",
      "// Read contents of entry.\n",
      "   if (!fChain) return 0;\n",
      "   return fChain->GetEntry(entry);\n",
      "}\n",
      "Long64_t as_a_cpp_project::LoadTree(Long64_t entry)\n",
      "{\n",
      "// Set the environment to read one entry\n",
      "   if (!fChain) return -5;\n",
      "   Long64_t centry = fChain->LoadTree(entry);\n",
      "   if (centry < 0) return centry;\n",
      "   if (fChain->GetTreeNumber() != fCurrent) {\n",
      "      fCurrent = fChain->GetTreeNumber();\n",
      "      Notify();\n",
      "   }\n",
      "   return centry;\n",
      "}\n",
      "\n",
      "void as_a_cpp_project::Init(TTree *tree)\n",
      "{\n",
      "   // The Init() function is called when the selector needs to initialize\n",
      "   // a new tree or chain. Typically here the branch addresses and branch\n",
      "   // pointers of the tree will be set.\n",
      "   // It is normally not necessary to make changes to the generated\n",
      "   // code, but the routine can be extended by the user if needed.\n",
      "   // Init() will be called many times when running on PROOF\n",
      "   // (once per file to be processed).\n",
      "\n",
      "   // Set branch addresses and branch pointers\n",
      "   if (!tree) return;\n",
      "   fChain = tree;\n",
      "   fCurrent = -1;\n",
      "   fChain->SetMakeClass(1);\n",
      "\n",
      "   fChain->SetBranchAddress(\"NJet\", &NJet, &b_NJet);\n",
      "   fChain->SetBranchAddress(\"Jet_Px\", Jet_Px, &b_Jet_Px);\n",
      "   fChain->SetBranchAddress(\"Jet_Py\", Jet_Py, &b_Jet_Py);\n",
      "   fChain->SetBranchAddress(\"Jet_Pz\", Jet_Pz, &b_Jet_Pz);\n",
      "   fChain->SetBranchAddress(\"Jet_E\", Jet_E, &b_Jet_E);\n",
      "   fChain->SetBranchAddress(\"Jet_btag\", Jet_btag, &b_Jet_btag);\n",
      "   fChain->SetBranchAddress(\"Jet_ID\", Jet_ID, &b_Jet_ID);\n",
      "   fChain->SetBranchAddress(\"NMuon\", &NMuon, &b_NMuon);\n",
      "   fChain->SetBranchAddress(\"Muon_Px\", Muon_Px, &b_Muon_Px);\n",
      "   fChain->SetBranchAddress(\"Muon_Py\", Muon_Py, &b_Muon_Py);\n",
      "   fChain->SetBranchAddress(\"Muon_Pz\", Muon_Pz, &b_Muon_Pz);\n",
      "   fChain->SetBranchAddress(\"Muon_E\", Muon_E, &b_Muon_E);\n",
      "   fChain->SetBranchAddress(\"Muon_Charge\", Muon_Charge, &b_Muon_Charge);\n",
      "   fChain->SetBranchAddress(\"Muon_Iso\", Muon_Iso, &b_Muon_Iso);\n",
      "   fChain->SetBranchAddress(\"NElectron\", &NElectron, &b_NElectron);\n",
      "   fChain->SetBranchAddress(\"Electron_Px\", Electron_Px, &b_Electron_Px);\n",
      "   fChain->SetBranchAddress(\"Electron_Py\", Electron_Py, &b_Electron_Py);\n",
      "   fChain->SetBranchAddress(\"Electron_Pz\", Electron_Pz, &b_Electron_Pz);\n",
      "   fChain->SetBranchAddress(\"Electron_E\", Electron_E, &b_Electron_E);\n",
      "   fChain->SetBranchAddress(\"Electron_Charge\", Electron_Charge, &b_Electron_Charge);\n",
      "   fChain->SetBranchAddress(\"Electron_Iso\", Electron_Iso, &b_Electron_Iso);\n",
      "   fChain->SetBranchAddress(\"NPhoton\", &NPhoton, &b_NPhoton);\n",
      "   fChain->SetBranchAddress(\"Photon_Px\", Photon_Px, &b_Photon_Px);\n",
      "   fChain->SetBranchAddress(\"Photon_Py\", Photon_Py, &b_Photon_Py);\n",
      "   fChain->SetBranchAddress(\"Photon_Pz\", Photon_Pz, &b_Photon_Pz);\n",
      "   fChain->SetBranchAddress(\"Photon_E\", Photon_E, &b_Photon_E);\n",
      "   fChain->SetBranchAddress(\"Photon_Iso\", Photon_Iso, &b_Photon_Iso);\n",
      "   fChain->SetBranchAddress(\"MET_px\", &MET_px, &b_MET_px);\n",
      "   fChain->SetBranchAddress(\"MET_py\", &MET_py, &b_MET_py);\n",
      "   fChain->SetBranchAddress(\"MChadronicBottom_px\", &MChadronicBottom_px, &b_MChadronicBottom_px);\n",
      "   fChain->SetBranchAddress(\"MChadronicBottom_py\", &MChadronicBottom_py, &b_MChadronicBottom_py);\n",
      "   fChain->SetBranchAddress(\"MChadronicBottom_pz\", &MChadronicBottom_pz, &b_MChadronicBottom_pz);\n",
      "   fChain->SetBranchAddress(\"MCleptonicBottom_px\", &MCleptonicBottom_px, &b_MCleptonicBottom_px);\n",
      "   fChain->SetBranchAddress(\"MCleptonicBottom_py\", &MCleptonicBottom_py, &b_MCleptonicBottom_py);\n",
      "   fChain->SetBranchAddress(\"MCleptonicBottom_pz\", &MCleptonicBottom_pz, &b_MCleptonicBottom_pz);\n",
      "   fChain->SetBranchAddress(\"MChadronicWDecayQuark_px\", &MChadronicWDecayQuark_px, &b_MChadronicWDecayQuark_px);\n",
      "   fChain->SetBranchAddress(\"MChadronicWDecayQuark_py\", &MChadronicWDecayQuark_py, &b_MChadronicWDecayQuark_py);\n",
      "   fChain->SetBranchAddress(\"MChadronicWDecayQuark_pz\", &MChadronicWDecayQuark_pz, &b_MChadronicWDecayQuark_pz);\n",
      "   fChain->SetBranchAddress(\"MChadronicWDecayQuarkBar_px\", &MChadronicWDecayQuarkBar_px, &b_MChadronicWDecayQuarkBar_px);\n",
      "   fChain->SetBranchAddress(\"MChadronicWDecayQuarkBar_py\", &MChadronicWDecayQuarkBar_py, &b_MChadronicWDecayQuarkBar_py);\n",
      "   fChain->SetBranchAddress(\"MChadronicWDecayQuarkBar_pz\", &MChadronicWDecayQuarkBar_pz, &b_MChadronicWDecayQuarkBar_pz);\n",
      "   fChain->SetBranchAddress(\"MClepton_px\", &MClepton_px, &b_MClepton_px);\n",
      "   fChain->SetBranchAddress(\"MClepton_py\", &MClepton_py, &b_MClepton_py);\n",
      "   fChain->SetBranchAddress(\"MClepton_pz\", &MClepton_pz, &b_MClepton_pz);\n",
      "   fChain->SetBranchAddress(\"MCleptonPDGid\", &MCleptonPDGid, &b_MCleptonPDGid);\n",
      "   fChain->SetBranchAddress(\"MCneutrino_px\", &MCneutrino_px, &b_MCneutrino_px);\n",
      "   fChain->SetBranchAddress(\"MCneutrino_py\", &MCneutrino_py, &b_MCneutrino_py);\n",
      "   fChain->SetBranchAddress(\"MCneutrino_pz\", &MCneutrino_pz, &b_MCneutrino_pz);\n",
      "   fChain->SetBranchAddress(\"NPrimaryVertices\", &NPrimaryVertices, &b_NPrimaryVertices);\n",
      "   fChain->SetBranchAddress(\"triggerIsoMu24\", &triggerIsoMu24, &b_triggerIsoMu24);\n",
      "   fChain->SetBranchAddress(\"EventWeight\", &EventWeight, &b_EventWeight);\n",
      "   Notify();\n",
      "}\n",
      "\n",
      "Bool_t as_a_cpp_project::Notify()\n",
      "{\n",
      "   // The Notify() function is called when a new file is opened. This\n",
      "   // can be either for a new TTree in a TChain or when when a new TTree\n",
      "   // is started when using PROOF. It is normally not necessary to make changes\n",
      "   // to the generated code, but the routine can be extended by the\n",
      "   // user if needed. The return value is currently not used.\n",
      "\n",
      "   return kTRUE;\n",
      "}\n",
      "\n",
      "void as_a_cpp_project::Show(Long64_t entry)\n",
      "{\n",
      "// Print contents of entry.\n",
      "// If entry is not specified, print current entry\n",
      "   if (!fChain) return;\n",
      "   fChain->Show(entry);\n",
      "}\n",
      "Int_t as_a_cpp_project::Cut(Long64_t entry)\n",
      "{\n",
      "// This function may be called from Loop.\n",
      "// returns  1 if entry is accepted.\n",
      "// returns -1 otherwise.\n",
      "   return 1;\n",
      "}\n",
      "#endif // #ifdef as_a_cpp_project_cxx\n"
     ]
    }
   ],
   "source": [
    "!cat as_a_cpp_project.h"
   ]
  },
  {
   "cell_type": "code",
   "execution_count": 15,
   "metadata": {},
   "outputs": [
    {
     "name": "stderr",
     "output_type": "stream",
     "text": [
      "Info in <TUnixSystem::ACLiC>: creating shared library /home/pivarski/talks/2019-06-10-usatlas-argonne-python/as_a_cpp_project_C.so\n"
     ]
    }
   ],
   "source": [
    "# Compile and load the C++\n",
    "\n",
    "ROOT.gInterpreter.ProcessLine(\".L as_a_cpp_project.C++\")\n",
    "\n",
    "# Create an instance\n",
    "loop = ROOT.as_a_cpp_project()\n",
    "\n",
    "# Run it!\n",
    "loop.Loop()"
   ]
  },
  {
   "cell_type": "code",
   "execution_count": 16,
   "metadata": {},
   "outputs": [
    {
     "data": {
      "text/plain": [
       "array([[  5.91277122,   2.5636332 ],\n",
       "       [ 24.76520348, -16.34910965],\n",
       "       [-25.78508759,  16.23713112],\n",
       "       ...,\n",
       "       [ 18.10164642,  50.29071808],\n",
       "       [ 79.87519073, -52.35145187],\n",
       "       [ 19.71374893,  -3.59541821]])"
      ]
     },
     "execution_count": 16,
     "metadata": {},
     "output_type": "execute_result"
    }
   ],
   "source": [
    "# But the way that \"plays best\" with the Python scientific ecosystem is to create Numpy arrays.\n",
    "# \n",
    "# TTree::AsMatrix() is a new function for that:\n",
    "\n",
    "tree.AsMatrix([\"MET_px\", \"MET_py\"])"
   ]
  },
  {
   "cell_type": "code",
   "execution_count": 17,
   "metadata": {},
   "outputs": [
    {
     "data": {
      "text/html": [
       "<div>\n",
       "<style scoped>\n",
       "    .dataframe tbody tr th:only-of-type {\n",
       "        vertical-align: middle;\n",
       "    }\n",
       "\n",
       "    .dataframe tbody tr th {\n",
       "        vertical-align: top;\n",
       "    }\n",
       "\n",
       "    .dataframe thead th {\n",
       "        text-align: right;\n",
       "    }\n",
       "</style>\n",
       "<table border=\"1\" class=\"dataframe\">\n",
       "  <thead>\n",
       "    <tr style=\"text-align: right;\">\n",
       "      <th></th>\n",
       "      <th>MET_px</th>\n",
       "      <th>MET_py</th>\n",
       "    </tr>\n",
       "  </thead>\n",
       "  <tbody>\n",
       "    <tr>\n",
       "      <th>0</th>\n",
       "      <td>5.912771</td>\n",
       "      <td>2.563633</td>\n",
       "    </tr>\n",
       "    <tr>\n",
       "      <th>1</th>\n",
       "      <td>24.765203</td>\n",
       "      <td>-16.349110</td>\n",
       "    </tr>\n",
       "    <tr>\n",
       "      <th>2</th>\n",
       "      <td>-25.785088</td>\n",
       "      <td>16.237131</td>\n",
       "    </tr>\n",
       "    <tr>\n",
       "      <th>3</th>\n",
       "      <td>8.619896</td>\n",
       "      <td>-22.786547</td>\n",
       "    </tr>\n",
       "    <tr>\n",
       "      <th>4</th>\n",
       "      <td>5.393139</td>\n",
       "      <td>-1.310052</td>\n",
       "    </tr>\n",
       "    <tr>\n",
       "      <th>5</th>\n",
       "      <td>-3.759475</td>\n",
       "      <td>-19.417021</td>\n",
       "    </tr>\n",
       "    <tr>\n",
       "      <th>6</th>\n",
       "      <td>23.962149</td>\n",
       "      <td>-9.049156</td>\n",
       "    </tr>\n",
       "    <tr>\n",
       "      <th>7</th>\n",
       "      <td>-57.533348</td>\n",
       "      <td>-20.487679</td>\n",
       "    </tr>\n",
       "    <tr>\n",
       "      <th>8</th>\n",
       "      <td>42.416195</td>\n",
       "      <td>-94.350861</td>\n",
       "    </tr>\n",
       "    <tr>\n",
       "      <th>9</th>\n",
       "      <td>-1.914469</td>\n",
       "      <td>-23.963034</td>\n",
       "    </tr>\n",
       "    <tr>\n",
       "      <th>10</th>\n",
       "      <td>19.710058</td>\n",
       "      <td>4.645509</td>\n",
       "    </tr>\n",
       "    <tr>\n",
       "      <th>11</th>\n",
       "      <td>-35.538055</td>\n",
       "      <td>-14.753822</td>\n",
       "    </tr>\n",
       "    <tr>\n",
       "      <th>12</th>\n",
       "      <td>15.209903</td>\n",
       "      <td>-6.397500</td>\n",
       "    </tr>\n",
       "    <tr>\n",
       "      <th>13</th>\n",
       "      <td>28.459160</td>\n",
       "      <td>5.657520</td>\n",
       "    </tr>\n",
       "    <tr>\n",
       "      <th>14</th>\n",
       "      <td>-9.093978</td>\n",
       "      <td>0.861486</td>\n",
       "    </tr>\n",
       "    <tr>\n",
       "      <th>15</th>\n",
       "      <td>0.350357</td>\n",
       "      <td>-4.255576</td>\n",
       "    </tr>\n",
       "    <tr>\n",
       "      <th>16</th>\n",
       "      <td>-0.201901</td>\n",
       "      <td>-3.499514</td>\n",
       "    </tr>\n",
       "    <tr>\n",
       "      <th>17</th>\n",
       "      <td>8.286861</td>\n",
       "      <td>-3.266164</td>\n",
       "    </tr>\n",
       "    <tr>\n",
       "      <th>18</th>\n",
       "      <td>-7.835592</td>\n",
       "      <td>-13.773303</td>\n",
       "    </tr>\n",
       "    <tr>\n",
       "      <th>19</th>\n",
       "      <td>-41.880852</td>\n",
       "      <td>-157.988144</td>\n",
       "    </tr>\n",
       "    <tr>\n",
       "      <th>20</th>\n",
       "      <td>-1.715726</td>\n",
       "      <td>19.486519</td>\n",
       "    </tr>\n",
       "    <tr>\n",
       "      <th>21</th>\n",
       "      <td>2.373739</td>\n",
       "      <td>-8.089888</td>\n",
       "    </tr>\n",
       "    <tr>\n",
       "      <th>22</th>\n",
       "      <td>-30.234993</td>\n",
       "      <td>2.027190</td>\n",
       "    </tr>\n",
       "    <tr>\n",
       "      <th>23</th>\n",
       "      <td>13.711685</td>\n",
       "      <td>-6.066514</td>\n",
       "    </tr>\n",
       "    <tr>\n",
       "      <th>24</th>\n",
       "      <td>130.723969</td>\n",
       "      <td>74.998268</td>\n",
       "    </tr>\n",
       "    <tr>\n",
       "      <th>25</th>\n",
       "      <td>-6.254472</td>\n",
       "      <td>18.144054</td>\n",
       "    </tr>\n",
       "    <tr>\n",
       "      <th>26</th>\n",
       "      <td>-14.468836</td>\n",
       "      <td>16.849669</td>\n",
       "    </tr>\n",
       "    <tr>\n",
       "      <th>27</th>\n",
       "      <td>-1.018478</td>\n",
       "      <td>-8.156774</td>\n",
       "    </tr>\n",
       "    <tr>\n",
       "      <th>28</th>\n",
       "      <td>12.017437</td>\n",
       "      <td>1.811257</td>\n",
       "    </tr>\n",
       "    <tr>\n",
       "      <th>29</th>\n",
       "      <td>-14.349060</td>\n",
       "      <td>14.992454</td>\n",
       "    </tr>\n",
       "    <tr>\n",
       "      <th>...</th>\n",
       "      <td>...</td>\n",
       "      <td>...</td>\n",
       "    </tr>\n",
       "    <tr>\n",
       "      <th>2391</th>\n",
       "      <td>5.421937</td>\n",
       "      <td>-40.910957</td>\n",
       "    </tr>\n",
       "    <tr>\n",
       "      <th>2392</th>\n",
       "      <td>10.979458</td>\n",
       "      <td>4.336320</td>\n",
       "    </tr>\n",
       "    <tr>\n",
       "      <th>2393</th>\n",
       "      <td>34.796410</td>\n",
       "      <td>-2.099867</td>\n",
       "    </tr>\n",
       "    <tr>\n",
       "      <th>2394</th>\n",
       "      <td>0.745414</td>\n",
       "      <td>-54.461945</td>\n",
       "    </tr>\n",
       "    <tr>\n",
       "      <th>2395</th>\n",
       "      <td>19.757299</td>\n",
       "      <td>-44.224178</td>\n",
       "    </tr>\n",
       "    <tr>\n",
       "      <th>2396</th>\n",
       "      <td>104.612236</td>\n",
       "      <td>-98.111153</td>\n",
       "    </tr>\n",
       "    <tr>\n",
       "      <th>2397</th>\n",
       "      <td>3.185825</td>\n",
       "      <td>79.226997</td>\n",
       "    </tr>\n",
       "    <tr>\n",
       "      <th>2398</th>\n",
       "      <td>1.150845</td>\n",
       "      <td>-3.101060</td>\n",
       "    </tr>\n",
       "    <tr>\n",
       "      <th>2399</th>\n",
       "      <td>4.515370</td>\n",
       "      <td>-4.102074</td>\n",
       "    </tr>\n",
       "    <tr>\n",
       "      <th>2400</th>\n",
       "      <td>-10.098569</td>\n",
       "      <td>-54.974846</td>\n",
       "    </tr>\n",
       "    <tr>\n",
       "      <th>2401</th>\n",
       "      <td>2.998099</td>\n",
       "      <td>21.993523</td>\n",
       "    </tr>\n",
       "    <tr>\n",
       "      <th>2402</th>\n",
       "      <td>27.944883</td>\n",
       "      <td>-37.503429</td>\n",
       "    </tr>\n",
       "    <tr>\n",
       "      <th>2403</th>\n",
       "      <td>3.787466</td>\n",
       "      <td>-21.217653</td>\n",
       "    </tr>\n",
       "    <tr>\n",
       "      <th>2404</th>\n",
       "      <td>9.378232</td>\n",
       "      <td>27.572329</td>\n",
       "    </tr>\n",
       "    <tr>\n",
       "      <th>2405</th>\n",
       "      <td>-17.310106</td>\n",
       "      <td>5.082886</td>\n",
       "    </tr>\n",
       "    <tr>\n",
       "      <th>2406</th>\n",
       "      <td>-81.965927</td>\n",
       "      <td>-11.167821</td>\n",
       "    </tr>\n",
       "    <tr>\n",
       "      <th>2407</th>\n",
       "      <td>-9.059591</td>\n",
       "      <td>-24.464552</td>\n",
       "    </tr>\n",
       "    <tr>\n",
       "      <th>2408</th>\n",
       "      <td>25.649775</td>\n",
       "      <td>-2.818718</td>\n",
       "    </tr>\n",
       "    <tr>\n",
       "      <th>2409</th>\n",
       "      <td>29.691553</td>\n",
       "      <td>56.606071</td>\n",
       "    </tr>\n",
       "    <tr>\n",
       "      <th>2410</th>\n",
       "      <td>-25.754967</td>\n",
       "      <td>14.037041</td>\n",
       "    </tr>\n",
       "    <tr>\n",
       "      <th>2411</th>\n",
       "      <td>-2.426847</td>\n",
       "      <td>-30.494087</td>\n",
       "    </tr>\n",
       "    <tr>\n",
       "      <th>2412</th>\n",
       "      <td>-15.611773</td>\n",
       "      <td>-9.571323</td>\n",
       "    </tr>\n",
       "    <tr>\n",
       "      <th>2413</th>\n",
       "      <td>18.921183</td>\n",
       "      <td>0.019401</td>\n",
       "    </tr>\n",
       "    <tr>\n",
       "      <th>2414</th>\n",
       "      <td>-11.730723</td>\n",
       "      <td>11.629858</td>\n",
       "    </tr>\n",
       "    <tr>\n",
       "      <th>2415</th>\n",
       "      <td>-10.648725</td>\n",
       "      <td>-20.464689</td>\n",
       "    </tr>\n",
       "    <tr>\n",
       "      <th>2416</th>\n",
       "      <td>-14.607650</td>\n",
       "      <td>-28.204895</td>\n",
       "    </tr>\n",
       "    <tr>\n",
       "      <th>2417</th>\n",
       "      <td>22.208313</td>\n",
       "      <td>59.774940</td>\n",
       "    </tr>\n",
       "    <tr>\n",
       "      <th>2418</th>\n",
       "      <td>18.101646</td>\n",
       "      <td>50.290718</td>\n",
       "    </tr>\n",
       "    <tr>\n",
       "      <th>2419</th>\n",
       "      <td>79.875191</td>\n",
       "      <td>-52.351452</td>\n",
       "    </tr>\n",
       "    <tr>\n",
       "      <th>2420</th>\n",
       "      <td>19.713749</td>\n",
       "      <td>-3.595418</td>\n",
       "    </tr>\n",
       "  </tbody>\n",
       "</table>\n",
       "<p>2421 rows × 2 columns</p>\n",
       "</div>"
      ],
      "text/plain": [
       "          MET_px      MET_py\n",
       "0       5.912771    2.563633\n",
       "1      24.765203  -16.349110\n",
       "2     -25.785088   16.237131\n",
       "3       8.619896  -22.786547\n",
       "4       5.393139   -1.310052\n",
       "5      -3.759475  -19.417021\n",
       "6      23.962149   -9.049156\n",
       "7     -57.533348  -20.487679\n",
       "8      42.416195  -94.350861\n",
       "9      -1.914469  -23.963034\n",
       "10     19.710058    4.645509\n",
       "11    -35.538055  -14.753822\n",
       "12     15.209903   -6.397500\n",
       "13     28.459160    5.657520\n",
       "14     -9.093978    0.861486\n",
       "15      0.350357   -4.255576\n",
       "16     -0.201901   -3.499514\n",
       "17      8.286861   -3.266164\n",
       "18     -7.835592  -13.773303\n",
       "19    -41.880852 -157.988144\n",
       "20     -1.715726   19.486519\n",
       "21      2.373739   -8.089888\n",
       "22    -30.234993    2.027190\n",
       "23     13.711685   -6.066514\n",
       "24    130.723969   74.998268\n",
       "25     -6.254472   18.144054\n",
       "26    -14.468836   16.849669\n",
       "27     -1.018478   -8.156774\n",
       "28     12.017437    1.811257\n",
       "29    -14.349060   14.992454\n",
       "...          ...         ...\n",
       "2391    5.421937  -40.910957\n",
       "2392   10.979458    4.336320\n",
       "2393   34.796410   -2.099867\n",
       "2394    0.745414  -54.461945\n",
       "2395   19.757299  -44.224178\n",
       "2396  104.612236  -98.111153\n",
       "2397    3.185825   79.226997\n",
       "2398    1.150845   -3.101060\n",
       "2399    4.515370   -4.102074\n",
       "2400  -10.098569  -54.974846\n",
       "2401    2.998099   21.993523\n",
       "2402   27.944883  -37.503429\n",
       "2403    3.787466  -21.217653\n",
       "2404    9.378232   27.572329\n",
       "2405  -17.310106    5.082886\n",
       "2406  -81.965927  -11.167821\n",
       "2407   -9.059591  -24.464552\n",
       "2408   25.649775   -2.818718\n",
       "2409   29.691553   56.606071\n",
       "2410  -25.754967   14.037041\n",
       "2411   -2.426847  -30.494087\n",
       "2412  -15.611773   -9.571323\n",
       "2413   18.921183    0.019401\n",
       "2414  -11.730723   11.629858\n",
       "2415  -10.648725  -20.464689\n",
       "2416  -14.607650  -28.204895\n",
       "2417   22.208313   59.774940\n",
       "2418   18.101646   50.290718\n",
       "2419   79.875191  -52.351452\n",
       "2420   19.713749   -3.595418\n",
       "\n",
       "[2421 rows x 2 columns]"
      ]
     },
     "execution_count": 17,
     "metadata": {},
     "output_type": "execute_result"
    }
   ],
   "source": [
    "# Use return_labels=True to interface with Pandas.\n",
    "\n",
    "data, labels = tree.AsMatrix([\"MET_px\", \"MET_py\"], return_labels=True)\n",
    "\n",
    "import pandas\n",
    "df = pandas.DataFrame(data, columns=labels)\n",
    "df"
   ]
  },
  {
   "cell_type": "code",
   "execution_count": 18,
   "metadata": {},
   "outputs": [
    {
     "data": {
      "text/plain": [
       "array([[0.],\n",
       "       [0.],\n",
       "       [0.],\n",
       "       ...,\n",
       "       [0.],\n",
       "       [0.],\n",
       "       [0.]])"
      ]
     },
     "execution_count": 18,
     "metadata": {},
     "output_type": "execute_result"
    },
    {
     "name": "stderr",
     "output_type": "stream",
     "text": [
      "Error in <TTreeReaderValueBase::GetBranchDataType()>: Must use TTreeReaderArray to read branch Muon_Px: it contains an array or a collection.\n",
      "Error in <TTreeReaderValueBase::CreateProxy()>: The branch Muon_Px contains data of type {UNDETERMINED TYPE}, which does not have a dictionary.\n"
     ]
    }
   ],
   "source": [
    "# But the word \"matrix\" is to be taken seriously: it is only for one-per-event data.\n",
    "\n",
    "tree.AsMatrix([\"Muon_Px\"])"
   ]
  },
  {
   "cell_type": "code",
   "execution_count": 19,
   "metadata": {},
   "outputs": [
    {
     "data": {
      "image/png": "[encoded data removed]",
      "text/plain": [
       "<IPython.core.display.Image object>"
      ]
     },
     "metadata": {},
     "output_type": "display_data"
    }
   ],
   "source": [
    "# RDataFrame is ROOT's new preferred way of processing TTrees.\n",
    "# You can define a dataflow in Python, but the code that runs in each event is in C++ (in the strings).\n",
    "\n",
    "rdf = ROOT.RDataFrame(\"events\", \"data/HZZ.root\")\n",
    "h = (rdf.Filter(\"NMuon >= 2\")\n",
    "        .Define(\"zmass\", r\"\"\"(TLorentzVector(Muon_Px[0], Muon_Py[0], Muon_Pz[0], Muon_E[0]) +\n",
    "                              TLorentzVector(Muon_Px[1], Muon_Py[1], Muon_Pz[1], Muon_E[1])).M()\"\"\")\n",
    "        .Histo1D((\"\", \"\", 120, 0, 120), \"zmass\"))\n",
    "h.Draw()\n",
    "canvas.Draw()"
   ]
  },
  {
   "cell_type": "markdown",
   "metadata": {},
   "source": [
    "<img src=\"img/03-coming-soon-2.png\" width=\"100%\">"
   ]
  }
 ],
 "metadata": {
  "kernelspec": {
   "display_name": "Python 3",
   "language": "python",
   "name": "python3"
  },
  "language_info": {
   "codemirror_mode": {
    "name": "ipython",
    "version": 3
   },
   "file_extension": ".py",
   "mimetype": "text/x-python",
   "name": "python",
   "nbconvert_exporter": "python",
   "pygments_lexer": "ipython3",
   "version": "3.7.2"
  }
 },
 "nbformat": 4,
 "nbformat_minor": 2
}
