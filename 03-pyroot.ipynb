{
 "cells": [
  {
   "cell_type": "markdown",
   "metadata": {},
   "source": [
    "<br><br><br><br><br>\n",
    "\n",
    "# PyROOT: ROOT in Python\n",
    "\n",
    "<br><br><br><br><br>"
   ]
  },
  {
   "cell_type": "markdown",
   "metadata": {},
   "source": [
    "<br><br>\n",
    "\n",
    "<p style=\"font-size: 1.25em\">Show of hands:</p>\n",
    "\n",
    "   1. Who hasn't heard of ROOT?\n",
    "   2. Who hasn't heard of PyROOT?\n",
    "   3. Who hasn't ever used PyROOT?\n",
    "   4. Who doesn't use PyROOT regularly?\n",
    "\n",
    "<br><br>"
   ]
  },
  {
   "cell_type": "code",
   "execution_count": 1,
   "metadata": {},
   "outputs": [
    {
     "name": "stdout",
     "output_type": "stream",
     "text": [
      "Welcome to JupyROOT 6.17/01\n"
     ]
    },
    {
     "data": {
      "image/png": "[encoded data removed]",
      "text/plain": [
       "<IPython.core.display.Image object>"
      ]
     },
     "metadata": {},
     "output_type": "display_data"
    }
   ],
   "source": [
    "import ROOT                                      # PyROOT\n",
    "\n",
    "file = ROOT.TFile(\"data/HZZ.root\")               # PyROOT transliterates C++ syntax to Python\n",
    "tree = file.Get(\"events\")\n",
    "\n",
    "canvas = ROOT.TCanvas(\"canvas\", \"\", 400, 300)    # Jupyter-ROOT only: need to create TCanvas\n",
    "tree.Draw(\"Muon_Px\")\n",
    "canvas.Draw()                                    # and Draw it to see plots inline"
   ]
  },
  {
   "cell_type": "code",
   "execution_count": 2,
   "metadata": {},
   "outputs": [
    {
     "name": "stdout",
     "output_type": "stream",
     "text": [
      "Another Jupyter-ROOT feature: C++ cells!\n",
      "\n"
     ]
    },
    {
     "data": {
      "image/png": "[encoded data removed]",
      "text/plain": [
       "<IPython.core.display.Image object>"
      ]
     },
     "metadata": {},
     "output_type": "display_data"
    }
   ],
   "source": [
    "%%cpp\n",
    "\n",
    "std::cout << \"Another Jupyter-ROOT feature: C++ cells!\" << std::endl << std::endl;\n",
    "\n",
    "events->Draw(\"sqrt(Muon_Px**2 + Muon_Py**2 + Muon_Pz**2)\");\n",
    "canvas->Draw();"
   ]
  },
  {
   "cell_type": "code",
   "execution_count": 3,
   "metadata": {},
   "outputs": [],
   "source": [
    "%%cpp -d\n",
    "\n",
    "double define_cpp_functions(double a, double b) {\n",
    "    return a + b;\n",
    "}"
   ]
  },
  {
   "cell_type": "code",
   "execution_count": 4,
   "metadata": {},
   "outputs": [
    {
     "data": {
      "text/plain": [
       "103.14"
      ]
     },
     "execution_count": 4,
     "metadata": {},
     "output_type": "execute_result"
    }
   ],
   "source": [
    "# ... that you can use on both sides of the divide.\n",
    "\n",
    "ROOT.define_cpp_functions(3.14, 100)"
   ]
  },
  {
   "cell_type": "code",
   "execution_count": 5,
   "metadata": {},
   "outputs": [
    {
     "data": {
      "text/plain": [
       "1860867.0"
      ]
     },
     "execution_count": 5,
     "metadata": {},
     "output_type": "execute_result"
    }
   ],
   "source": [
    "# PyROOT's ability to bind any C++ function to Python, without user intervention,\n",
    "# is unique and far-reaching.\n",
    "# \n",
    "# Even if you're not in Jupyter (i.e. a script running in a batch job), you can use it:\n",
    "\n",
    "ROOT.gInterpreter.Declare(r\"\"\"\n",
    "double another_cpp_function(double x) {\n",
    "    return x*x*x;\n",
    "}\n",
    "\"\"\")\n",
    "\n",
    "ROOT.another_cpp_function(123)"
   ]
  },
  {
   "cell_type": "code",
   "execution_count": 31,
   "metadata": {},
   "outputs": [
    {
     "data": {
      "text/plain": [
       "25.0"
      ]
     },
     "execution_count": 31,
     "metadata": {},
     "output_type": "execute_result"
    }
   ],
   "source": [
    "# Unfortunately, you can't redefine C++ functions, which makes interactive work difficult.\n",
    "# \n",
    "# Here's what I do:\n",
    "\n",
    "pyname = \"cpp_func\"\n",
    "cppname = pyname + \"_%d\" % sum(1 if x.startswith(pyname) else 0 for x in dir(ROOT))\n",
    "ROOT.gInterpreter.Declare(r\"\"\"\n",
    "\n",
    "double \"\"\" + cppname + r\"\"\"(double x) {\n",
    "    return x*x;\n",
    "}\n",
    "\n",
    "\"\"\")\n",
    "exec(f\"{pyname} = ROOT.{cppname}\")\n",
    "\n",
    "cpp_func(5)"
   ]
  },
  {
   "cell_type": "code",
   "execution_count": 6,
   "metadata": {},
   "outputs": [
    {
     "data": {
      "text/plain": [
       "array([   0.       ,    1.       ,    1.4142135, ...,  999.999    ,\n",
       "        999.9995   , 1000.       ], dtype=float32)"
      ]
     },
     "execution_count": 6,
     "metadata": {},
     "output_type": "execute_result"
    }
   ],
   "source": [
    "# Most importantly, you can pass Numpy arrays.\n",
    "# The bridge might be slow, but you can move a lot of data at once by casting an array,\n",
    "# then do work on the C++ side.\n",
    "\n",
    "import numpy\n",
    "values = numpy.arange(1000001, dtype=numpy.float32)\n",
    "\n",
    "ROOT.gInterpreter.Declare(r\"\"\"\n",
    "void cpp_on_numpy(int how_many, float* values) {\n",
    "    for (int i = 0;  i < how_many;  i++) {\n",
    "        values[i] = sqrt(values[i]);\n",
    "    }\n",
    "}\n",
    "\"\"\")\n",
    "\n",
    "ROOT.cpp_on_numpy(len(values), values)\n",
    "values"
   ]
  },
  {
   "cell_type": "code",
   "execution_count": 7,
   "metadata": {},
   "outputs": [
    {
     "data": {
      "text/plain": [
       "[0.0, 1.0, 2.0, 3.0, 4.0, 5.0, 6.0, 7.0, 8.0, 9.0]"
      ]
     },
     "execution_count": 7,
     "metadata": {},
     "output_type": "execute_result"
    }
   ],
   "source": [
    "# A raw C array interface is a little dangerous because the wrong len(values) will seg-fault.\n",
    "# Use std::vectors instead.\n",
    "\n",
    "a_vector = ROOT.std.vector(\"float\")(1000001)\n",
    "a_array = numpy.asarray(a_vector)\n",
    "\n",
    "# a_array is viewing the same data as a_vector: changing one changes the other.\n",
    "a_array[:] = numpy.arange(1000001, dtype=numpy.float32)\n",
    "\n",
    "list(a_vector[:10])"
   ]
  },
  {
   "cell_type": "markdown",
   "metadata": {},
   "source": [
    "<br><br>\n",
    "\n",
    "<p style=\"font-size: 2em; font-weight: bold\">Reminder:</p>\n",
    "\n",
    "<br>\n",
    "\n",
    "<center><img src=\"img/numpy-memory-layout.png\" width=\"75%\"></center>\n",
    "\n",
    "<br><br>"
   ]
  },
  {
   "cell_type": "code",
   "execution_count": 12,
   "metadata": {},
   "outputs": [
    {
     "data": {
      "text/plain": [
       "array([   0.        ,    1.        ,    1.41421354, ...,  999.99902344,\n",
       "        999.99951172, 1000.        ])"
      ]
     },
     "execution_count": 12,
     "metadata": {},
     "output_type": "execute_result"
    }
   ],
   "source": [
    "ROOT.gInterpreter.Declare(r\"\"\"\n",
    "std::vector<double> cpp_on_vector(std::vector<float> &a_vector) {\n",
    "    std::vector<double> out;\n",
    "    out.reserve(a_vector.size());\n",
    "    for (auto x : a_vector) {\n",
    "        out.push_back(sqrt(x));\n",
    "    }\n",
    "    return out;\n",
    "}\n",
    "\"\"\")\n",
    "\n",
    "numpy.asarray(ROOT.cpp_on_vector(a_vector))"
   ]
  },
  {
   "cell_type": "code",
   "execution_count": 14,
   "metadata": {},
   "outputs": [
    {
     "data": {
      "text/plain": [
       "  C_CONTIGUOUS : True\n",
       "  F_CONTIGUOUS : True\n",
       "  OWNDATA : False\n",
       "  WRITEABLE : True\n",
       "  ALIGNED : True\n",
       "  WRITEBACKIFCOPY : False\n",
       "  UPDATEIFCOPY : False"
      ]
     },
     "execution_count": 14,
     "metadata": {},
     "output_type": "execute_result"
    }
   ],
   "source": [
    "# Unlike arrays created by Numpy, vectors are \"owned\" by C++.\n",
    "# They'll stay in memory until deleted in ROOT, and Numpy isn't informed (potential for seg-faults.)\n",
    "\n",
    "a_array.flags"
   ]
  },
  {
   "cell_type": "code",
   "execution_count": 18,
   "metadata": {},
   "outputs": [
    {
     "data": {
      "text/plain": [
       "(0, 0, 1000001)"
      ]
     },
     "execution_count": 18,
     "metadata": {},
     "output_type": "execute_result"
    }
   ],
   "source": [
    "# For example, clearing and shrinking the vector frees its memory for other data to be allocated.\n",
    "# Numpy doesn't know this and continues to look at those bytes, regardless of what they might contain.\n",
    "# \n",
    "# Accessing the array (e.g. printing on the screen) *might* cause a seg-fault.\n",
    "# Changing the array values *would likely* cause a seg-fault (or worse: corrupt data).\n",
    "\n",
    "a_vector.clear()\n",
    "a_vector.shrink_to_fit()\n",
    "\n",
    "len(a_vector), a_vector.capacity(), len(a_array)"
   ]
  },
  {
   "cell_type": "code",
   "execution_count": null,
   "metadata": {},
   "outputs": [],
   "source": []
  }
 ],
 "metadata": {
  "kernelspec": {
   "display_name": "Python 3",
   "language": "python",
   "name": "python3"
  },
  "language_info": {
   "codemirror_mode": {
    "name": "ipython",
    "version": 3
   },
   "file_extension": ".py",
   "mimetype": "text/x-python",
   "name": "python",
   "nbconvert_exporter": "python",
   "pygments_lexer": "ipython3",
   "version": "3.7.2"
  }
 },
 "nbformat": 4,
 "nbformat_minor": 2
}
